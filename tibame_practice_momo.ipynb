{
  "nbformat": 4,
  "nbformat_minor": 0,
  "metadata": {
    "colab": {
      "provenance": [],
      "authorship_tag": "ABX9TyOheM6tMfm0qWfVfgoSzJif",
      "include_colab_link": true
    },
    "kernelspec": {
      "name": "python3",
      "display_name": "Python 3"
    },
    "language_info": {
      "name": "python"
    }
  },
  "cells": [
    {
      "cell_type": "markdown",
      "metadata": {
        "id": "view-in-github",
        "colab_type": "text"
      },
      "source": [
        "<a href=\"https://colab.research.google.com/github/Elwing-Chou/tibame_0618/blob/main/tibame_practice_momo.ipynb\" target=\"_parent\"><img src=\"https://colab.research.google.com/assets/colab-badge.svg\" alt=\"Open In Colab\"/></a>"
      ]
    },
    {
      "cell_type": "code",
      "source": [
        "!pip install dirtyjson"
      ],
      "metadata": {
        "colab": {
          "base_uri": "https://localhost:8080/"
        },
        "id": "kK7tkEF91aY4",
        "outputId": "a31c1fb8-e51d-4647-ec70-23016dc5e3e4"
      },
      "execution_count": 17,
      "outputs": [
        {
          "output_type": "stream",
          "name": "stdout",
          "text": [
            "Collecting dirtyjson\n",
            "  Downloading dirtyjson-1.0.8-py3-none-any.whl.metadata (11 kB)\n",
            "Downloading dirtyjson-1.0.8-py3-none-any.whl (25 kB)\n",
            "Installing collected packages: dirtyjson\n",
            "Successfully installed dirtyjson-1.0.8\n"
          ]
        }
      ]
    },
    {
      "cell_type": "code",
      "execution_count": 24,
      "metadata": {
        "id": "l0nBUCq6zK7r"
      },
      "outputs": [],
      "source": [
        "import urllib.request as req\n",
        "import bs4 as bs\n",
        "import json\n",
        "import dirtyjson\n",
        "\n",
        "url = \"https://www.momoshop.com.tw/search/searchShop.jsp?keyword=%E5%90%B9%E9%A2%A8%E6%A9%9F&_isFuzzy=0&searchType=1&cateLevel=0\"\n",
        "resp = req.urlopen(url)\n",
        "html = bs.BeautifulSoup(resp.read())\n",
        "\n",
        "scripts = html.find_all(\"script\")\n",
        "target_script = None\n",
        "for script in scripts:\n",
        "    if \"@type\" in script.text:\n",
        "        target_script = script\n",
        "        break\n",
        "datas = dirtyjson.loads(target_script.text)\n",
        "f = open(\"data.json\", \"w\", encoding=\"utf-8\")\n",
        "json.dump(datas, f, indent=4, ensure_ascii=False)\n",
        "f.close()"
      ]
    },
    {
      "cell_type": "code",
      "source": [
        "import urllib.request as req\n",
        "import bs4 as bs\n",
        "import json\n",
        "import dirtyjson\n",
        "\n",
        "url = \"https://www.momoshop.com.tw/search/searchShop.jsp?keyword=%E5%90%B9%E9%A2%A8%E6%A9%9F&_isFuzzy=0&searchType=1&cateLevel=0\"\n",
        "resp = req.urlopen(url)\n",
        "html = bs.BeautifulSoup(resp.read())\n",
        "\n",
        "scripts = html.find_all(\"script\")\n",
        "target_script = None\n",
        "for script in scripts:\n",
        "    if \"@type\" in script.text:\n",
        "        target_script = script\n",
        "        break\n",
        "datas = dirtyjson.loads(target_script.text)\n",
        "items = datas[\"mainEntity\"][\"itemListElement\"]\n",
        "for item in items:\n",
        "    item_name = item[\"name\"]\n",
        "    item_image = item[\"image\"]\n",
        "    item_url = item[\"url\"]\n",
        "    item_price = item[\"offers\"][\"price\"]\n",
        "    print(item_name)\n",
        "    print(item_image)\n",
        "    print(item_url)\n",
        "    print(item_price)\n",
        "    # 你要再進去每個item的url\n",
        "    # 介紹/品牌/三個價格"
      ],
      "metadata": {
        "colab": {
          "base_uri": "https://localhost:8080/"
        },
        "id": "iPsJcOCp4Z5N",
        "outputId": "1a8c6989-7d44-4dd5-b998-cb9dce406fb2"
      },
      "execution_count": 27,
      "outputs": [
        {
          "output_type": "stream",
          "name": "stdout",
          "text": [
            "【KINYO】BLDC高速無刷負離子吹風機KH-9688(11萬轉速2億負離子)\n",
            "https://img1.momoshop.com.tw/goodsimg/0013/880/987/13880987_OL.jpg?t=1749099769\n",
            "https://www.momoshop.com.tw/goods/GoodsDetail.jsp?i_code=13880987&Area=search&mdiv=403&oid=1_1&cid=index&kw=%E5%90%B9%E9%A2%A8%E6%A9%9F\n",
            "1680\n",
            "【dyson 戴森】HD08 Origin Supersonic 吹風機 溫控 負離子(瑰麗紅色 平裝版)\n",
            "https://img1.momoshop.com.tw/goodsimg/0012/749/140/12749140_OL.jpg?t=1751612057\n",
            "https://www.momoshop.com.tw/goods/GoodsDetail.jsp?i_code=12749140&Area=search&mdiv=403&oid=1_2&cid=index&kw=%E5%90%B9%E9%A2%A8%E6%A9%9F\n",
            "7999\n",
            "【小不記】可折疊高速負離子吹風機 強勁大風量(智能控溫護髮 速乾 附吹風機收納架)\n",
            "https://img1.momoshop.com.tw/goodsimg/0011/977/069/11977069_OL.jpg?t=1744369723\n",
            "https://www.momoshop.com.tw/goods/GoodsDetail.jsp?i_code=11977069&Area=search&mdiv=403&oid=1_3&cid=index&kw=%E5%90%B9%E9%A2%A8%E6%A9%9F\n",
            "555\n",
            "【KINYO】全球電壓無刷吹風機(全球電壓/四億負離子 KH-9660)\n",
            "https://img1.momoshop.com.tw/goodsimg/0013/624/424/13624424_OL.jpg?t=1736571768\n",
            "https://www.momoshop.com.tw/goods/GoodsDetail.jsp?i_code=13624424&Area=search&mdiv=403&oid=1_4&cid=index&kw=%E5%90%B9%E9%A2%A8%E6%A9%9F\n",
            "2780\n",
            "【TECO 東元】BLDC專業負離子吹風機(XYFXZ003)\n",
            "https://img1.momoshop.com.tw/goodsimg/0013/448/304/13448304_OL.jpg?t=1745989260\n",
            "https://www.momoshop.com.tw/goods/GoodsDetail.jsp?i_code=13448304&Area=search&mdiv=403&oid=1_5&cid=index&kw=%E5%90%B9%E9%A2%A8%E6%A9%9F\n",
            "1990\n",
            "【SHARP 夏普】四氣流水潤溫控吹風機-午夜黑(IB-WX901T-B)\n",
            "https://img1.momoshop.com.tw/goodsimg/0012/812/146/12812146_OL.jpg?t=1746075869\n",
            "https://www.momoshop.com.tw/goods/GoodsDetail.jsp?i_code=12812146&Area=search&mdiv=403&oid=1_6&cid=index&kw=%E5%90%B9%E9%A2%A8%E6%A9%9F\n",
            "7490\n",
            "【Panasonic 國際牌】奈米水離子吹風機(EH-NA27-W)\n",
            "https://img1.momoshop.com.tw/goodsimg/0007/597/129/7597129_OL.jpg?t=1744693376\n",
            "https://www.momoshop.com.tw/goods/GoodsDetail.jsp?i_code=7597129&Area=search&mdiv=403&oid=1_7&cid=index&kw=%E5%90%B9%E9%A2%A8%E6%A9%9F\n",
            "1599\n",
            "【MIDORI 美多莉】Hypersonic高速負離子吹風機-霧夜金(全配組-不含收納架)\n",
            "https://img1.momoshop.com.tw/goodsimg/0011/280/148/11280148_OL.jpg?t=1735880731\n",
            "https://www.momoshop.com.tw/goods/GoodsDetail.jsp?i_code=11280148&Area=search&mdiv=403&oid=1_8&cid=index&kw=%E5%90%B9%E9%A2%A8%E6%A9%9F\n",
            "1999\n",
            "【KINYO】全球電壓無刷吹風機(全球電壓/四億負離子 KH-9660)\n",
            "https://img1.momoshop.com.tw/goodsimg/0013/624/424/13624424_OL.jpg?t=1736571768\n",
            "https://www.momoshop.com.tw/goods/GoodsDetail.jsp?i_code=13624424&Area=search&mdiv=403&oid=1_9&cid=index&kw=%E5%90%B9%E9%A2%A8%E6%A9%9F\n",
            "2780\n",
            "【Panasonic 國際牌】高速馬達負離子吹風機(EH-NE6M)\n",
            "https://img1.momoshop.com.tw/goodsimg/0014/025/637/14025637_OL.jpg?t=1747402946\n",
            "https://www.momoshop.com.tw/goods/GoodsDetail.jsp?i_code=14025637&Area=search&mdiv=403&oid=1_10&cid=index&kw=%E5%90%B9%E9%A2%A8%E6%A9%9F\n",
            "2399\n",
            "【Panasonic 國際牌】高速馬達吹風機-奶茶(EH-NE6M-C)\n",
            "https://img1.momoshop.com.tw/goodsimg/0013/516/155/13516155_OL.jpg?t=1735707777\n",
            "https://www.momoshop.com.tw/goods/GoodsDetail.jsp?i_code=13516155&Area=search&mdiv=403&oid=1_11&cid=index&kw=%E5%90%B9%E9%A2%A8%E6%A9%9F\n",
            "2399\n",
            "【小米官方旗艦館】Xiaomi 負離子高速吹風機\n",
            "https://img1.momoshop.com.tw/goodsimg/0013/428/088/13428088_OL.jpg?t=1744434159\n",
            "https://www.momoshop.com.tw/goods/GoodsDetail.jsp?i_code=13428088&Area=search&mdiv=403&oid=1_12&cid=index&kw=%E5%90%B9%E9%A2%A8%E6%A9%9F\n",
            "1295\n",
            "【Panasonic 國際牌】奈米水離子吹風機(EH-NA27-PP)\n",
            "https://img1.momoshop.com.tw/goodsimg/0007/597/128/7597128_OL.jpg?t=1744693376\n",
            "https://www.momoshop.com.tw/goods/GoodsDetail.jsp?i_code=7597128&Area=search&mdiv=403&oid=1_13&cid=index&kw=%E5%90%B9%E9%A2%A8%E6%A9%9F\n",
            "1599\n",
            "【Dreame 追覓科技】Pocket Uni 魔術折疊高速吹風機(100-240V國際電壓版)\n",
            "https://img1.momoshop.com.tw/goodsimg/0014/037/604/14037604_OL.jpg?t=1747823583\n",
            "https://www.momoshop.com.tw/goods/GoodsDetail.jsp?i_code=14037604&Area=search&mdiv=403&oid=1_14&cid=index&kw=%E5%90%B9%E9%A2%A8%E6%A9%9F\n",
            "4980\n",
            "【Panasonic 國際牌】奈米水離子吹風機-搭載捲髮定型烘罩(EH-NA9L-RP)\n",
            "https://img1.momoshop.com.tw/goodsimg/0010/567/753/10567753_OL.jpg?t=1744693421\n",
            "https://www.momoshop.com.tw/goods/GoodsDetail.jsp?i_code=10567753&Area=search&mdiv=403&oid=1_15&cid=index&kw=%E5%90%B9%E9%A2%A8%E6%A9%9F\n",
            "4199\n",
            "【TESCOM】大風量負離子吹風機(TID450TW)\n",
            "https://img1.momoshop.com.tw/goodsimg/0004/610/491/4610491_OL.jpg?t=1748922921\n",
            "https://www.momoshop.com.tw/goods/GoodsDetail.jsp?i_code=4610491&Area=search&mdiv=403&oid=1_16&cid=index&kw=%E5%90%B9%E9%A2%A8%E6%A9%9F\n",
            "649\n",
            "【SOLAC】專業負離子吹風機  白/紫/灰/粉 色(SD-1000)\n",
            "https://img1.momoshop.com.tw/goodsimg/0009/360/000/9360000_OL.jpg?t=1737538813\n",
            "https://www.momoshop.com.tw/goods/GoodsDetail.jsp?i_code=9360000&Area=search&mdiv=403&oid=1_17&cid=index&kw=%E5%90%B9%E9%A2%A8%E6%A9%9F\n",
            "3499\n",
            "【TESCOM】BLDC輕巧負離子吹風機(TD760TW)\n",
            "https://img1.momoshop.com.tw/goodsimg/0013/162/503/13162503_OL.jpg?t=1748922865\n",
            "https://www.momoshop.com.tw/goods/GoodsDetail.jsp?i_code=13162503&Area=search&mdiv=403&oid=1_18&cid=index&kw=%E5%90%B9%E9%A2%A8%E6%A9%9F\n",
            "1690\n",
            "【TESCOM】大風量負離子吹風機(TID292TW)\n",
            "https://img1.momoshop.com.tw/goodsimg/0005/722/861/5722861_OL.jpg?t=1748922915\n",
            "https://www.momoshop.com.tw/goods/GoodsDetail.jsp?i_code=5722861&Area=search&mdiv=403&oid=1_19&cid=index&kw=%E5%90%B9%E9%A2%A8%E6%A9%9F\n",
            "459\n",
            "【Panasonic 國際牌】奈米水離子吹風機-銀(EH-NA7M-H)\n",
            "https://img1.momoshop.com.tw/goodsimg/0013/277/461/13277461_OL.jpg?t=1749877412\n",
            "https://www.momoshop.com.tw/goods/GoodsDetail.jsp?i_code=13277461&Area=search&mdiv=403&oid=1_20&cid=index&kw=%E5%90%B9%E9%A2%A8%E6%A9%9F\n",
            "3788\n",
            "【dyson 戴森】HD15 Supersonic 吹風機 溫控 負離子(普魯士藍禮盒版)\n",
            "https://img1.momoshop.com.tw/goodsimg/0013/924/825/13924825_OL.jpg?t=1751525097\n",
            "https://www.momoshop.com.tw/goods/GoodsDetail.jsp?i_code=13924825&Area=search&mdiv=403&oid=1_21&cid=index&kw=%E5%90%B9%E9%A2%A8%E6%A9%9F\n",
            "9999\n",
            "【TESCOM】(福利品微盒損)防靜電負離子大風量渦流吹風機 TID2200TW(-珍珠白)\n",
            "https://img1.momoshop.com.tw/goodsimg/0012/804/348/12804348_OL.jpg?t=1714714684\n",
            "https://www.momoshop.com.tw/goods/GoodsDetail.jsp?i_code=12804348&Area=search&mdiv=403&oid=1_22&cid=index&kw=%E5%90%B9%E9%A2%A8%E6%A9%9F\n",
            "899\n",
            "【Philips 飛利浦】官方直營 沙龍級護髮負離子吹風機-霧藍黑(BHD518/01)\n",
            "https://img1.momoshop.com.tw/goodsimg/0009/723/946/9723946_OL.jpg?t=1751346139\n",
            "https://www.momoshop.com.tw/goods/GoodsDetail.jsp?i_code=9723946&Area=search&mdiv=403&oid=1_23&cid=index&kw=%E5%90%B9%E9%A2%A8%E6%A9%9F\n",
            "1688\n",
            "【TESCOM】專業型大風量負離子吹風機(TID960TW)\n",
            "https://img1.momoshop.com.tw/goodsimg/0003/555/509/3555509_OL.jpg?t=1748922928\n",
            "https://www.momoshop.com.tw/goods/GoodsDetail.jsp?i_code=3555509&Area=search&mdiv=403&oid=1_24&cid=index&kw=%E5%90%B9%E9%A2%A8%E6%A9%9F\n",
            "869\n",
            "【小米官方旗艦館】小米負離子吹風機 H300 白色\n",
            "https://img1.momoshop.com.tw/goodsimg/0013/150/543/13150543_OL.jpg?t=1744434149\n",
            "https://www.momoshop.com.tw/goods/GoodsDetail.jsp?i_code=13150543&Area=search&mdiv=403&oid=1_25&cid=index&kw=%E5%90%B9%E9%A2%A8%E6%A9%9F\n",
            "595\n",
            "【Panasonic 國際牌】奈米水離子吹風機-灰(EH-NA9N-H)\n",
            "https://img1.momoshop.com.tw/goodsimg/0013/533/940/13533940_OL.jpg?t=1733980008\n",
            "https://www.momoshop.com.tw/goods/GoodsDetail.jsp?i_code=13533940&Area=search&mdiv=403&oid=1_26&cid=index&kw=%E5%90%B9%E9%A2%A8%E6%A9%9F\n",
            "5290\n",
            "【Dreame 追覓科技】Pocket 魔術折疊高速吹風機 低壓版110V(直捲吹三用/180度折疊/300g超輕量/11萬轉馬達)\n",
            "https://img1.momoshop.com.tw/goodsimg/0012/855/075/12855075_OL.jpg?t=1722004119\n",
            "https://www.momoshop.com.tw/goods/GoodsDetail.jsp?i_code=12855075&Area=search&mdiv=403&oid=1_27&cid=index&kw=%E5%90%B9%E9%A2%A8%E6%A9%9F\n",
            "3999\n",
            "【Panasonic 國際牌】高滲透奈米水離子吹風機(EH-NA0J)\n",
            "https://img1.momoshop.com.tw/goodsimg/0010/977/557/10977557_OL.jpg?t=1692458355\n",
            "https://www.momoshop.com.tw/goods/GoodsDetail.jsp?i_code=10977557&Area=search&mdiv=403&oid=1_28&cid=index&kw=%E5%90%B9%E9%A2%A8%E6%A9%9F\n",
            "7999\n",
            "【Panasonic 國際牌】高速馬達吹風機-藍(EH-NE6M-A)\n",
            "https://img1.momoshop.com.tw/goodsimg/0013/516/154/13516154_OL.jpg?t=1735707777\n",
            "https://www.momoshop.com.tw/goods/GoodsDetail.jsp?i_code=13516154&Area=search&mdiv=403&oid=1_29&cid=index&kw=%E5%90%B9%E9%A2%A8%E6%A9%9F\n",
            "2399\n",
            "【Laifen 徠芬】徠芬SE 高速負離子吹風機(全球銷售千萬支)\n",
            "https://img1.momoshop.com.tw/goodsimg/0013/773/083/13773083_OL.jpg?t=1747627035\n",
            "https://www.momoshop.com.tw/goods/GoodsDetail.jsp?i_code=13773083&Area=search&mdiv=403&oid=1_30&cid=index&kw=%E5%90%B9%E9%A2%A8%E6%A9%9F\n",
            "3290\n"
          ]
        }
      ]
    }
  ]
}