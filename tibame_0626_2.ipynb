{
  "nbformat": 4,
  "nbformat_minor": 0,
  "metadata": {
    "colab": {
      "provenance": [],
      "authorship_tag": "ABX9TyMMsfvYRZIn/ilUaTcUIwOV",
      "include_colab_link": true
    },
    "kernelspec": {
      "name": "python3",
      "display_name": "Python 3"
    },
    "language_info": {
      "name": "python"
    }
  },
  "cells": [
    {
      "cell_type": "markdown",
      "metadata": {
        "id": "view-in-github",
        "colab_type": "text"
      },
      "source": [
        "<a href=\"https://colab.research.google.com/github/Elwing-Chou/tibame_0618/blob/main/tibame_0626_2.ipynb\" target=\"_parent\"><img src=\"https://colab.research.google.com/assets/colab-badge.svg\" alt=\"Open In Colab\"/></a>"
      ]
    },
    {
      "cell_type": "code",
      "execution_count": 4,
      "metadata": {
        "colab": {
          "base_uri": "https://localhost:8080/"
        },
        "id": "6oh_dQoH02Yn",
        "outputId": "40a7a087-07ae-4b19-e793-4987d109d49e"
      },
      "outputs": [
        {
          "output_type": "stream",
          "name": "stdout",
          "text": [
            "06:26 02:14\n",
            "06:30 01:45\n",
            "06:51 01:59\n",
            "07:11 02:14\n",
            "07:31 01:34\n",
            "07:46 01:59\n",
            "07:51 01:39\n",
            "08:01 01:59\n",
            "08:11 02:14\n",
            "08:21 01:59\n",
            "08:31 01:39\n",
            "08:46 01:59\n",
            "09:11 02:14\n",
            "09:21 01:59\n",
            "09:31 01:34\n",
            "09:46 01:59\n",
            "10:01 01:59\n",
            "10:11 02:14\n",
            "10:21 01:59\n",
            "10:31 01:34\n",
            "10:46 01:59\n",
            "10:51 01:39\n",
            "11:11 02:14\n",
            "11:21 01:59\n",
            "11:31 01:34\n",
            "11:46 01:59\n",
            "12:11 02:14\n",
            "12:21 01:59\n",
            "12:31 01:34\n",
            "12:46 01:59\n",
            "13:11 02:14\n",
            "13:21 01:59\n",
            "13:31 01:34\n",
            "13:46 01:59\n",
            "13:51 01:39\n",
            "14:11 02:14\n",
            "14:21 01:59\n",
            "14:31 01:34\n",
            "14:46 01:59\n",
            "14:51 01:39\n",
            "15:11 02:14\n",
            "15:21 01:59\n",
            "15:31 01:34\n",
            "15:46 01:59\n",
            "15:51 01:39\n",
            "16:11 02:14\n",
            "16:21 01:59\n",
            "16:31 01:34\n",
            "16:46 01:59\n",
            "16:51 01:39\n",
            "17:11 02:14\n",
            "17:21 01:59\n",
            "17:31 01:34\n",
            "17:46 01:59\n",
            "17:51 01:39\n",
            "18:11 02:14\n",
            "18:21 01:59\n",
            "18:31 01:34\n",
            "18:46 01:59\n",
            "18:51 01:39\n",
            "19:01 01:59\n",
            "19:11 02:14\n",
            "19:21 01:59\n",
            "19:31 01:34\n",
            "19:46 01:59\n",
            "19:51 01:39\n",
            "20:11 02:14\n",
            "20:21 01:59\n",
            "20:31 01:34\n",
            "20:46 01:59\n",
            "20:51 01:39\n",
            "21:11 02:14\n",
            "21:21 01:59\n",
            "21:31 01:34\n",
            "21:41 01:59\n",
            "21:56 01:59\n",
            "22:16 01:43\n"
          ]
        }
      ],
      "source": [
        "import json\n",
        "import urllib.request as request\n",
        "import urllib.parse as parse\n",
        "\n",
        "payload = {\n",
        "    \"SearchType\":\"S\",\n",
        "    \"Lang\":\"TW\",\n",
        "    \"StartStation\":\"TaiPei\",\n",
        "    \"EndStation\":\"ZuoYing\",\n",
        "    \"OutWardSearchDate\":\"2025/06/27\",\n",
        "    \"OutWardSearchTime\":\"09:00\",\n",
        "    \"ReturnSearchDate\":\"2025/06/26\",\n",
        "    \"ReturnSearchTime\":\"14:00\",\n",
        "    \"DiscountType\":\"\",\n",
        "}\n",
        "url = \"https://www.thsrc.com.tw/TimeTable/Search\"\n",
        "\n",
        "data = parse.urlencode(payload).encode()\n",
        "req =  request.Request(url, data=data) # this will make the method \"POST\"\n",
        "resp = request.urlopen(req)\n",
        "content = resp.read()\n",
        "# print(content)\n",
        "# pandas: 表格轉換(CSV)\n",
        "# 剛剛的第一種方法: list+dict一層一層去拿 幫我印出 Departure time還有Duration\n",
        "content_converted = json.loads(content)\n",
        "data = content_converted[\"data\"]\n",
        "depart_items = data[\"DepartureTable\"][\"TrainItem\"]\n",
        "for d in depart_items:\n",
        "    depart_time = d[\"DepartureTime\"]\n",
        "    duration = d[\"Duration\"]\n",
        "    print(depart_time, duration)"
      ]
    }
  ]
}