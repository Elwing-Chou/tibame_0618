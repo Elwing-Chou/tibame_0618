{
  "nbformat": 4,
  "nbformat_minor": 0,
  "metadata": {
    "colab": {
      "provenance": [],
      "authorship_tag": "ABX9TyPgPrZGT9lmpu1+9XikggSp",
      "include_colab_link": true
    },
    "kernelspec": {
      "name": "python3",
      "display_name": "Python 3"
    },
    "language_info": {
      "name": "python"
    }
  },
  "cells": [
    {
      "cell_type": "markdown",
      "metadata": {
        "id": "view-in-github",
        "colab_type": "text"
      },
      "source": [
        "<a href=\"https://colab.research.google.com/github/Elwing-Chou/tibame_0618/blob/main/tibame_0626_2.ipynb\" target=\"_parent\"><img src=\"https://colab.research.google.com/assets/colab-badge.svg\" alt=\"Open In Colab\"/></a>"
      ]
    },
    {
      "cell_type": "code",
      "execution_count": null,
      "metadata": {
        "id": "6oh_dQoH02Yn"
      },
      "outputs": [],
      "source": [
        "import json\n",
        "import urllib.request as request\n",
        "import urllib.parse as parse\n",
        "import pandas as pd\n",
        "\n",
        "payload = {\n",
        "    \"SearchType\":\"S\",\n",
        "    \"Lang\":\"TW\",\n",
        "    \"StartStation\":\"TaiPei\",\n",
        "    \"EndStation\":\"ZuoYing\",\n",
        "    \"OutWardSearchDate\":\"2025/06/27\",\n",
        "    \"OutWardSearchTime\":\"09:00\",\n",
        "    \"ReturnSearchDate\":\"2025/06/26\",\n",
        "    \"ReturnSearchTime\":\"14:00\",\n",
        "    \"DiscountType\":\"\",\n",
        "}\n",
        "url = \"https://www.thsrc.com.tw/TimeTable/Search\"\n",
        "\n",
        "data = parse.urlencode(payload).encode()\n",
        "req =  request.Request(url, data=data) # this will make the method \"POST\"\n",
        "resp = request.urlopen(req)\n",
        "content = resp.read()\n",
        "# print(content)\n",
        "# pandas: 表格轉換(CSV)\n",
        "# 剛剛的第一種方法: list+dict一層一層去拿 幫我印出 Departure time還有Duration\n",
        "content_converted = json.loads(content)\n",
        "data = content_converted[\"data\"]\n",
        "depart_items = data[\"DepartureTable\"][\"TrainItem\"]\n",
        "for d in depart_items:\n",
        "    depart_time = d[\"DepartureTime\"]\n",
        "    duration = d[\"Duration\"]\n",
        "    print(depart_time, duration)\n",
        "\n",
        "#\n",
        "df = pd.DataFrame(depart_items)\n",
        "df.to_csv(\"TaiPei_ZuoYing_0627.csv\", encoding=\"utf-8\")"
      ]
    },
    {
      "cell_type": "code",
      "source": [
        "import json\n",
        "import urllib.request as request\n",
        "import urllib.parse as parse\n",
        "import pandas as pd\n",
        "\n",
        "start_station = \"TaiPei\"\n",
        "end_station = \"ZuoYing\"\n",
        "depart_date = \"2025/06/27\"\n",
        "payload = {\n",
        "    \"SearchType\":\"S\",\n",
        "    \"Lang\":\"TW\",\n",
        "    \"StartStation\":start_station,\n",
        "    \"EndStation\":end_station,\n",
        "    \"OutWardSearchDate\":depart_date,\n",
        "    \"OutWardSearchTime\":\"09:00\",\n",
        "    \"ReturnSearchDate\":\"2025/06/26\",\n",
        "    \"ReturnSearchTime\":\"14:00\",\n",
        "    \"DiscountType\":\"\",\n",
        "}\n",
        "url = \"https://www.thsrc.com.tw/TimeTable/Search\"\n",
        "\n",
        "data = parse.urlencode(payload).encode()\n",
        "req =  request.Request(url, data=data) # this will make the method \"POST\"\n",
        "resp = request.urlopen(req)\n",
        "content = resp.read()\n",
        "# print(content)\n",
        "# pandas: 表格轉換(CSV)\n",
        "# 剛剛的第一種方法: list+dict一層一層去拿 幫我印出 Departure time還有Duration\n",
        "content_converted = json.loads(content)\n",
        "data = content_converted[\"data\"]\n",
        "depart_items = data[\"DepartureTable\"][\"TrainItem\"]\n",
        "\n",
        "\n",
        "df = pd.DataFrame(depart_items)\n",
        "fn = \"{}_{}_{}.csv\".format(start_station,\n",
        "                           end_station,\n",
        "                           \"20250627\")\n",
        "df.to_csv(fn, encoding=\"utf-8\")"
      ],
      "metadata": {
        "id": "gJUu3zaMDV_c"
      },
      "execution_count": 11,
      "outputs": []
    },
    {
      "cell_type": "code",
      "source": [
        "a = 5\n",
        "b = 6\n",
        "s = str(a) + \"-\" + str(b)\n",
        "# s = f\"{a}-{b}\"\n",
        "pat = \"{}-{}\"\n",
        "s = pat.format(a, b)\n",
        "s"
      ],
      "metadata": {
        "colab": {
          "base_uri": "https://localhost:8080/",
          "height": 36
        },
        "id": "hc7Rk03pEGg4",
        "outputId": "a86ed106-fdd6-482e-ddff-56e6a277cf9e"
      },
      "execution_count": 10,
      "outputs": [
        {
          "output_type": "execute_result",
          "data": {
            "text/plain": [
              "'5-6'"
            ],
            "application/vnd.google.colaboratory.intrinsic+json": {
              "type": "string"
            }
          },
          "metadata": {},
          "execution_count": 10
        }
      ]
    }
  ]
}