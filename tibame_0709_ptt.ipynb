{
  "nbformat": 4,
  "nbformat_minor": 0,
  "metadata": {
    "colab": {
      "provenance": [],
      "authorship_tag": "ABX9TyNqWx1DmF1zf6zxJZ9zI2im",
      "include_colab_link": true
    },
    "kernelspec": {
      "name": "python3",
      "display_name": "Python 3"
    },
    "language_info": {
      "name": "python"
    }
  },
  "cells": [
    {
      "cell_type": "markdown",
      "metadata": {
        "id": "view-in-github",
        "colab_type": "text"
      },
      "source": [
        "<a href=\"https://colab.research.google.com/github/Elwing-Chou/tibame_0618/blob/main/tibame_0709_ptt.ipynb\" target=\"_parent\"><img src=\"https://colab.research.google.com/assets/colab-badge.svg\" alt=\"Open In Colab\"/></a>"
      ]
    },
    {
      "cell_type": "markdown",
      "source": [
        "\n",
        "\n",
        "```\n",
        "403 Forbidden\n",
        "1. IP ban: 換ip\n",
        "2. 模仿的不像: 少了必要的Headers\n",
        "\n",
        "```\n",
        "\n"
      ],
      "metadata": {
        "id": "faDvBjbn2q-Z"
      }
    },
    {
      "cell_type": "code",
      "execution_count": 19,
      "metadata": {
        "colab": {
          "base_uri": "https://localhost:8080/"
        },
        "id": "pWTwDam31Q4G",
        "outputId": "7341f2b5-4555-4e5c-d2d8-05e3c51114bc"
      },
      "outputs": [
        {
          "output_type": "stream",
          "name": "stdout",
          "text": [
            "{'author': 'jerryyuan (財運滾滾)', 'board': 'Beauty', 'title': '[帥哥] 黃少祺', 'post_time': 'Sun Jul  6 18:23:37 2025', 'content': '\\n54歲~生日快樂!\\n\\nhttps://i.imgur.com/OSwXeuz.jpeg\\nhttps://i.imgur.com/c2CmTdy.jpeg\\nhttps://i.imgur.com/WDzTRGh.jpeg\\nhttps://i.imgur.com/Ue2jqqf.jpeg\\nhttps://i.imgur.com/ejEwGXA.jpeg\\nhttps://i.imgur.com/H8i2ZVT.jpeg\\n\\n--\\n※ 發信站: 批踢踢實業坊(ptt.cc), 來自: 220.142.196.177 (臺灣)\\n※ 文章網址: https://www.ptt.cc/bbs/Beauty/M.1751797464.A.265.html\\n', 'pushes': [{'push_tag': 1, 'push_uid': 'H132196', 'push_content': '神機妙算劉伯溫', 'push_ipdatetime': '218.164.214.114 07/06 18:41'}, {'push_tag': 1, 'push_uid': 'jhc1120', 'push_content': '人在江湖 身不由己', 'push_ipdatetime': '49.159.75.132 07/06 18:45'}, {'push_tag': 1, 'push_uid': 'globalspirit', 'push_content': '神機妙算劉伯溫', 'push_ipdatetime': '101.8.79.163 07/06 19:08'}, {'push_tag': 0, 'push_uid': 'globalspirit', 'push_content': '台灣歐巴', 'push_ipdatetime': '101.8.79.163 07/06 19:08'}, {'push_tag': 1, 'push_uid': 'bobon0921', 'push_content': '肥龍 肥龍', 'push_ipdatetime': '180.218.45.229 07/06 19:12'}, {'push_tag': 1, 'push_uid': 'd06', 'push_content': '帥 體格維持超猛', 'push_ipdatetime': '223.139.88.86 07/06 19:18'}, {'push_tag': 0, 'push_uid': 'k385476916', 'push_content': '飛虎', 'push_ipdatetime': '122.116.144.202 07/06 19:36'}, {'push_tag': 1, 'push_uid': 'MintTW', 'push_content': 'https://i.imgur.com/Hhc8hwu.gif', 'push_ipdatetime': '111.71.214.125 07/06 19:25'}, {'push_tag': 1, 'push_uid': 'KEDEN', 'push_content': '自律應該很驚人', 'push_ipdatetime': '27.247.60.90 07/06 22:00'}, {'push_tag': 0, 'push_uid': 'Gardenia0603', 'push_content': '超帥', 'push_ipdatetime': '36.227.223.216 07/06 22:05'}, {'push_tag': 1, 'push_uid': 'aegis80728', 'push_content': '他怎麼越來越年輕', 'push_ipdatetime': '106.1.232.52 07/06 22:16'}, {'push_tag': 1, 'push_uid': 'ivery2266', 'push_content': '54?說34還比較可信', 'push_ipdatetime': '223.143.31.221 07/06 22:41'}, {'push_tag': 1, 'push_uid': 'cloudbook', 'push_content': '生日快樂～最帥的劉伯溫！', 'push_ipdatetime': '114.45.89.138 07/06 22:46'}, {'push_tag': 1, 'push_uid': 'Ayanami5566', 'push_content': '飛虎', 'push_ipdatetime': '1.163.74.164 07/06 22:51'}, {'push_tag': 1, 'push_uid': 'andy8105', 'push_content': '神機妙算！', 'push_ipdatetime': '1.172.113.197 07/06 23:01'}, {'push_tag': 0, 'push_uid': 'sheep0121', 'push_content': '臉看得出有年紀，不過身材真的維持得', 'push_ipdatetime': '49.216.90.85 07/06 23:18'}, {'push_tag': 0, 'push_uid': 'sheep0121', 'push_content': '很好', 'push_ipdatetime': '49.216.90.85 07/06 23:18'}, {'push_tag': 1, 'push_uid': 'n10617', 'push_content': '真的帥又自律', 'push_ipdatetime': '123.194.40.90 07/06 23:24'}, {'push_tag': 1, 'push_uid': 'andy70612', 'push_content': '龍  已經成為肥龍', 'push_ipdatetime': '1.175.214.46 07/06 23:49'}, {'push_tag': 0, 'push_uid': 'Eligor41', 'push_content': '近戰法師劉伯溫', 'push_ipdatetime': '37.248.244.19 07/06 23:56'}, {'push_tag': 1, 'push_uid': 'samwang7027', 'push_content': '伯溫真的帥', 'push_ipdatetime': '114.37.103.239 07/07 01:17'}, {'push_tag': 1, 'push_uid': 'kimsman', 'push_content': '認識一個女的，超愛黃少祺', 'push_ipdatetime': '101.10.94.169 07/07 10:22'}, {'push_tag': 0, 'push_uid': 'theclgy2001', 'push_content': '另外一個飛龍變肥龍德了不是', 'push_ipdatetime': '101.12.153.69 07/07 10:58'}, {'push_tag': 1, 'push_uid': 'kentin', 'push_content': '54長這樣真的逆天了', 'push_ipdatetime': '36.230.189.84 07/07 10:59'}, {'push_tag': 1, 'push_uid': 'wei3350730', 'push_content': '太帥惹', 'push_ipdatetime': '101.10.3.175 07/07 13:15'}, {'push_tag': 1, 'push_uid': 'gg86300', 'push_content': '韓風造型帥喔', 'push_ipdatetime': '111.242.76.158 07/07 13:36'}, {'push_tag': 1, 'push_uid': 'twtpcsilence', 'push_content': '慢且 這是一個卦象', 'push_ipdatetime': '150.117.27.127 07/07 13:44'}, {'push_tag': 1, 'push_uid': 'qaz2334438', 'push_content': '認真帥', 'push_ipdatetime': '223.138.26.211 07/07 15:08'}, {'push_tag': 0, 'push_uid': 'Harionago', 'push_content': '他花期好長', 'push_ipdatetime': '114.43.136.169 07/07 19:11'}, {'push_tag': 1, 'push_uid': 'bbcumback2me', 'push_content': '表特給過，而且比年輕的時候粗真的', 'push_ipdatetime': '194.195.89.191 07/07 19:54'}, {'push_tag': 0, 'push_uid': 'bbcumback2me', 'push_content': '有夠猛', 'push_ipdatetime': '194.195.89.191 07/07 19:54'}, {'push_tag': 0, 'push_uid': 'fack3170', 'push_content': '台灣帥大叔', 'push_ipdatetime': '39.14.17.110 07/07 20:14'}, {'push_tag': 1, 'push_uid': 'eee60109', 'push_content': '周勝強', 'push_ipdatetime': '123.192.154.136 07/07 21:10'}, {'push_tag': 1, 'push_uid': 'Hosh', 'push_content': '推爆 真的是帥', 'push_ipdatetime': '114.137.162.237 07/08 00:55'}]}\n"
          ]
        }
      ],
      "source": [
        "import urllib.request as req\n",
        "import json\n",
        "import bs4 as bs\n",
        "\n",
        "url = \"https://www.ptt.cc/bbs/Beauty/M.1751797464.A.265.html\"\n",
        "r = req.Request(url)\n",
        "r.add_header(\"User-Agent\", \"Mozilla/5.0 (Windows NT 10.0; Win64; x64) AppleWebKit/537.36 (KHTML, like Gecko) Chrome/1\")\n",
        "resp = req.urlopen(r)\n",
        "content = resp.read()\n",
        "html = bs.BeautifulSoup(content)\n",
        "# print(html)\n",
        "\n",
        "metas = html.find_all(\"span\", {\"class\":\"article-meta-value\"})\n",
        "author = metas[0]\n",
        "board = metas[1]\n",
        "title = metas[2]\n",
        "post_time = metas[3]\n",
        "push_datas = html.find_all(\"div\", {\"class\":\"push\"})\n",
        "\n",
        "\n",
        "author_text = author.text.strip()\n",
        "board_text = board.text.strip()\n",
        "title_text = title.text.strip()\n",
        "post_time_text = post_time.text.strip()\n",
        "\n",
        "pushes = []\n",
        "for p in push_datas:\n",
        "    push_meta = p.find_all(\"span\")\n",
        "    # extract\n",
        "    push_tag = push_meta[0]\n",
        "    push_uid = push_meta[1]\n",
        "    push_content = push_meta[2]\n",
        "    push_ipdatetime = push_meta[3]\n",
        "    trans = {\"推\":1, \"噓\":-1, \"→\":0}\n",
        "    # text\n",
        "    push_data = {\n",
        "        \"push_tag\":trans[push_tag.text.strip()],\n",
        "        \"push_uid\":push_uid.text.strip(),\n",
        "        \"push_content\":push_content.text.strip().replace(\": \", \"\"),\n",
        "        \"push_ipdatetime\":push_ipdatetime.text.strip()\n",
        "    }\n",
        "    pushes.append(push_data)\n",
        "\n",
        "# 區塊.extract(): 在整份html裡消失\n",
        "main_content = html.find(\"div\", {\"id\":\"main-content\"})\n",
        "for e in main_content.find_all(\"div\", {\"class\":\"article-metaline\"}):\n",
        "    e.extract()\n",
        "for e in main_content.find_all(\"div\", {\"class\":\"article-metaline-right\"}):\n",
        "    e.extract()\n",
        "for e in main_content.find_all(\"div\", {\"class\":\"push\"}):\n",
        "    e.extract()\n",
        "content_text = main_content.text\n",
        "\n",
        "row = {\n",
        "    \"author\":author_text,\n",
        "    \"board\":board_text,\n",
        "    \"title\":title_text,\n",
        "    \"post_time\":post_time_text,\n",
        "    \"content\":content_text,\n",
        "    \"pushes\":pushes,\n",
        "}\n",
        "# print(row)\n",
        "\n",
        "fp = url.split(\"/\")[-1] + \".json\"\n",
        "f = open(fp, \"w\", encoding=\"utf-8\")\n",
        "json.dump(row, f, indent=4, ensure_ascii=False)\n",
        "f.close()"
      ]
    },
    {
      "cell_type": "code",
      "source": [
        "import urllib.request as req\n",
        "\n",
        "url = \"https://i.imgur.com/OSwXeuz.jpeg\"\n",
        "r = req.Request(url)\n",
        "r.add_header(\"User-Agent\", \"Mozilla/5.0 (Windows NT 10.0; Win64; x64) AppleWebKit/537.36 (KHTML, like Gecko) Chrome/1\")\n",
        "resp = req.urlopen(r)\n",
        "content = resp.read()\n",
        "# 純文字檔案(CSV, txt...): open(\"a.txt\", \"w/r\", encoding=\"utf-8\")\n",
        "# 非純文字檔案(mp3, mp4, pdf, docs....): open(\"a.jpeg\", \"wb/rb\")\n",
        "fp = url.split(\"/\")[-1]\n",
        "with open(fp, \"wb\") as f:\n",
        "    f.write(content)\n"
      ],
      "metadata": {
        "id": "ujg0qoj4v6qs"
      },
      "execution_count": 24,
      "outputs": []
    }
  ]
}