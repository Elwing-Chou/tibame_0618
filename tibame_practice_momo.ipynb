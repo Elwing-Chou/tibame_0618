{
  "nbformat": 4,
  "nbformat_minor": 0,
  "metadata": {
    "colab": {
      "provenance": [],
      "authorship_tag": "ABX9TyP9Uq7/tcBvvWlcYPmmWLmP",
      "include_colab_link": true
    },
    "kernelspec": {
      "name": "python3",
      "display_name": "Python 3"
    },
    "language_info": {
      "name": "python"
    }
  },
  "cells": [
    {
      "cell_type": "markdown",
      "metadata": {
        "id": "view-in-github",
        "colab_type": "text"
      },
      "source": [
        "<a href=\"https://colab.research.google.com/github/Elwing-Chou/tibame_0618/blob/main/tibame_practice_momo.ipynb\" target=\"_parent\"><img src=\"https://colab.research.google.com/assets/colab-badge.svg\" alt=\"Open In Colab\"/></a>"
      ]
    },
    {
      "cell_type": "code",
      "source": [
        "!pip install dirtyjson"
      ],
      "metadata": {
        "colab": {
          "base_uri": "https://localhost:8080/"
        },
        "id": "kK7tkEF91aY4",
        "outputId": "a31c1fb8-e51d-4647-ec70-23016dc5e3e4"
      },
      "execution_count": 17,
      "outputs": [
        {
          "output_type": "stream",
          "name": "stdout",
          "text": [
            "Collecting dirtyjson\n",
            "  Downloading dirtyjson-1.0.8-py3-none-any.whl.metadata (11 kB)\n",
            "Downloading dirtyjson-1.0.8-py3-none-any.whl (25 kB)\n",
            "Installing collected packages: dirtyjson\n",
            "Successfully installed dirtyjson-1.0.8\n"
          ]
        }
      ]
    },
    {
      "cell_type": "code",
      "execution_count": 24,
      "metadata": {
        "id": "l0nBUCq6zK7r"
      },
      "outputs": [],
      "source": [
        "import urllib.request as req\n",
        "import bs4 as bs\n",
        "import json\n",
        "import dirtyjson\n",
        "\n",
        "url = \"https://www.momoshop.com.tw/search/searchShop.jsp?keyword=%E5%90%B9%E9%A2%A8%E6%A9%9F&_isFuzzy=0&searchType=1&cateLevel=0\"\n",
        "resp = req.urlopen(url)\n",
        "html = bs.BeautifulSoup(resp.read())\n",
        "\n",
        "scripts = html.find_all(\"script\")\n",
        "target_script = None\n",
        "for script in scripts:\n",
        "    if \"@type\" in script.text:\n",
        "        target_script = script\n",
        "        break\n",
        "datas = dirtyjson.loads(target_script.text)\n",
        "f = open(\"data.json\", \"w\", encoding=\"utf-8\")\n",
        "json.dump(datas, f, indent=4, ensure_ascii=False)\n",
        "f.close()"
      ]
    },
    {
      "cell_type": "code",
      "source": [
        "import urllib.request as req\n",
        "import bs4 as bs\n",
        "import json\n",
        "import dirtyjson\n",
        "\n",
        "url = \"https://www.momoshop.com.tw/search/searchShop.jsp?keyword=%E5%90%B9%E9%A2%A8%E6%A9%9F&_isFuzzy=0&searchType=1&cateLevel=0\"\n",
        "resp = req.urlopen(url)\n",
        "html = bs.BeautifulSoup(resp.read())\n",
        "\n",
        "scripts = html.find_all(\"script\")\n",
        "target_script = None\n",
        "for script in scripts:\n",
        "    if \"@type\" in script.text:\n",
        "        target_script = script\n",
        "        break\n",
        "datas = dirtyjson.loads(target_script.text)\n",
        "items = datas[\"mainEntity\"][\"itemListElement\"]\n",
        "for item in items:\n",
        "    print(item[\"name\"])"
      ],
      "metadata": {
        "colab": {
          "base_uri": "https://localhost:8080/"
        },
        "id": "iPsJcOCp4Z5N",
        "outputId": "e035619c-e041-4e2c-d004-3aef577cea0d"
      },
      "execution_count": 26,
      "outputs": [
        {
          "output_type": "stream",
          "name": "stdout",
          "text": [
            "【KINYO】BLDC高速無刷負離子吹風機KH-9688(11萬轉速2億負離子)\n",
            "【dyson 戴森】HD08 Origin Supersonic 吹風機 溫控 負離子(瑰麗紅色 平裝版)\n",
            "【小不記】可折疊高速負離子吹風機 強勁大風量(智能控溫護髮 速乾 附吹風機收納架)\n",
            "【KINYO】全球電壓無刷吹風機(全球電壓/四億負離子 KH-9660)\n",
            "【TECO 東元】BLDC專業負離子吹風機(XYFXZ003)\n",
            "【SHARP 夏普】四氣流水潤溫控吹風機-午夜黑(IB-WX901T-B)\n",
            "【Panasonic 國際牌】奈米水離子吹風機(EH-NA27-W)\n",
            "【MIDORI 美多莉】Hypersonic高速負離子吹風機-霧夜金(全配組-不含收納架)\n",
            "【KINYO】全球電壓無刷吹風機(全球電壓/四億負離子 KH-9660)\n",
            "【Panasonic 國際牌】高速馬達負離子吹風機(EH-NE6M)\n",
            "【Panasonic 國際牌】高速馬達吹風機-奶茶(EH-NE6M-C)\n",
            "【小米官方旗艦館】Xiaomi 負離子高速吹風機\n",
            "【Panasonic 國際牌】奈米水離子吹風機(EH-NA27-PP)\n",
            "【Dreame 追覓科技】Pocket Uni 魔術折疊高速吹風機(100-240V國際電壓版)\n",
            "【Panasonic 國際牌】奈米水離子吹風機-搭載捲髮定型烘罩(EH-NA9L-RP)\n",
            "【TESCOM】大風量負離子吹風機(TID450TW)\n",
            "【SOLAC】專業負離子吹風機  白/紫/灰/粉 色(SD-1000)\n",
            "【TESCOM】BLDC輕巧負離子吹風機(TD760TW)\n",
            "【TESCOM】大風量負離子吹風機(TID292TW)\n",
            "【Panasonic 國際牌】奈米水離子吹風機-銀(EH-NA7M-H)\n",
            "【dyson 戴森】HD15 Supersonic 吹風機 溫控 負離子(普魯士藍禮盒版)\n",
            "【TESCOM】(福利品微盒損)防靜電負離子大風量渦流吹風機 TID2200TW(-珍珠白)\n",
            "【Philips 飛利浦】官方直營 沙龍級護髮負離子吹風機-霧藍黑(BHD518/01)\n",
            "【TESCOM】專業型大風量負離子吹風機(TID960TW)\n",
            "【小米官方旗艦館】小米負離子吹風機 H300 白色\n",
            "【Panasonic 國際牌】奈米水離子吹風機-灰(EH-NA9N-H)\n",
            "【Dreame 追覓科技】Pocket 魔術折疊高速吹風機 低壓版110V(直捲吹三用/180度折疊/300g超輕量/11萬轉馬達)\n",
            "【Panasonic 國際牌】高滲透奈米水離子吹風機(EH-NA0J)\n",
            "【Panasonic 國際牌】高速馬達吹風機-藍(EH-NE6M-A)\n",
            "【Laifen 徠芬】徠芬SE 高速負離子吹風機(全球銷售千萬支)\n"
          ]
        }
      ]
    }
  ]
}