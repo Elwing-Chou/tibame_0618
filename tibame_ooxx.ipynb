{
  "nbformat": 4,
  "nbformat_minor": 0,
  "metadata": {
    "colab": {
      "provenance": [],
      "authorship_tag": "ABX9TyOadkYQZKDYLSbepYoLODpc",
      "include_colab_link": true
    },
    "kernelspec": {
      "name": "python3",
      "display_name": "Python 3"
    },
    "language_info": {
      "name": "python"
    }
  },
  "cells": [
    {
      "cell_type": "markdown",
      "metadata": {
        "id": "view-in-github",
        "colab_type": "text"
      },
      "source": [
        "<a href=\"https://colab.research.google.com/github/Elwing-Chou/tibame_0618/blob/main/tibame_ooxx.ipynb\" target=\"_parent\"><img src=\"https://colab.research.google.com/assets/colab-badge.svg\" alt=\"Open In Colab\"/></a>"
      ]
    },
    {
      "cell_type": "markdown",
      "source": [
        "\n",
        "\n",
        "```\n",
        "1. 落子: 1  2\n",
        "2. 判斷輸贏\n",
        "\n",
        "\n",
        "```\n",
        "\n"
      ],
      "metadata": {
        "id": "i_UcHrpGPw9L"
      }
    },
    {
      "cell_type": "code",
      "execution_count": 3,
      "metadata": {
        "colab": {
          "base_uri": "https://localhost:8080/"
        },
        "id": "tSxuPm9FPqYc",
        "outputId": "8bfed708-5dd3-428d-d973-1828a6ca4689"
      },
      "outputs": [
        {
          "output_type": "execute_result",
          "data": {
            "text/plain": [
              "2.2"
            ]
          },
          "metadata": {},
          "execution_count": 3
        }
      ],
      "source": [
        "test = [\n",
        "    [2.1, 2.2],\n",
        "    [3.1, 3.2],\n",
        "    [4.1, 4.2]\n",
        "]\n",
        "test[0][1]"
      ]
    },
    {
      "cell_type": "code",
      "source": [
        "# 優點: 擴充性\n",
        "board = [\n",
        "    [1, 1, 1],\n",
        "    [2, 2, 2],\n",
        "    [0, 0, 0]\n",
        "]\n",
        "#\n",
        "i = 0\n",
        "while i < 3:\n",
        "    first = board[i][0]\n",
        "    # 如果有下\n",
        "    if not first == 0:\n",
        "        # check 01 02\n",
        "        winner = True\n",
        "        j = 0\n",
        "        while j < 3:\n",
        "            pos = board[i][j]\n",
        "            if not pos == first:\n",
        "                winner = False\n",
        "            j = j + 1\n",
        "        if winner == True:\n",
        "            print(i, \"row win\")\n",
        "    i = i + 1"
      ],
      "metadata": {
        "colab": {
          "base_uri": "https://localhost:8080/"
        },
        "id": "JVHbsJ93Rpk3",
        "outputId": "26ea211f-e038-4c1a-b964-6d19ae320ec0"
      },
      "execution_count": 7,
      "outputs": [
        {
          "output_type": "stream",
          "name": "stdout",
          "text": [
            "0 win\n",
            "1 win\n"
          ]
        }
      ]
    },
    {
      "cell_type": "code",
      "source": [
        "# 優點:可讀性\n",
        "# 我選了這個\n",
        "board = [\n",
        "    [1, 1, 1],\n",
        "    [2, 2, 2],\n",
        "    [0, 0, 0]\n",
        "]\n",
        "\n",
        "i = 0\n",
        "while i < 3:\n",
        "    if not board[i][0] == 0:\n",
        "        if board[i][0] == board[i][1] == board[i][2]:\n",
        "            print(i, \"win\")\n",
        "    i = i + 1"
      ],
      "metadata": {
        "colab": {
          "base_uri": "https://localhost:8080/"
        },
        "id": "2BZIeVVXUhGp",
        "outputId": "89921890-fab6-45d0-fa9b-0c097ad1d34a"
      },
      "execution_count": 9,
      "outputs": [
        {
          "output_type": "stream",
          "name": "stdout",
          "text": [
            "0 win\n",
            "1 win\n"
          ]
        }
      ]
    },
    {
      "cell_type": "code",
      "source": [
        "board = [\n",
        "    [1, 2, 0],\n",
        "    [1, 2, 0],\n",
        "    [1, 2, 0]\n",
        "]\n",
        "i = 0\n",
        "while i < 3:\n",
        "    # [0][0] [1][0] [2][0]\n",
        "    if not board[0][i] == 0:\n",
        "        if board[0][i] == board[1][i] == board[2][i]:\n",
        "            print(i, \"win\")\n",
        "    i = i + 1"
      ],
      "metadata": {
        "colab": {
          "base_uri": "https://localhost:8080/"
        },
        "id": "hrkNGUSH7MC7",
        "outputId": "c4c7da97-2cc0-424f-e013-25e4f8fca3ee"
      },
      "execution_count": 1,
      "outputs": [
        {
          "output_type": "stream",
          "name": "stdout",
          "text": [
            "0 win\n",
            "1 win\n"
          ]
        }
      ]
    },
    {
      "cell_type": "code",
      "source": [
        "board = [\n",
        "    [0, 2, 1],\n",
        "    [0, 1, 0],\n",
        "    [1, 2, 1]\n",
        "]\n",
        "if board[0][0] == board[1][1] == board[2][2]:\n",
        "    print(\"left win\")\n",
        "if board[0][2] == board[1][1] == board[2][0]:\n",
        "    print(\"right win\")"
      ],
      "metadata": {
        "colab": {
          "base_uri": "https://localhost:8080/"
        },
        "id": "PNqeRK3_DYis",
        "outputId": "bc6cf002-0871-4c11-be27-440db3220c0d"
      },
      "execution_count": 3,
      "outputs": [
        {
          "output_type": "stream",
          "name": "stdout",
          "text": [
            "right win\n"
          ]
        }
      ]
    },
    {
      "cell_type": "code",
      "source": [
        "REPR = [\"_\", \"O\", \"X\"]\n",
        "\n",
        "board = [\n",
        "    [0, 2, 1],\n",
        "    [0, 1, 0],\n",
        "    [1, 2, 1]\n",
        "]\n",
        "\n",
        "i = 0\n",
        "while i < 3:\n",
        "    line = \"\"\n",
        "    row = i\n",
        "    j = 0\n",
        "    while j < 3:\n",
        "        col = j\n",
        "        pos = board[row][col]\n",
        "        line = line + REPR[pos] + \" \"\n",
        "        j = j + 1\n",
        "    print(line)\n",
        "    i = i + 1"
      ],
      "metadata": {
        "colab": {
          "base_uri": "https://localhost:8080/"
        },
        "id": "gZk_GEaZD0u2",
        "outputId": "6d0f40b9-c0d6-4c24-83e9-fa6cc129a6bf"
      },
      "execution_count": 8,
      "outputs": [
        {
          "output_type": "stream",
          "name": "stdout",
          "text": [
            "_ X O \n",
            "_ O _ \n",
            "O X O \n"
          ]
        }
      ]
    },
    {
      "cell_type": "code",
      "source": [
        "# input的回傳值是字串型態!!!\n",
        "PLAYER_1 = 1\n",
        "PLAYER_2 = 2\n",
        "\n",
        "board = [\n",
        "    [0, 0, 0],\n",
        "    [0, 0, 0],\n",
        "    [0, 0, 0]\n",
        "]\n",
        "\n",
        "round = 0\n",
        "row = int(input(\"? row:\"))\n",
        "col = int(input(\"? col:\"))\n",
        "\n",
        "if round % 2 == 0:\n",
        "    board[row][col] = PLAYER_1\n",
        "else:\n",
        "    board[row][col] = PLAYER_2\n",
        "\n",
        "round = round + 1"
      ],
      "metadata": {
        "colab": {
          "base_uri": "https://localhost:8080/",
          "height": 176
        },
        "id": "PGUVPhASLnxA",
        "outputId": "991c48f5-ef71-454c-ef4f-11db669aa62b"
      },
      "execution_count": 10,
      "outputs": [
        {
          "name": "stdout",
          "output_type": "stream",
          "text": [
            "score:80\n"
          ]
        },
        {
          "output_type": "error",
          "ename": "TypeError",
          "evalue": "unsupported operand type(s) for ** or pow(): 'str' and 'float'",
          "traceback": [
            "\u001b[0;31m---------------------------------------------------------------------------\u001b[0m",
            "\u001b[0;31mTypeError\u001b[0m                                 Traceback (most recent call last)",
            "\u001b[0;32m/tmp/ipython-input-10-1527542784.py\u001b[0m in \u001b[0;36m<cell line: 0>\u001b[0;34m()\u001b[0m\n\u001b[1;32m      1\u001b[0m \u001b[0mn\u001b[0m \u001b[0;34m=\u001b[0m \u001b[0minput\u001b[0m\u001b[0;34m(\u001b[0m\u001b[0;34m\"score:\"\u001b[0m\u001b[0;34m)\u001b[0m\u001b[0;34m\u001b[0m\u001b[0;34m\u001b[0m\u001b[0m\n\u001b[0;32m----> 2\u001b[0;31m \u001b[0;34m(\u001b[0m\u001b[0mn\u001b[0m \u001b[0;34m**\u001b[0m \u001b[0;36m0.5\u001b[0m\u001b[0;34m)\u001b[0m \u001b[0;34m*\u001b[0m \u001b[0;36m10\u001b[0m\u001b[0;34m\u001b[0m\u001b[0;34m\u001b[0m\u001b[0m\n\u001b[0m",
            "\u001b[0;31mTypeError\u001b[0m: unsupported operand type(s) for ** or pow(): 'str' and 'float'"
          ]
        }
      ]
    }
  ]
}