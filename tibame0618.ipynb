{
  "nbformat": 4,
  "nbformat_minor": 0,
  "metadata": {
    "colab": {
      "provenance": [],
      "authorship_tag": "ABX9TyOo3RZZLmvxttbieBXN/om/",
      "include_colab_link": true
    },
    "kernelspec": {
      "name": "python3",
      "display_name": "Python 3"
    },
    "language_info": {
      "name": "python"
    }
  },
  "cells": [
    {
      "cell_type": "markdown",
      "metadata": {
        "id": "view-in-github",
        "colab_type": "text"
      },
      "source": [
        "<a href=\"https://colab.research.google.com/github/Elwing-Chou/tibame_0618/blob/main/tibame0618.ipynb\" target=\"_parent\"><img src=\"https://colab.research.google.com/assets/colab-badge.svg\" alt=\"Open In Colab\"/></a>"
      ]
    },
    {
      "cell_type": "markdown",
      "source": [
        "\n",
        "\n",
        "```\n",
        "標準python: .py\n",
        "基於python的工具庫(jupyter notebook): .ipynb\n",
        "jupyter notebook的文字: markdown語法\n",
        "```\n",
        "\n",
        "Latex Math\n",
        "$ a = \\pi \\frac{1}{2-\\gamma} $"
      ],
      "metadata": {
        "id": "q-BqBlP4sZn2"
      }
    },
    {
      "cell_type": "code",
      "execution_count": null,
      "metadata": {
        "id": "fYPE8i8CrEm-"
      },
      "outputs": [],
      "source": []
    }
  ]
}