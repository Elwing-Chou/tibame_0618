{
  "nbformat": 4,
  "nbformat_minor": 0,
  "metadata": {
    "colab": {
      "provenance": [],
      "authorship_tag": "ABX9TyOQBNWhl4B4p85Ae4sER37e",
      "include_colab_link": true
    },
    "kernelspec": {
      "name": "python3",
      "display_name": "Python 3"
    },
    "language_info": {
      "name": "python"
    }
  },
  "cells": [
    {
      "cell_type": "markdown",
      "metadata": {
        "id": "view-in-github",
        "colab_type": "text"
      },
      "source": [
        "<a href=\"https://colab.research.google.com/github/Elwing-Chou/tibame_0618/blob/main/tibame0618.ipynb\" target=\"_parent\"><img src=\"https://colab.research.google.com/assets/colab-badge.svg\" alt=\"Open In Colab\"/></a>"
      ]
    },
    {
      "cell_type": "markdown",
      "source": [
        "\n",
        "\n",
        "```\n",
        "標準python: .py\n",
        "基於python的工具庫(jupyter notebook): .ipynb\n",
        "jupyter notebook的文字: markdown語法\n",
        "```\n",
        "\n",
        "Latex Math\n",
        "$ a = \\pi \\frac{1}{2-\\gamma} $"
      ],
      "metadata": {
        "id": "q-BqBlP4sZn2"
      }
    },
    {
      "cell_type": "markdown",
      "source": [
        "\n",
        "\n",
        "```\n",
        "1. 功能: print(參數)\n",
        "就算功能沒有參數: 功能()\n",
        "\n",
        "2. 註解 # 空格再開始\n",
        "\n",
        "3. 程式可讀性: 註解/排版/語法\n",
        "\n",
        "4. 型態(分類):\n",
        "   數字: 整數(int) 2 小數(float) 2.0\n",
        "   字串: (str) \"身高...a : 0\"\n",
        "\n",
        "5. 給名字: 名稱 = 值\n",
        "   5 == 3 + 2(左右相等?)\n",
        "   x = 3(取代/是)\n",
        "\n",
        "6. 如果 否則(if else)\n",
        "\n",
        "7. 縮排(劇本)(冒號/TAB)\n",
        "Amy:\n",
        "    xxxx\n",
        "    xxx\n",
        "    xx\n",
        "Bob:\n",
        "    xxx\n",
        "```\n",
        "\n"
      ],
      "metadata": {
        "id": "4b66dnW61hKM"
      }
    },
    {
      "cell_type": "code",
      "execution_count": 2,
      "metadata": {
        "colab": {
          "base_uri": "https://localhost:8080/"
        },
        "id": "fYPE8i8CrEm-",
        "outputId": "bbd605c0-72db-48ba-ba43-92d01dfa511e"
      },
      "outputs": [
        {
          "output_type": "execute_result",
          "data": {
            "text/plain": [
              "5"
            ]
          },
          "metadata": {},
          "execution_count": 2
        }
      ],
      "source": [
        "print(4 + 3)\n",
        "print(3 + 2)"
      ]
    },
    {
      "cell_type": "code",
      "source": [
        "# 縮排(強調)(劇本)\n",
        "a = 5\n",
        "if a > 10:\n",
        "    print(\"數字很大\")\n",
        "    print(\"test\")\n",
        "else:\n",
        "    print(\"數字很小\")"
      ],
      "metadata": {
        "colab": {
          "base_uri": "https://localhost:8080/"
        },
        "id": "BZdc5rQG8gFe",
        "outputId": "dcb3415d-bc28-4852-be8b-ef2f3d344682"
      },
      "execution_count": 5,
      "outputs": [
        {
          "output_type": "stream",
          "name": "stdout",
          "text": [
            "數字很小\n"
          ]
        }
      ]
    },
    {
      "cell_type": "code",
      "source": [
        "# 判斷年月日是否合理的程式\n",
        "# 閏年的判斷(影響日)\n",
        "# 年月日:int\n",
        "year = 2025\n",
        "month = 6\n",
        "day = 18\n",
        "\n",
        "\n"
      ],
      "metadata": {
        "id": "4hGiJzQx2I3S"
      },
      "execution_count": 3,
      "outputs": []
    },
    {
      "cell_type": "code",
      "source": [],
      "metadata": {
        "id": "Q09eY_XH2b2P"
      },
      "execution_count": null,
      "outputs": []
    }
  ]
}