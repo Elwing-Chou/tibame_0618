{
  "nbformat": 4,
  "nbformat_minor": 0,
  "metadata": {
    "colab": {
      "provenance": [],
      "authorship_tag": "ABX9TyPwvXKiVvGktBSoMOw34cnN",
      "include_colab_link": true
    },
    "kernelspec": {
      "name": "python3",
      "display_name": "Python 3"
    },
    "language_info": {
      "name": "python"
    }
  },
  "cells": [
    {
      "cell_type": "markdown",
      "metadata": {
        "id": "view-in-github",
        "colab_type": "text"
      },
      "source": [
        "<a href=\"https://colab.research.google.com/github/Elwing-Chou/tibame_0618/blob/main/tibame_0619_2.ipynb\" target=\"_parent\"><img src=\"https://colab.research.google.com/assets/colab-badge.svg\" alt=\"Open In Colab\"/></a>"
      ]
    },
    {
      "cell_type": "markdown",
      "source": [
        "\n",
        "\n",
        "```\n",
        "布林(是否型態): True False\n",
        "1. 不: not 5 > 2\n",
        "2. 組合: and(而且) or(或者)\n",
        "```\n",
        "\n"
      ],
      "metadata": {
        "id": "LLLFrdX13AA0"
      }
    },
    {
      "cell_type": "code",
      "execution_count": null,
      "metadata": {
        "id": "y-X3h-Yo0cPE"
      },
      "outputs": [],
      "source": [
        "import random\n",
        "\n",
        "score_win = 11\n",
        "p1_win, p2_win = 0, 0\n",
        "\n",
        "i = 0\n",
        "while i < score_win * 2 - 1:\n",
        "    result = random.randint(0, 1)\n",
        "    if result == 0:\n",
        "        p1_win = p1_win + 1\n",
        "    elif result == 1:\n",
        "        p2_win = p2_win + 1\n",
        "    if (p1_win == score_win) or (p2_win == score_win):\n",
        "        break\n",
        "    i = i + 1\n",
        "if p1_win > p2_win:\n",
        "    print(\"player 1 win\")\n",
        "else:\n",
        "    print(\"player 2 win\")"
      ]
    },
    {
      "cell_type": "code",
      "source": [
        "import random\n",
        "\n",
        "score_win = 4\n",
        "p1_win, p2_win = 0, 0\n",
        "\n",
        "while (p1_win < score_win) and (p2_win < score_win):\n",
        "    result = random.randint(0, 1)\n",
        "    if result == 0:\n",
        "        p1_win = p1_win + 1\n",
        "    elif result == 1:\n",
        "        p2_win = p2_win + 1\n",
        "    print(p1_win, p2_win)\n",
        "    # if (p1_win == score_win) or (p2_win == score_win):\n",
        "    #     break\n",
        "\n",
        "if p1_win > p2_win:\n",
        "    print(\"player 1 win\")\n",
        "else:\n",
        "    print(\"player 2 win\")"
      ],
      "metadata": {
        "colab": {
          "base_uri": "https://localhost:8080/"
        },
        "id": "i9Nr0ISc7Lin",
        "outputId": "ef55e13f-c3f0-40d6-d453-e8ca8d577a47"
      },
      "execution_count": 5,
      "outputs": [
        {
          "output_type": "stream",
          "name": "stdout",
          "text": [
            "1 0\n",
            "1 1\n",
            "2 1\n",
            "3 1\n",
            "3 2\n",
            "4 2\n",
            "4 3\n",
            "4 4\n",
            "5 4\n",
            "5 5\n",
            "6 5\n",
            "6 6\n",
            "6 7\n",
            "6 8\n",
            "7 8\n",
            "8 8\n",
            "8 9\n",
            "9 9\n",
            "10 9\n",
            "10 10\n",
            "10 11\n",
            "player 2 win\n"
          ]
        }
      ]
    },
    {
      "cell_type": "code",
      "source": [
        "import random\n",
        "\n",
        "score_win = 4\n",
        "p1_win, p2_win = 0, 0\n",
        "\n",
        "# while True+break\n",
        "# 1. 判斷點自由\n",
        "# 2. 收尾很自由(break)\n",
        "# 3. (隱藏) 中文會比較好說\n",
        "\n",
        "while True:\n",
        "    result = random.randint(0, 1)\n",
        "    if result == 0:\n",
        "        p1_win = p1_win + 1\n",
        "    elif result == 1:\n",
        "        p2_win = p2_win + 1\n",
        "    print(p1_win, p2_win)\n",
        "    if p1_win == score_win:\n",
        "        print(\"player 1 win\")\n",
        "        break\n",
        "    elif p2_win == score_win:\n",
        "        print(\"player 2 win\")\n",
        "        break\n"
      ],
      "metadata": {
        "colab": {
          "base_uri": "https://localhost:8080/"
        },
        "id": "HNw7pXl87p8G",
        "outputId": "4c52f52c-64ad-4c6d-92ab-2d451cd9d885"
      },
      "execution_count": 11,
      "outputs": [
        {
          "output_type": "stream",
          "name": "stdout",
          "text": [
            "0 1\n",
            "1 1\n",
            "2 1\n",
            "2 2\n",
            "2 3\n",
            "3 3\n",
            "3 4\n",
            "player 2 win\n"
          ]
        }
      ]
    },
    {
      "cell_type": "code",
      "source": [
        "# 5:3 win\n",
        "# 6:4 win\n",
        "# 5:4 deuce\n",
        "# 5:5 deuce\n",
        "# 6:5 deuce\n",
        "score_win = 5\n",
        "p1_win, p2_win = 5, 7\n",
        "\n",
        "if (p1_win >= score_win) or (p2_win >= score_win):\n",
        "    if abs(p1_win-p2_win) <= 1:\n",
        "        print(\"no winner(deuce)\")\n",
        "    else:\n",
        "        print(\"game over\")\n",
        "else:\n",
        "    print(\"no winner\")"
      ],
      "metadata": {
        "colab": {
          "base_uri": "https://localhost:8080/"
        },
        "id": "7_54z--e_GYQ",
        "outputId": "e029e001-0029-4566-bed7-40067dd0a249"
      },
      "execution_count": 17,
      "outputs": [
        {
          "output_type": "stream",
          "name": "stdout",
          "text": [
            "game over\n"
          ]
        }
      ]
    },
    {
      "cell_type": "code",
      "source": [
        "import random\n",
        "\n",
        "# add deuce\n",
        "score_win = 4\n",
        "p1_win, p2_win = 0, 0\n",
        "\n",
        "# while True+break\n",
        "# 1. 判斷點自由\n",
        "# 2. 收尾很自由(break)\n",
        "# 3. (隱藏) 中文會比較好說\n",
        "\n",
        "while True:\n",
        "    result = random.randint(0, 1)\n",
        "    if result == 0:\n",
        "        p1_win = p1_win + 1\n",
        "    elif result == 1:\n",
        "        p2_win = p2_win + 1\n",
        "    print(p1_win, p2_win)\n",
        "    # 有任何一個人贏過分數線了\n",
        "    if (p1_win >= score_win) or (p2_win >= score_win):\n",
        "        # 但分數差值<=1\n",
        "        if abs(p1_win-p2_win) <= 1:\n",
        "            print(\"no winner(deuce)\")\n",
        "        else:\n",
        "            print(\"game over\")\n",
        "            break\n",
        "    else:\n",
        "        print(\"no winner\")"
      ],
      "metadata": {
        "colab": {
          "base_uri": "https://localhost:8080/"
        },
        "id": "3OJdlSNzDG8s",
        "outputId": "75be440c-0ff0-4672-db38-d8548322b61c"
      },
      "execution_count": 18,
      "outputs": [
        {
          "output_type": "stream",
          "name": "stdout",
          "text": [
            "0 1\n",
            "no winner\n",
            "0 2\n",
            "no winner\n",
            "0 3\n",
            "no winner\n",
            "1 3\n",
            "no winner\n",
            "2 3\n",
            "no winner\n",
            "3 3\n",
            "no winner\n",
            "4 3\n",
            "no winner(deuce)\n",
            "4 4\n",
            "no winner(deuce)\n",
            "4 5\n",
            "no winner(deuce)\n",
            "5 5\n",
            "no winner(deuce)\n",
            "5 6\n",
            "no winner(deuce)\n",
            "6 6\n",
            "no winner(deuce)\n",
            "6 7\n",
            "no winner(deuce)\n",
            "7 7\n",
            "no winner(deuce)\n",
            "7 8\n",
            "no winner(deuce)\n",
            "8 8\n",
            "no winner(deuce)\n",
            "9 8\n",
            "no winner(deuce)\n",
            "10 8\n",
            "game over\n"
          ]
        }
      ]
    },
    {
      "cell_type": "code",
      "source": [
        "# 1700000000\n",
        "# Tue Nov 14 2023 22:13:20 GMT+0000\n",
        "\n",
        "timestamp = 1700000000\n",
        "year = 1970\n",
        "while True:\n",
        "    if year % 400 == 0:\n",
        "        is_leapyear = True\n",
        "    elif year % 100 == 0:\n",
        "        is_leapyear = False\n",
        "    elif year % 4 == 0:\n",
        "        is_leapyear = True\n",
        "    else:\n",
        "        is_leapyear = False\n",
        "    if is_leapyear == True:\n",
        "        year_day = 366\n",
        "    else:\n",
        "        year_day = 365\n",
        "    year_second = year_day * 24 * 60 * 60\n",
        "    if timestamp < year_second:\n",
        "        print(\"已經不夠減了, 答案就是這個年:\", year)\n",
        "        break\n",
        "    else:\n",
        "        timestamp = timestamp - year_second\n",
        "        year = year + 1\n",
        "\n",
        "\n",
        "# 把這秒數跟每一個月的總秒數相減, 如果無法相減(比較小)那就要停下來\n",
        "day_per_month = [31, 28, 31, 30, 31, 30, 31, 31, 30, 31, 30, 31]\n",
        "i = 0\n",
        "while i < 12:\n",
        "    month = i + 1\n",
        "    month_day = day_per_month[i]\n",
        "    if month == 2 and is_leapyear == True:\n",
        "        month_day = month_day + 1\n",
        "    month_second = month_day * 24 * 60 * 60\n",
        "    if timestamp < month_second:\n",
        "        print(\"已經不夠減了, 答案就是這個月:\", month)\n",
        "        break\n",
        "    else:\n",
        "        timestamp = timestamp - month_second\n",
        "    i = i + 1\n",
        "\n",
        "# 剩下的直接/每一天的秒數\n",
        "day_second = 24 * 60 * 60\n",
        "# 數數=0, 表示才有可能要多+1\n",
        "day = timestamp // day_second + 1\n",
        "timestamp = timestamp % day_second\n",
        "\n",
        "hr_second = 60 * 60\n",
        "hr = timestamp // hr_second\n",
        "timestamp = timestamp % hr_second\n",
        "\n",
        "min_second = 60\n",
        "min = timestamp // min_second\n",
        "timestamp = timestamp % min_second\n",
        "\n",
        "sec = timestamp\n",
        "\n",
        "print(year, month, day, hr, min, sec)"
      ],
      "metadata": {
        "colab": {
          "base_uri": "https://localhost:8080/"
        },
        "id": "dC7p43RfGgae",
        "outputId": "82388c16-56b6-4324-e19e-f820622ee09d"
      },
      "execution_count": 22,
      "outputs": [
        {
          "output_type": "stream",
          "name": "stdout",
          "text": [
            "已經不夠減了, 答案就是這個年: 2023\n",
            "已經不夠減了, 答案就是這個月: 11\n",
            "2023 11 14 22 13 20\n"
          ]
        }
      ]
    },
    {
      "cell_type": "code",
      "source": [
        "def add(n1, n2):\n",
        "    ans = n1 + n2\n",
        "    return ans\n",
        "add(3, 4)"
      ],
      "metadata": {
        "id": "JkAsFe5_NVrS"
      },
      "execution_count": null,
      "outputs": []
    },
    {
      "cell_type": "code",
      "source": [
        "# prettify\n",
        "\n",
        "# 1700000000\n",
        "# Tue Nov 14 2023 22:13:20 GMT+0000\n",
        "\n",
        "def is_leap_year(y):\n",
        "    if year % 400 == 0:\n",
        "        return True\n",
        "    elif year % 100 == 0:\n",
        "        return False\n",
        "    elif year % 4 == 0:\n",
        "        return True\n",
        "    else:\n",
        "        return False\n",
        "\n",
        "\n",
        "timestamp = 1700000000\n",
        "year = 1970\n",
        "while True:\n",
        "    if is_leap_year(year):\n",
        "        year_day = 366\n",
        "    else:\n",
        "        year_day = 365\n",
        "    year_second = year_day * 24 * 60 * 60\n",
        "    if timestamp < year_second:\n",
        "        print(\"已經不夠減了, 答案就是這個年:\", year)\n",
        "        break\n",
        "    else:\n",
        "        timestamp = timestamp - year_second\n",
        "        year = year + 1\n",
        "\n",
        "\n",
        "# 把這秒數跟每一個月的總秒數相減, 如果無法相減(比較小)那就要停下來\n",
        "day_per_month = [31, 28, 31, 30, 31, 30, 31, 31, 30, 31, 30, 31]\n",
        "i = 0\n",
        "while i < 12:\n",
        "    month = i + 1\n",
        "    month_day = day_per_month[i]\n",
        "    if month == 2 and is_leap_year(year):\n",
        "        month_day = month_day + 1\n",
        "    month_second = month_day * 24 * 60 * 60\n",
        "    if timestamp < month_second:\n",
        "        print(\"已經不夠減了, 答案就是這個月:\", month)\n",
        "        break\n",
        "    else:\n",
        "        timestamp = timestamp - month_second\n",
        "    i = i + 1\n",
        "\n",
        "# 剩下的直接/每一天的秒數\n",
        "day_second = 24 * 60 * 60\n",
        "# 數數=0, 表示才有可能要多+1\n",
        "day = timestamp // day_second + 1\n",
        "timestamp = timestamp % day_second\n",
        "\n",
        "hr_second = 60 * 60\n",
        "hr = timestamp // hr_second\n",
        "timestamp = timestamp % hr_second\n",
        "\n",
        "min_second = 60\n",
        "min = timestamp // min_second\n",
        "timestamp = timestamp % min_second\n",
        "\n",
        "sec = timestamp\n",
        "\n",
        "print(year, month, day, hr, min, sec)"
      ],
      "metadata": {
        "colab": {
          "base_uri": "https://localhost:8080/"
        },
        "id": "_wAT9EBWNygs",
        "outputId": "d707f5e1-7474-4317-a3c9-4aa078ff77cc"
      },
      "execution_count": 24,
      "outputs": [
        {
          "output_type": "stream",
          "name": "stdout",
          "text": [
            "已經不夠減了, 答案就是這個年: 2023\n",
            "已經不夠減了, 答案就是這個月: 11\n",
            "2023 11 14 22 13 20\n"
          ]
        }
      ]
    }
  ]
}