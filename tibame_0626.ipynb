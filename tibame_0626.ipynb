{
  "nbformat": 4,
  "nbformat_minor": 0,
  "metadata": {
    "colab": {
      "provenance": [],
      "authorship_tag": "ABX9TyNHLWA5lv1AfDXP+xVrEuKF",
      "include_colab_link": true
    },
    "kernelspec": {
      "name": "python3",
      "display_name": "Python 3"
    },
    "language_info": {
      "name": "python"
    }
  },
  "cells": [
    {
      "cell_type": "markdown",
      "metadata": {
        "id": "view-in-github",
        "colab_type": "text"
      },
      "source": [
        "<a href=\"https://colab.research.google.com/github/Elwing-Chou/tibame_0618/blob/main/tibame_0626.ipynb\" target=\"_parent\"><img src=\"https://colab.research.google.com/assets/colab-badge.svg\" alt=\"Open In Colab\"/></a>"
      ]
    },
    {
      "cell_type": "markdown",
      "source": [
        "\n",
        "\n",
        "```\n",
        "JSON格式: [] + {}\n",
        "\n",
        "```\n",
        "\n"
      ],
      "metadata": {
        "id": "T2f4Py5J1Ap2"
      }
    },
    {
      "cell_type": "code",
      "source": [
        "# 進階open\n",
        "f = open(\"a.txt\", \"w\", encoding=\"utf-8\")\n",
        "f.write(\"avc\")\n",
        "f.close()\n",
        "\n",
        "with open(\"a.txt\", \"w\", encoding=\"utf-8\") as f:\n",
        "    f.write(\"abc\")"
      ],
      "metadata": {
        "id": "0uGF-mkk10yX"
      },
      "execution_count": 1,
      "outputs": []
    },
    {
      "cell_type": "code",
      "execution_count": 5,
      "metadata": {
        "colab": {
          "base_uri": "https://localhost:8080/"
        },
        "id": "myIdK9UM0SKu",
        "outputId": "890d0200-67f0-41d3-e12c-fd75ddb5bb08"
      },
      "outputs": [
        {
          "output_type": "stream",
          "name": "stdout",
          "text": [
            "<class 'bytes'>\n",
            "<class 'dict'>\n"
          ]
        }
      ],
      "source": [
        "# 只有from import 可以更深入, 你可以只import你要用的功能\n",
        "import json\n",
        "from urllib.request import urlopen\n",
        "\n",
        "url = \"https://api.gamer.com.tw/anime/v1/danmu.php?videoSn=36632&geo=TW%2CHK\"\n",
        "f = urlopen(url)\n",
        "content = f.read()\n",
        "print(type(content))\n",
        "content_conv = json.loads(content)\n",
        "print(type(content_conv))"
      ]
    }
  ]
}