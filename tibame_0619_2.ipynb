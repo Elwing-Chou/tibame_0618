{
  "nbformat": 4,
  "nbformat_minor": 0,
  "metadata": {
    "colab": {
      "provenance": [],
      "authorship_tag": "ABX9TyMspQjffnvokX/FG5Y09eu8",
      "include_colab_link": true
    },
    "kernelspec": {
      "name": "python3",
      "display_name": "Python 3"
    },
    "language_info": {
      "name": "python"
    }
  },
  "cells": [
    {
      "cell_type": "markdown",
      "metadata": {
        "id": "view-in-github",
        "colab_type": "text"
      },
      "source": [
        "<a href=\"https://colab.research.google.com/github/Elwing-Chou/tibame_0618/blob/main/tibame_0619_2.ipynb\" target=\"_parent\"><img src=\"https://colab.research.google.com/assets/colab-badge.svg\" alt=\"Open In Colab\"/></a>"
      ]
    },
    {
      "cell_type": "markdown",
      "source": [
        "\n",
        "\n",
        "```\n",
        "布林(是否型態): True False\n",
        "1. 不: not 5 > 2\n",
        "2. 組合: and(而且) or(或者)\n",
        "```\n",
        "\n"
      ],
      "metadata": {
        "id": "LLLFrdX13AA0"
      }
    },
    {
      "cell_type": "code",
      "execution_count": null,
      "metadata": {
        "id": "y-X3h-Yo0cPE"
      },
      "outputs": [],
      "source": [
        "import random\n",
        "\n",
        "score_win = 11\n",
        "p1_win, p2_win = 0, 0\n",
        "\n",
        "i = 0\n",
        "while i < score_win * 2 - 1:\n",
        "    result = random.randint(0, 1)\n",
        "    if result == 0:\n",
        "        p1_win = p1_win + 1\n",
        "    elif result == 1:\n",
        "        p2_win = p2_win + 1\n",
        "    if (p1_win == score_win) or (p2_win == score_win):\n",
        "        break\n",
        "    i = i + 1\n",
        "if p1_win > p2_win:\n",
        "    print(\"player 1 win\")\n",
        "else:\n",
        "    print(\"player 2 win\")"
      ]
    },
    {
      "cell_type": "code",
      "source": [
        "import random\n",
        "\n",
        "score_win = 11\n",
        "p1_win, p2_win = 0, 0\n",
        "\n",
        "while (p1_win < score_win) and (p2_win < score_win):\n",
        "    result = random.randint(0, 1)\n",
        "    if result == 0:\n",
        "        p1_win = p1_win + 1\n",
        "    elif result == 1:\n",
        "        p2_win = p2_win + 1\n",
        "    print(p1_win, p2_win)\n",
        "    # if (p1_win == score_win) or (p2_win == score_win):\n",
        "    #     break\n",
        "\n",
        "if p1_win > p2_win:\n",
        "    print(\"player 1 win\")\n",
        "else:\n",
        "    print(\"player 2 win\")"
      ],
      "metadata": {
        "colab": {
          "base_uri": "https://localhost:8080/"
        },
        "id": "i9Nr0ISc7Lin",
        "outputId": "ef55e13f-c3f0-40d6-d453-e8ca8d577a47"
      },
      "execution_count": 5,
      "outputs": [
        {
          "output_type": "stream",
          "name": "stdout",
          "text": [
            "1 0\n",
            "1 1\n",
            "2 1\n",
            "3 1\n",
            "3 2\n",
            "4 2\n",
            "4 3\n",
            "4 4\n",
            "5 4\n",
            "5 5\n",
            "6 5\n",
            "6 6\n",
            "6 7\n",
            "6 8\n",
            "7 8\n",
            "8 8\n",
            "8 9\n",
            "9 9\n",
            "10 9\n",
            "10 10\n",
            "10 11\n",
            "player 2 win\n"
          ]
        }
      ]
    },
    {
      "cell_type": "code",
      "source": [
        "_wi"
      ],
      "metadata": {
        "id": "HNw7pXl87p8G"
      },
      "execution_count": null,
      "outputs": []
    }
  ]
}