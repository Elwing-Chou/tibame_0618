{
  "nbformat": 4,
  "nbformat_minor": 0,
  "metadata": {
    "colab": {
      "provenance": [],
      "authorship_tag": "ABX9TyNblXXJxAPFugs7WHREffiW",
      "include_colab_link": true
    },
    "kernelspec": {
      "name": "python3",
      "display_name": "Python 3"
    },
    "language_info": {
      "name": "python"
    }
  },
  "cells": [
    {
      "cell_type": "markdown",
      "metadata": {
        "id": "view-in-github",
        "colab_type": "text"
      },
      "source": [
        "<a href=\"https://colab.research.google.com/github/Elwing-Chou/tibame_0618/blob/main/tibame_20250702.ipynb\" target=\"_parent\"><img src=\"https://colab.research.google.com/assets/colab-badge.svg\" alt=\"Open In Colab\"/></a>"
      ]
    },
    {
      "cell_type": "code",
      "execution_count": null,
      "metadata": {
        "id": "vOImxToHzCJJ"
      },
      "outputs": [],
      "source": []
    },
    {
      "cell_type": "markdown",
      "source": [
        "\n",
        "\n",
        "```\n",
        "HTML格式\n",
        "- 由很多長方形(區塊)構成\n",
        "\n",
        "<a href=\"xxx\"> -> start\n",
        "    店名\n",
        "</a> -> end\n",
        "\n",
        "1. 名字: 決定區塊用途\n",
        "a: 超連結  img: 圖片  video: 影片\n",
        "\n",
        "2. 屬性: 決定對應名字區塊細節(名=\"直\")\n",
        "a href=\"網址\"\n",
        "img/video src=\"網址\"\n",
        "\n",
        "3. 顯示文字\n",
        "\n",
        "\n",
        "前端\n",
        "1. 把回應呈現給你看\n",
        "a. HTML: 內容(o)\n",
        "b. CSS: 幫你把HTML做排版(o)\n",
        "c. JavaScript: 幫你處理網頁的動態(x)\n",
        "\n",
        "後端(ngrok+FastAPI):\n",
        "1. 接收網址\n",
        "2. 處理網址(查詢資料庫....)\n",
        "3. 送回回應\n",
        "\n",
        "\n",
        "CSS語法: 定位區塊 加上排版\n",
        "1. 針對HTML名字做定位\n",
        "a{\n",
        "    background-color:pink\n",
        "}\n",
        "\n",
        "2. 特別HTML排版屬性\n",
        "class=\"分類1 分類2 分類32\"\n",
        ".分類1{\n",
        "\n",
        "}\n",
        "\n",
        "e.g.\n",
        ".js-thumbnail-img{\n",
        "    border-radius:50%\n",
        "}\n",
        "\n",
        "```\n",
        "\n"
      ],
      "metadata": {
        "id": "HKtOt0t4zEnS"
      }
    }
  ]
}