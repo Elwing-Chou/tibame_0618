{
  "nbformat": 4,
  "nbformat_minor": 0,
  "metadata": {
    "colab": {
      "provenance": [],
      "authorship_tag": "ABX9TyOgNpa8vwqmyQEcgE2cs8BM",
      "include_colab_link": true
    },
    "kernelspec": {
      "name": "python3",
      "display_name": "Python 3"
    },
    "language_info": {
      "name": "python"
    }
  },
  "cells": [
    {
      "cell_type": "markdown",
      "metadata": {
        "id": "view-in-github",
        "colab_type": "text"
      },
      "source": [
        "<a href=\"https://colab.research.google.com/github/Elwing-Chou/tibame_0618/blob/main/tibame_0715.ipynb\" target=\"_parent\"><img src=\"https://colab.research.google.com/assets/colab-badge.svg\" alt=\"Open In Colab\"/></a>"
      ]
    },
    {
      "cell_type": "code",
      "source": [
        "!zip -r /content/file.zip /content/sample_data"
      ],
      "metadata": {
        "id": "JzPSGdWUtT8i"
      },
      "execution_count": null,
      "outputs": []
    },
    {
      "cell_type": "code",
      "execution_count": null,
      "metadata": {
        "id": "RWjRWPQOrP5G"
      },
      "outputs": [],
      "source": [
        "# load loads\n",
        "# dump dumps\n",
        "import json\n",
        "test = [\n",
        "    {\"name\":\"Elwing\", \"height\":175},\n",
        "    {\"name\":\"Bob\", \"height\":180}\n",
        "]\n",
        "json.dumps(test)\n",
        "# !\n",
        "with open(\"test.json\", \"w\", encoding=\"utf-8\") as f:\n",
        "    json.dump(test, f)\n",
        "\n",
        "with open(\"test.json\", \"r\", encoding=\"utf-8\") as f:\n",
        "    test2 = json.load(f)\n",
        "    print(test2)\n",
        "\n",
        "# !\n",
        "with open(\"test.json\", \"r\", encoding=\"utf-8\") as f:\n",
        "    content = f.read()\n",
        "    test3 = json.loads(content)\n",
        "    print(test3)"
      ]
    },
    {
      "cell_type": "code",
      "source": [
        "import os\n",
        "if not os.path.exists(\"a/b/c\"):\n",
        "    os.makedirs(\"a/b/c\")"
      ],
      "metadata": {
        "id": "3rBivKTvtDBe"
      },
      "execution_count": 8,
      "outputs": []
    },
    {
      "cell_type": "code",
      "source": [
        "# import\n",
        "import urllib.request\n",
        "urllib.request.urlopen\n",
        "\n",
        "# from ... import\n",
        "from urllib import request\n",
        "request.urlopen\n",
        "\n",
        "# 特殊的 只有from import才有\n",
        "# 可以更深, 只import你需要的那個功能\n",
        "from urllib.request import urlopen, urlretrieve\n",
        "urlopen"
      ],
      "metadata": {
        "id": "kKp2elLiusiL"
      },
      "execution_count": null,
      "outputs": []
    },
    {
      "cell_type": "code",
      "source": [
        "# requests函式庫\n",
        "import requests\n",
        "from bs4 import BeautifulSoup\n",
        "# urlopen: get\n",
        "url = \"https://www.ptt.cc/bbs/Beauty/M.1752031632.A.622.html\"\n",
        "h = {\n",
        "    \"User-Agent\":\"Mozilla/5.0\",\n",
        "}\n",
        "resp = requests.get(url, headers=h)\n",
        "# resp.read(): resp.text\n",
        "content = resp.text\n",
        "html = BeautifulSoup(content)\n",
        "# 好處: 容易取得\n",
        "# print(resp.request.headers)\n",
        "# if resp.status_code == 200:\n",
        "#     print(\"!\")"
      ],
      "metadata": {
        "id": "acBOPdO8wTmN"
      },
      "execution_count": null,
      "outputs": []
    },
    {
      "cell_type": "code",
      "source": [
        "payload = {\n",
        "    \"SearchType\":\"S\",\n",
        "    \"Lang\":\"TW\",\n",
        "    \"StartStation\":\"NanGang\",\n",
        "    \"EndStation\":\"ZuoYing\",\n",
        "    \"OutWardSearchDate\":\"2025/07/15\",\n",
        "    \"OutWardSearchTime\":\"10:30\",\n",
        "    \"ReturnSearchDate\":\"2025/07/15\",\n",
        "    \"ReturnSearchTime\":\"10:30\",\n",
        "    \"DiscountType\":\"\",\n",
        "}\n",
        "url = \"https://www.thsrc.com.tw/TimeTable/Search\"\n",
        "resp = requests.post(url, payload)\n",
        "content = resp.text\n",
        "json.loads(content)"
      ],
      "metadata": {
        "id": "vO0yTVpt5K3k"
      },
      "execution_count": null,
      "outputs": []
    },
    {
      "cell_type": "code",
      "source": [
        "url = \"https://i.imgur.com/OSwXeuz.jpeg\"\n",
        "# 不是純文字: stream=True\n",
        "resp = requests.get(url, stream=True, headers=h)\n",
        "content = resp.raw.read()\n",
        "# print(content)\n",
        "# print(resp.status_code)\n",
        "with open(\"a.jpeg\", \"wb\") as f:\n",
        "    f.write(content)"
      ],
      "metadata": {
        "id": "-y-mvf0Y5oHh"
      },
      "execution_count": 19,
      "outputs": []
    },
    {
      "cell_type": "code",
      "source": [
        "\n",
        "import os\n",
        "import time\n",
        "import urllib.request as req\n",
        "import undetected_chromedriver as uc\n",
        "\n",
        "from selenium import webdriver\n",
        "from selenium.webdriver.common.by import By\n",
        "from selenium.webdriver.common.keys import Keys\n",
        "\n",
        "import ssl\n",
        "ssl._create_default_https_context = ssl._create_unverified_context\n",
        "\n",
        "if __name__ == \"__main__\":\n",
        "    driver = uc.Chrome(use_subprocess=False)\n",
        "    driver.get('https://www.google.com')\n",
        "    driver.maximize_window()\n",
        "    # bs: find/find_all\n",
        "    # selenium: find_element/find_elements\n",
        "    # By.TAG_NAME  By.CLASS_NAME  By.ID\n",
        "    e = driver.find_element(By.CLASS_NAME, \"gLFyf\")\n",
        "    # click()  send_keys()\n",
        "    e.send_keys(\"chiikawa\")\n",
        "    e.send_keys(Keys.ENTER)\n",
        "    time.sleep(2)\n",
        "\n",
        "    e_list = driver.find_elements(By.CLASS_NAME, \"nPDzT\")\n",
        "    # bs: [\"href\"] .text\n",
        "    # selenium: .get_attribute(\"href\")  .text\n",
        "    for e in e_list:\n",
        "        if \"圖片\" in e.text:\n",
        "            e.click()\n",
        "            time.sleep(3)\n",
        "            break\n",
        "\n",
        "    pics = driver.find_elements(By.CLASS_NAME, \"YQ4gaf\")\n",
        "    dirname = \"google\"\n",
        "    if not os.path.exists(dirname):\n",
        "        os.makedirs(dirname)\n",
        "    for p in pics:\n",
        "        data = p.get_attribute(\"src\")\n",
        "        fn = str(time.time()) + \".png\"\n",
        "        fp = os.path.join(dirname, fn)\n",
        "        req.urlretrieve(data, fp)\n",
        "\n",
        "    time.sleep(3)\n",
        "\n"
      ],
      "metadata": {
        "id": "86gUihNHNq_9"
      },
      "execution_count": null,
      "outputs": []
    },
    {
      "cell_type": "markdown",
      "source": [
        "\n",
        "\n",
        "```\n",
        "Cookie: 你可以在瀏覽器針對某個網站儲存某些值, 這些儲存的值會在下次拜訪同網站的時候自動被送出去\n",
        "\n",
        "第一次: 送出request, 伺服器回應response\n",
        "會在response headers: Set-Cookie 要求你儲存值(通關密碼)\n",
        "\n",
        "第二次: 送出request\n",
        "會在request headers: Cookie 自動帶入儲存的通關密碼, 伺服器收到以後對照, 對了就不會再要求你登入\n",
        "\n",
        "\n",
        "\n",
        "```\n",
        "\n"
      ],
      "metadata": {
        "id": "mXo2A8aJyEaO"
      }
    },
    {
      "cell_type": "code",
      "source": [
        "\n",
        "import os\n",
        "import time\n",
        "import urllib.request as req\n",
        "import undetected_chromedriver as uc\n",
        "\n",
        "from selenium import webdriver\n",
        "from selenium.webdriver.common.by import By\n",
        "from selenium.webdriver.common.keys import Keys\n",
        "\n",
        "import ssl\n",
        "ssl._create_default_https_context = ssl._create_unverified_context\n",
        "\n",
        "if __name__ == \"__main__\":\n",
        "    driver = uc.Chrome(use_subprocess=False)\n",
        "    driver.get('https://www.google.com')\n",
        "    driver.maximize_window()\n",
        "    time.sleep(2)\n",
        "    # bs: find/find_all\n",
        "    # selenium: find_element/find_elements\n",
        "    # By.TAG_NAME  By.CLASS_NAME  By.ID\n",
        "    cookie_str = \"自己查\"\n",
        "    cookie_spl = cookie_str.split(\";\")\n",
        "    for spl in cookie_spl:\n",
        "        spl = spl.strip()\n",
        "        key, val = spl.split(\"=\", 1)\n",
        "        driver.add_cookie({\"name\": key, \"value\": val})\n",
        "    driver.refresh()\n",
        "    time.sleep(3)"
      ],
      "metadata": {
        "id": "4V61O21S1uol"
      },
      "execution_count": null,
      "outputs": []
    }
  ]
}