{
  "nbformat": 4,
  "nbformat_minor": 0,
  "metadata": {
    "colab": {
      "provenance": [],
      "authorship_tag": "ABX9TyPK4FSeutJxlXscpWPQjnWa",
      "include_colab_link": true
    },
    "kernelspec": {
      "name": "python3",
      "display_name": "Python 3"
    },
    "language_info": {
      "name": "python"
    }
  },
  "cells": [
    {
      "cell_type": "markdown",
      "metadata": {
        "id": "view-in-github",
        "colab_type": "text"
      },
      "source": [
        "<a href=\"https://colab.research.google.com/github/Elwing-Chou/tibame_0618/blob/main/tibame_0619.ipynb\" target=\"_parent\"><img src=\"https://colab.research.google.com/assets/colab-badge.svg\" alt=\"Open In Colab\"/></a>"
      ]
    },
    {
      "cell_type": "markdown",
      "source": [
        "\n",
        "\n",
        "```\n",
        "迴圈的累積\n",
        "- 你發覺你在做事情的時候需要記得東西\n",
        "  就準備一組名字=值在迴圈的外面\n",
        "\n",
        "```\n",
        "\n"
      ],
      "metadata": {
        "id": "U0PUg4kew40E"
      }
    },
    {
      "cell_type": "code",
      "execution_count": null,
      "metadata": {
        "id": "EskhES-Ow1Wv"
      },
      "outputs": [],
      "source": [
        "total = 0\n",
        "i = 0\n",
        "while i < 10:\n",
        "    total = total + (i + 1)\n",
        "    print(total)\n",
        "    i = i + 1\n",
        "print(\"!!!!!\")"
      ]
    },
    {
      "cell_type": "code",
      "source": [
        "a = 798\n",
        "b = 8\n",
        "total = 0\n",
        "\n",
        "a_str = str(a)\n",
        "i = 0\n",
        "while i < len(a_str):\n",
        "    n = int(a_str[len(a_str)-i-1])\n",
        "    temp = (b * n) * (10 ** i)\n",
        "    total = total + temp\n",
        "    i = i + 1\n",
        "print(total)"
      ],
      "metadata": {
        "colab": {
          "base_uri": "https://localhost:8080/"
        },
        "id": "PcYxhHJkzmmI",
        "outputId": "30301db3-1fdf-46f0-aaa6-c081e0194a21"
      },
      "execution_count": 18,
      "outputs": [
        {
          "output_type": "stream",
          "name": "stdout",
          "text": [
            "6384\n"
          ]
        }
      ]
    },
    {
      "cell_type": "code",
      "source": [
        "# 看看就好\n",
        "a = 798\n",
        "b = 928\n",
        "total = 0\n",
        "\n",
        "a_str = str(a)\n",
        "b_str = str(b)\n",
        "\n",
        "j = 0\n",
        "while j < len(b_str):\n",
        "    b_n = int(b_str[len(b_str)-j-1])\n",
        "    temp_total = 0\n",
        "    i = 0\n",
        "    while i < len(a_str):\n",
        "        a_n = int(a_str[len(a_str)-i-1])\n",
        "        temp = (b_n * a_n) * (10 ** i)\n",
        "        temp_total = temp_total + temp\n",
        "        i = i + 1\n",
        "    print(temp_total)\n",
        "    total = total + temp_total * (10 ** j)\n",
        "    j = j + 1\n",
        "print(total)"
      ],
      "metadata": {
        "colab": {
          "base_uri": "https://localhost:8080/"
        },
        "id": "aTPUjHkk7EhV",
        "outputId": "14441eca-50a9-4a9f-c848-946b2dcaa5dc"
      },
      "execution_count": 22,
      "outputs": [
        {
          "output_type": "stream",
          "name": "stdout",
          "text": [
            "6384\n",
            "1596\n",
            "7182\n",
            "740544\n"
          ]
        }
      ]
    },
    {
      "cell_type": "code",
      "source": [
        "10 ** 0"
      ],
      "metadata": {
        "colab": {
          "base_uri": "https://localhost:8080/"
        },
        "id": "7l88dCzF0PDG",
        "outputId": "39cfdcd1-dc10-4935-ab5f-76d6ebf2bd52"
      },
      "execution_count": 7,
      "outputs": [
        {
          "output_type": "execute_result",
          "data": {
            "text/plain": [
              "1"
            ]
          },
          "metadata": {},
          "execution_count": 7
        }
      ]
    },
    {
      "cell_type": "code",
      "source": [
        "# 回傳值: 做完這個功能得到的\"新的\"回覆\n",
        "# 功能你要注意的就是\"參數\" 和 \"回傳值\"\n",
        "a = 4.2\n",
        "b = int(a)\n",
        "print(a)\n",
        "a = int(a)"
      ],
      "metadata": {
        "colab": {
          "base_uri": "https://localhost:8080/"
        },
        "id": "LQorWCdG0dOQ",
        "outputId": "d9ef3be2-8287-4002-dda1-f2b86007d476"
      },
      "execution_count": 10,
      "outputs": [
        {
          "output_type": "stream",
          "name": "stdout",
          "text": [
            "4.2\n"
          ]
        }
      ]
    },
    {
      "cell_type": "code",
      "source": [
        "a = 328\n",
        "a_str = str(a)\n",
        "i = 0\n",
        "a_str[len(a_str)-i-1]"
      ],
      "metadata": {
        "id": "yWCJBJLg1VWz"
      },
      "execution_count": null,
      "outputs": []
    },
    {
      "cell_type": "code",
      "source": [
        "!pip install ColabTurtle"
      ],
      "metadata": {
        "colab": {
          "base_uri": "https://localhost:8080/"
        },
        "id": "dpEoi-GABYuS",
        "outputId": "b2e2af74-3d8a-4d4e-93ca-24433956503d"
      },
      "execution_count": 2,
      "outputs": [
        {
          "output_type": "stream",
          "name": "stdout",
          "text": [
            "Collecting ColabTurtle\n",
            "  Downloading ColabTurtle-2.1.0.tar.gz (6.8 kB)\n",
            "  Preparing metadata (setup.py) ... \u001b[?25l\u001b[?25hdone\n",
            "Building wheels for collected packages: ColabTurtle\n",
            "  Building wheel for ColabTurtle (setup.py) ... \u001b[?25l\u001b[?25hdone\n",
            "  Created wheel for ColabTurtle: filename=ColabTurtle-2.1.0-py3-none-any.whl size=7643 sha256=25e1df4ad1fd1bca75b5518419f1edb7550f593f2104392a07d5dcb22b590ccf\n",
            "  Stored in directory: /root/.cache/pip/wheels/f6/9e/81/137e7da25129474562d30f8660be599e5c8d79228cb747e5b9\n",
            "Successfully built ColabTurtle\n",
            "Installing collected packages: ColabTurtle\n",
            "Successfully installed ColabTurtle-2.1.0\n"
          ]
        }
      ]
    },
    {
      "cell_type": "code",
      "source": [
        "from ColabTurtle.Turtle import *\n",
        "\n",
        "initializeTurtle()\n",
        "# hideturtle()\n",
        "speed(10)\n",
        "forward(100)\n",
        "left(90)\n",
        "backward(100)\n",
        "right(90)\n",
        "\n",
        "# 決定要不要畫\n",
        "penup()\n",
        "forward(20)\n",
        "pendown()\n",
        "forward(20)\n",
        "\n",
        "p = pos()\n",
        "print(p)\n",
        "# (0, 0)在左上角, 往右增加, 往下增加\n",
        "print(p[0])\n",
        "print(p[1])\n",
        "goto(0, 0)"
      ],
      "metadata": {
        "colab": {
          "base_uri": "https://localhost:8080/",
          "height": 575
        },
        "id": "DPyam953B4qt",
        "outputId": "7c4d3b7d-47e6-43a5-d9ed-03a2682ef737"
      },
      "execution_count": 36,
      "outputs": [
        {
          "output_type": "display_data",
          "data": {
            "text/plain": [
              "<IPython.core.display.HTML object>"
            ],
            "text/html": [
              "\n",
              "      <svg width=\"800\" height=\"500\">\n",
              "        <rect width=\"100%\" height=\"100%\" fill=\"black\"/>\n",
              "        <line x1=\"400\" y1=\"250\" x2=\"400.0\" y2=\"150.0\" stroke-linecap=\"round\" style=\"stroke:white;stroke-width:4\"/><line x1=\"400.0\" y1=\"150.0\" x2=\"500.0\" y2=\"150.0\" stroke-linecap=\"round\" style=\"stroke:white;stroke-width:4\"/><line x1=\"500.0\" y1=\"130.0\" x2=\"500.0\" y2=\"110.0\" stroke-linecap=\"round\" style=\"stroke:white;stroke-width:4\"/><line x1=\"500.0\" y1=\"110.0\" x2=\"0\" y2=\"0\" stroke-linecap=\"round\" style=\"stroke:white;stroke-width:4\"/>\n",
              "        <g visibility=visible transform=\"rotate(360,0,0) translate(-18, -18)\">\n",
              "<path style=\" stroke:none;fill-rule:evenodd;fill:white;fill-opacity:1;\" d=\"M 18.214844 0.632812 C 16.109375 1.800781 15.011719 4.074219 15.074219 7.132812 L 15.085938 7.652344 L 14.785156 7.496094 C 13.476562 6.824219 11.957031 6.671875 10.40625 7.066406 C 8.46875 7.550781 6.515625 9.15625 4.394531 11.992188 C 3.0625 13.777344 2.679688 14.636719 3.042969 15.027344 L 3.15625 15.152344 L 3.519531 15.152344 C 4.238281 15.152344 4.828125 14.886719 8.1875 13.039062 C 9.386719 12.378906 10.371094 11.839844 10.378906 11.839844 C 10.386719 11.839844 10.355469 11.929688 10.304688 12.035156 C 9.832031 13.09375 9.257812 14.820312 8.96875 16.078125 C 7.914062 20.652344 8.617188 24.53125 11.070312 27.660156 C 11.351562 28.015625 11.363281 27.914062 10.972656 28.382812 C 8.925781 30.84375 7.945312 33.28125 8.238281 35.1875 C 8.289062 35.527344 8.28125 35.523438 8.917969 35.523438 C 10.941406 35.523438 13.074219 34.207031 15.136719 31.6875 C 15.359375 31.417969 15.328125 31.425781 15.5625 31.574219 C 16.292969 32.042969 18.023438 32.964844 18.175781 32.964844 C 18.335938 32.964844 19.941406 32.210938 20.828125 31.71875 C 20.996094 31.625 21.136719 31.554688 21.136719 31.558594 C 21.203125 31.664062 21.898438 32.414062 22.222656 32.730469 C 23.835938 34.300781 25.5625 35.132812 27.582031 35.300781 C 27.90625 35.328125 27.9375 35.308594 28.007812 34.984375 C 28.382812 33.242188 27.625 30.925781 25.863281 28.425781 L 25.542969 27.96875 L 25.699219 27.785156 C 28.945312 23.960938 29.132812 18.699219 26.257812 11.96875 L 26.207031 11.84375 L 27.945312 12.703125 C 31.53125 14.476562 32.316406 14.800781 33.03125 14.800781 C 33.976562 14.800781 33.78125 13.9375 32.472656 12.292969 C 28.519531 7.355469 25.394531 5.925781 21.921875 7.472656 L 21.558594 7.636719 L 21.578125 7.542969 C 21.699219 6.992188 21.761719 5.742188 21.699219 5.164062 C 21.496094 3.296875 20.664062 1.964844 19.003906 0.855469 C 18.480469 0.503906 18.457031 0.5 18.214844 0.632812\"/>\n",
              "</g>\n",
              "      </svg>\n",
              "    "
            ]
          },
          "metadata": {}
        },
        {
          "output_type": "stream",
          "name": "stdout",
          "text": [
            "(500.0, 110.0)\n",
            "500.0\n",
            "110.0\n"
          ]
        }
      ]
    },
    {
      "cell_type": "code",
      "source": [
        "initializeTurtle()\n",
        "\n",
        "i = 0\n",
        "while i < 4:\n",
        "    forward(50)\n",
        "    right(90)\n",
        "    i = i + 1"
      ],
      "metadata": {
        "id": "LhcHlte-EFfE"
      },
      "execution_count": null,
      "outputs": []
    },
    {
      "cell_type": "markdown",
      "source": [
        "\n",
        "\n",
        "```\n",
        "import .py名\n",
        "import後面照抄.(的)\n",
        "\n",
        "快捷鍵: ctrl + / 某些編輯器 ctrl + #\n",
        "\n",
        "```\n",
        "\n"
      ],
      "metadata": {
        "id": "tcgEkD3ZG2H9"
      }
    },
    {
      "cell_type": "code",
      "source": [
        "import math\n",
        "\n",
        "initializeTurtle()\n",
        "speed(8)\n",
        "radius = 100\n",
        "n = 100\n",
        "\n",
        "mid_angle = 360 / n\n",
        "other_angle_deg = (180 - mid_angle) / 2\n",
        "other_angle_rad = math.radians(other_angle_deg)\n",
        "width = 2 * radius * math.cos(other_angle_rad)\n",
        "\n",
        "\n",
        "# 放到起始點\n",
        "penup()\n",
        "forward(radius)\n",
        "pendown()\n",
        "right(180-other_angle_deg)\n",
        "i = 0\n",
        "while i < n:\n",
        "    # 開始走\n",
        "    forward(width)\n",
        "    right(mid_angle)\n",
        "    i = i + 1\n"
      ],
      "metadata": {
        "colab": {
          "base_uri": "https://localhost:8080/",
          "height": 521
        },
        "id": "GIrkgR50GcLl",
        "outputId": "cd2327b8-ee95-4559-b180-9ad1727e7475"
      },
      "execution_count": 47,
      "outputs": [
        {
          "output_type": "display_data",
          "data": {
            "text/plain": [
              "<IPython.core.display.HTML object>"
            ],
            "text/html": [
              "\n",
              "      <svg width=\"800\" height=\"500\">\n",
              "        <rect width=\"100%\" height=\"100%\" fill=\"black\"/>\n",
              "        <line x1=\"400.0\" y1=\"150.0\" x2=\"406.279\" y2=\"150.197\" stroke-linecap=\"round\" style=\"stroke:white;stroke-width:4\"/><line x1=\"406.279\" y1=\"150.197\" x2=\"412.533\" y2=\"150.788\" stroke-linecap=\"round\" style=\"stroke:white;stroke-width:4\"/><line x1=\"412.533\" y1=\"150.788\" x2=\"418.738\" y2=\"151.771\" stroke-linecap=\"round\" style=\"stroke:white;stroke-width:4\"/><line x1=\"418.738\" y1=\"151.771\" x2=\"424.869\" y2=\"153.141\" stroke-linecap=\"round\" style=\"stroke:white;stroke-width:4\"/><line x1=\"424.869\" y1=\"153.141\" x2=\"430.902\" y2=\"154.894\" stroke-linecap=\"round\" style=\"stroke:white;stroke-width:4\"/><line x1=\"430.902\" y1=\"154.894\" x2=\"436.813\" y2=\"157.022\" stroke-linecap=\"round\" style=\"stroke:white;stroke-width:4\"/><line x1=\"436.813\" y1=\"157.022\" x2=\"442.578\" y2=\"159.517\" stroke-linecap=\"round\" style=\"stroke:white;stroke-width:4\"/><line x1=\"442.578\" y1=\"159.517\" x2=\"448.175\" y2=\"162.369\" stroke-linecap=\"round\" style=\"stroke:white;stroke-width:4\"/><line x1=\"448.175\" y1=\"162.369\" x2=\"453.582\" y2=\"165.567\" stroke-linecap=\"round\" style=\"stroke:white;stroke-width:4\"/><line x1=\"453.582\" y1=\"165.567\" x2=\"458.778\" y2=\"169.098\" stroke-linecap=\"round\" style=\"stroke:white;stroke-width:4\"/><line x1=\"458.778\" y1=\"169.098\" x2=\"463.742\" y2=\"172.948\" stroke-linecap=\"round\" style=\"stroke:white;stroke-width:4\"/><line x1=\"463.742\" y1=\"172.948\" x2=\"468.454\" y2=\"177.102\" stroke-linecap=\"round\" style=\"stroke:white;stroke-width:4\"/><line x1=\"468.454\" y1=\"177.102\" x2=\"472.896\" y2=\"181.544\" stroke-linecap=\"round\" style=\"stroke:white;stroke-width:4\"/><line x1=\"472.896\" y1=\"181.544\" x2=\"477.05\" y2=\"186.256\" stroke-linecap=\"round\" style=\"stroke:white;stroke-width:4\"/><line x1=\"477.05\" y1=\"186.256\" x2=\"480.9\" y2=\"191.22\" stroke-linecap=\"round\" style=\"stroke:white;stroke-width:4\"/><line x1=\"480.9\" y1=\"191.22\" x2=\"484.431\" y2=\"196.416\" stroke-linecap=\"round\" style=\"stroke:white;stroke-width:4\"/><line x1=\"484.431\" y1=\"196.416\" x2=\"487.629\" y2=\"201.823\" stroke-linecap=\"round\" style=\"stroke:white;stroke-width:4\"/><line x1=\"487.629\" y1=\"201.823\" x2=\"490.481\" y2=\"207.42\" stroke-linecap=\"round\" style=\"stroke:white;stroke-width:4\"/><line x1=\"490.481\" y1=\"207.42\" x2=\"492.976\" y2=\"213.185\" stroke-linecap=\"round\" style=\"stroke:white;stroke-width:4\"/><line x1=\"492.976\" y1=\"213.185\" x2=\"495.104\" y2=\"219.096\" stroke-linecap=\"round\" style=\"stroke:white;stroke-width:4\"/><line x1=\"495.104\" y1=\"219.096\" x2=\"496.857\" y2=\"225.129\" stroke-linecap=\"round\" style=\"stroke:white;stroke-width:4\"/><line x1=\"496.857\" y1=\"225.129\" x2=\"498.227\" y2=\"231.26\" stroke-linecap=\"round\" style=\"stroke:white;stroke-width:4\"/><line x1=\"498.227\" y1=\"231.26\" x2=\"499.21\" y2=\"237.465\" stroke-linecap=\"round\" style=\"stroke:white;stroke-width:4\"/><line x1=\"499.21\" y1=\"237.465\" x2=\"499.801\" y2=\"243.719\" stroke-linecap=\"round\" style=\"stroke:white;stroke-width:4\"/><line x1=\"499.801\" y1=\"243.719\" x2=\"499.998\" y2=\"249.998\" stroke-linecap=\"round\" style=\"stroke:white;stroke-width:4\"/><line x1=\"499.998\" y1=\"249.998\" x2=\"499.801\" y2=\"256.277\" stroke-linecap=\"round\" style=\"stroke:white;stroke-width:4\"/><line x1=\"499.801\" y1=\"256.277\" x2=\"499.21\" y2=\"262.531\" stroke-linecap=\"round\" style=\"stroke:white;stroke-width:4\"/><line x1=\"499.21\" y1=\"262.531\" x2=\"498.227\" y2=\"268.736\" stroke-linecap=\"round\" style=\"stroke:white;stroke-width:4\"/><line x1=\"498.227\" y1=\"268.736\" x2=\"496.857\" y2=\"274.867\" stroke-linecap=\"round\" style=\"stroke:white;stroke-width:4\"/><line x1=\"496.857\" y1=\"274.867\" x2=\"495.104\" y2=\"280.9\" stroke-linecap=\"round\" style=\"stroke:white;stroke-width:4\"/><line x1=\"495.104\" y1=\"280.9\" x2=\"492.976\" y2=\"286.811\" stroke-linecap=\"round\" style=\"stroke:white;stroke-width:4\"/><line x1=\"492.976\" y1=\"286.811\" x2=\"490.481\" y2=\"292.576\" stroke-linecap=\"round\" style=\"stroke:white;stroke-width:4\"/><line x1=\"490.481\" y1=\"292.576\" x2=\"487.629\" y2=\"298.173\" stroke-linecap=\"round\" style=\"stroke:white;stroke-width:4\"/><line x1=\"487.629\" y1=\"298.173\" x2=\"484.431\" y2=\"303.58\" stroke-linecap=\"round\" style=\"stroke:white;stroke-width:4\"/><line x1=\"484.431\" y1=\"303.58\" x2=\"480.9\" y2=\"308.776\" stroke-linecap=\"round\" style=\"stroke:white;stroke-width:4\"/><line x1=\"480.9\" y1=\"308.776\" x2=\"477.05\" y2=\"313.74\" stroke-linecap=\"round\" style=\"stroke:white;stroke-width:4\"/><line x1=\"477.05\" y1=\"313.74\" x2=\"472.896\" y2=\"318.452\" stroke-linecap=\"round\" style=\"stroke:white;stroke-width:4\"/><line x1=\"472.896\" y1=\"318.452\" x2=\"468.454\" y2=\"322.894\" stroke-linecap=\"round\" style=\"stroke:white;stroke-width:4\"/><line x1=\"468.454\" y1=\"322.894\" x2=\"463.742\" y2=\"327.048\" stroke-linecap=\"round\" style=\"stroke:white;stroke-width:4\"/><line x1=\"463.742\" y1=\"327.048\" x2=\"458.778\" y2=\"330.898\" stroke-linecap=\"round\" style=\"stroke:white;stroke-width:4\"/><line x1=\"458.778\" y1=\"330.898\" x2=\"453.582\" y2=\"334.429\" stroke-linecap=\"round\" style=\"stroke:white;stroke-width:4\"/><line x1=\"453.582\" y1=\"334.429\" x2=\"448.175\" y2=\"337.627\" stroke-linecap=\"round\" style=\"stroke:white;stroke-width:4\"/><line x1=\"448.175\" y1=\"337.627\" x2=\"442.578\" y2=\"340.479\" stroke-linecap=\"round\" style=\"stroke:white;stroke-width:4\"/><line x1=\"442.578\" y1=\"340.479\" x2=\"436.813\" y2=\"342.974\" stroke-linecap=\"round\" style=\"stroke:white;stroke-width:4\"/><line x1=\"436.813\" y1=\"342.974\" x2=\"430.902\" y2=\"345.102\" stroke-linecap=\"round\" style=\"stroke:white;stroke-width:4\"/><line x1=\"430.902\" y1=\"345.102\" x2=\"424.869\" y2=\"346.855\" stroke-linecap=\"round\" style=\"stroke:white;stroke-width:4\"/><line x1=\"424.869\" y1=\"346.855\" x2=\"418.738\" y2=\"348.225\" stroke-linecap=\"round\" style=\"stroke:white;stroke-width:4\"/><line x1=\"418.738\" y1=\"348.225\" x2=\"412.533\" y2=\"349.208\" stroke-linecap=\"round\" style=\"stroke:white;stroke-width:4\"/><line x1=\"412.533\" y1=\"349.208\" x2=\"406.279\" y2=\"349.799\" stroke-linecap=\"round\" style=\"stroke:white;stroke-width:4\"/><line x1=\"406.279\" y1=\"349.799\" x2=\"400.0\" y2=\"349.996\" stroke-linecap=\"round\" style=\"stroke:white;stroke-width:4\"/><line x1=\"400.0\" y1=\"349.996\" x2=\"393.721\" y2=\"349.799\" stroke-linecap=\"round\" style=\"stroke:white;stroke-width:4\"/><line x1=\"393.721\" y1=\"349.799\" x2=\"387.467\" y2=\"349.208\" stroke-linecap=\"round\" style=\"stroke:white;stroke-width:4\"/><line x1=\"387.467\" y1=\"349.208\" x2=\"381.262\" y2=\"348.225\" stroke-linecap=\"round\" style=\"stroke:white;stroke-width:4\"/><line x1=\"381.262\" y1=\"348.225\" x2=\"375.131\" y2=\"346.855\" stroke-linecap=\"round\" style=\"stroke:white;stroke-width:4\"/><line x1=\"375.131\" y1=\"346.855\" x2=\"369.098\" y2=\"345.102\" stroke-linecap=\"round\" style=\"stroke:white;stroke-width:4\"/><line x1=\"369.098\" y1=\"345.102\" x2=\"363.187\" y2=\"342.974\" stroke-linecap=\"round\" style=\"stroke:white;stroke-width:4\"/><line x1=\"363.187\" y1=\"342.974\" x2=\"357.422\" y2=\"340.479\" stroke-linecap=\"round\" style=\"stroke:white;stroke-width:4\"/><line x1=\"357.422\" y1=\"340.479\" x2=\"351.825\" y2=\"337.627\" stroke-linecap=\"round\" style=\"stroke:white;stroke-width:4\"/><line x1=\"351.825\" y1=\"337.627\" x2=\"346.418\" y2=\"334.429\" stroke-linecap=\"round\" style=\"stroke:white;stroke-width:4\"/><line x1=\"346.418\" y1=\"334.429\" x2=\"341.222\" y2=\"330.898\" stroke-linecap=\"round\" style=\"stroke:white;stroke-width:4\"/><line x1=\"341.222\" y1=\"330.898\" x2=\"336.258\" y2=\"327.048\" stroke-linecap=\"round\" style=\"stroke:white;stroke-width:4\"/><line x1=\"336.258\" y1=\"327.048\" x2=\"331.546\" y2=\"322.894\" stroke-linecap=\"round\" style=\"stroke:white;stroke-width:4\"/><line x1=\"331.546\" y1=\"322.894\" x2=\"327.104\" y2=\"318.452\" stroke-linecap=\"round\" style=\"stroke:white;stroke-width:4\"/><line x1=\"327.104\" y1=\"318.452\" x2=\"322.95\" y2=\"313.74\" stroke-linecap=\"round\" style=\"stroke:white;stroke-width:4\"/><line x1=\"322.95\" y1=\"313.74\" x2=\"319.1\" y2=\"308.776\" stroke-linecap=\"round\" style=\"stroke:white;stroke-width:4\"/><line x1=\"319.1\" y1=\"308.776\" x2=\"315.569\" y2=\"303.58\" stroke-linecap=\"round\" style=\"stroke:white;stroke-width:4\"/><line x1=\"315.569\" y1=\"303.58\" x2=\"312.371\" y2=\"298.173\" stroke-linecap=\"round\" style=\"stroke:white;stroke-width:4\"/><line x1=\"312.371\" y1=\"298.173\" x2=\"309.519\" y2=\"292.576\" stroke-linecap=\"round\" style=\"stroke:white;stroke-width:4\"/><line x1=\"309.519\" y1=\"292.576\" x2=\"307.024\" y2=\"286.811\" stroke-linecap=\"round\" style=\"stroke:white;stroke-width:4\"/><line x1=\"307.024\" y1=\"286.811\" x2=\"304.896\" y2=\"280.9\" stroke-linecap=\"round\" style=\"stroke:white;stroke-width:4\"/><line x1=\"304.896\" y1=\"280.9\" x2=\"303.143\" y2=\"274.867\" stroke-linecap=\"round\" style=\"stroke:white;stroke-width:4\"/><line x1=\"303.143\" y1=\"274.867\" x2=\"301.773\" y2=\"268.736\" stroke-linecap=\"round\" style=\"stroke:white;stroke-width:4\"/><line x1=\"301.773\" y1=\"268.736\" x2=\"300.79\" y2=\"262.531\" stroke-linecap=\"round\" style=\"stroke:white;stroke-width:4\"/><line x1=\"300.79\" y1=\"262.531\" x2=\"300.199\" y2=\"256.277\" stroke-linecap=\"round\" style=\"stroke:white;stroke-width:4\"/><line x1=\"300.199\" y1=\"256.277\" x2=\"300.002\" y2=\"249.998\" stroke-linecap=\"round\" style=\"stroke:white;stroke-width:4\"/><line x1=\"300.002\" y1=\"249.998\" x2=\"300.199\" y2=\"243.719\" stroke-linecap=\"round\" style=\"stroke:white;stroke-width:4\"/><line x1=\"300.199\" y1=\"243.719\" x2=\"300.79\" y2=\"237.465\" stroke-linecap=\"round\" style=\"stroke:white;stroke-width:4\"/><line x1=\"300.79\" y1=\"237.465\" x2=\"301.773\" y2=\"231.26\" stroke-linecap=\"round\" style=\"stroke:white;stroke-width:4\"/><line x1=\"301.773\" y1=\"231.26\" x2=\"303.143\" y2=\"225.129\" stroke-linecap=\"round\" style=\"stroke:white;stroke-width:4\"/><line x1=\"303.143\" y1=\"225.129\" x2=\"304.896\" y2=\"219.096\" stroke-linecap=\"round\" style=\"stroke:white;stroke-width:4\"/><line x1=\"304.896\" y1=\"219.096\" x2=\"307.024\" y2=\"213.185\" stroke-linecap=\"round\" style=\"stroke:white;stroke-width:4\"/><line x1=\"307.024\" y1=\"213.185\" x2=\"309.519\" y2=\"207.42\" stroke-linecap=\"round\" style=\"stroke:white;stroke-width:4\"/><line x1=\"309.519\" y1=\"207.42\" x2=\"312.371\" y2=\"201.823\" stroke-linecap=\"round\" style=\"stroke:white;stroke-width:4\"/><line x1=\"312.371\" y1=\"201.823\" x2=\"315.569\" y2=\"196.416\" stroke-linecap=\"round\" style=\"stroke:white;stroke-width:4\"/><line x1=\"315.569\" y1=\"196.416\" x2=\"319.1\" y2=\"191.22\" stroke-linecap=\"round\" style=\"stroke:white;stroke-width:4\"/><line x1=\"319.1\" y1=\"191.22\" x2=\"322.95\" y2=\"186.256\" stroke-linecap=\"round\" style=\"stroke:white;stroke-width:4\"/><line x1=\"322.95\" y1=\"186.256\" x2=\"327.104\" y2=\"181.544\" stroke-linecap=\"round\" style=\"stroke:white;stroke-width:4\"/><line x1=\"327.104\" y1=\"181.544\" x2=\"331.546\" y2=\"177.102\" stroke-linecap=\"round\" style=\"stroke:white;stroke-width:4\"/><line x1=\"331.546\" y1=\"177.102\" x2=\"336.258\" y2=\"172.948\" stroke-linecap=\"round\" style=\"stroke:white;stroke-width:4\"/><line x1=\"336.258\" y1=\"172.948\" x2=\"341.222\" y2=\"169.098\" stroke-linecap=\"round\" style=\"stroke:white;stroke-width:4\"/><line x1=\"341.222\" y1=\"169.098\" x2=\"346.418\" y2=\"165.567\" stroke-linecap=\"round\" style=\"stroke:white;stroke-width:4\"/><line x1=\"346.418\" y1=\"165.567\" x2=\"351.825\" y2=\"162.369\" stroke-linecap=\"round\" style=\"stroke:white;stroke-width:4\"/><line x1=\"351.825\" y1=\"162.369\" x2=\"357.422\" y2=\"159.517\" stroke-linecap=\"round\" style=\"stroke:white;stroke-width:4\"/><line x1=\"357.422\" y1=\"159.517\" x2=\"363.187\" y2=\"157.022\" stroke-linecap=\"round\" style=\"stroke:white;stroke-width:4\"/><line x1=\"363.187\" y1=\"157.022\" x2=\"369.098\" y2=\"154.894\" stroke-linecap=\"round\" style=\"stroke:white;stroke-width:4\"/><line x1=\"369.098\" y1=\"154.894\" x2=\"375.131\" y2=\"153.141\" stroke-linecap=\"round\" style=\"stroke:white;stroke-width:4\"/><line x1=\"375.131\" y1=\"153.141\" x2=\"381.262\" y2=\"151.771\" stroke-linecap=\"round\" style=\"stroke:white;stroke-width:4\"/><line x1=\"381.262\" y1=\"151.771\" x2=\"387.467\" y2=\"150.788\" stroke-linecap=\"round\" style=\"stroke:white;stroke-width:4\"/><line x1=\"387.467\" y1=\"150.788\" x2=\"393.721\" y2=\"150.197\" stroke-linecap=\"round\" style=\"stroke:white;stroke-width:4\"/><line x1=\"393.721\" y1=\"150.197\" x2=\"400.0\" y2=\"150.0\" stroke-linecap=\"round\" style=\"stroke:white;stroke-width:4\"/>\n",
              "        <g visibility=visible transform=\"rotate(91.80000000000041,400.0,150.0) translate(382.0, 132.0)\">\n",
              "<path style=\" stroke:none;fill-rule:evenodd;fill:white;fill-opacity:1;\" d=\"M 18.214844 0.632812 C 16.109375 1.800781 15.011719 4.074219 15.074219 7.132812 L 15.085938 7.652344 L 14.785156 7.496094 C 13.476562 6.824219 11.957031 6.671875 10.40625 7.066406 C 8.46875 7.550781 6.515625 9.15625 4.394531 11.992188 C 3.0625 13.777344 2.679688 14.636719 3.042969 15.027344 L 3.15625 15.152344 L 3.519531 15.152344 C 4.238281 15.152344 4.828125 14.886719 8.1875 13.039062 C 9.386719 12.378906 10.371094 11.839844 10.378906 11.839844 C 10.386719 11.839844 10.355469 11.929688 10.304688 12.035156 C 9.832031 13.09375 9.257812 14.820312 8.96875 16.078125 C 7.914062 20.652344 8.617188 24.53125 11.070312 27.660156 C 11.351562 28.015625 11.363281 27.914062 10.972656 28.382812 C 8.925781 30.84375 7.945312 33.28125 8.238281 35.1875 C 8.289062 35.527344 8.28125 35.523438 8.917969 35.523438 C 10.941406 35.523438 13.074219 34.207031 15.136719 31.6875 C 15.359375 31.417969 15.328125 31.425781 15.5625 31.574219 C 16.292969 32.042969 18.023438 32.964844 18.175781 32.964844 C 18.335938 32.964844 19.941406 32.210938 20.828125 31.71875 C 20.996094 31.625 21.136719 31.554688 21.136719 31.558594 C 21.203125 31.664062 21.898438 32.414062 22.222656 32.730469 C 23.835938 34.300781 25.5625 35.132812 27.582031 35.300781 C 27.90625 35.328125 27.9375 35.308594 28.007812 34.984375 C 28.382812 33.242188 27.625 30.925781 25.863281 28.425781 L 25.542969 27.96875 L 25.699219 27.785156 C 28.945312 23.960938 29.132812 18.699219 26.257812 11.96875 L 26.207031 11.84375 L 27.945312 12.703125 C 31.53125 14.476562 32.316406 14.800781 33.03125 14.800781 C 33.976562 14.800781 33.78125 13.9375 32.472656 12.292969 C 28.519531 7.355469 25.394531 5.925781 21.921875 7.472656 L 21.558594 7.636719 L 21.578125 7.542969 C 21.699219 6.992188 21.761719 5.742188 21.699219 5.164062 C 21.496094 3.296875 20.664062 1.964844 19.003906 0.855469 C 18.480469 0.503906 18.457031 0.5 18.214844 0.632812\"/>\n",
              "</g>\n",
              "      </svg>\n",
              "    "
            ]
          },
          "metadata": {}
        }
      ]
    },
    {
      "cell_type": "code",
      "source": [
        "import random\n",
        "from ColabTurtle.Turtle import *\n",
        "\n",
        "\n",
        "initializeTurtle()\n",
        "# bgcolor(255, 0, 0)\n",
        "\n",
        "speed(8)\n",
        "radius = 100\n",
        "n = 100\n",
        "\n",
        "mid_angle_deg = 360 / n\n",
        "other_angle_deg = (180 - mid_angle_deg) / 2\n",
        "\n",
        "origin_pos = pos()\n",
        "\n",
        "i = 0\n",
        "while i < n:\n",
        "    # seet rgb\n",
        "    r = random.randint(0, 255)\n",
        "    g = random.randint(0, 255)\n",
        "    b = random.randint(0, 255)\n",
        "    pencolor(r, g, b)\n",
        "\n",
        "    forward(radius)\n",
        "    prev_pos = pos()\n",
        "    goto(origin_pos)\n",
        "    right(mid_angle_deg)\n",
        "    forward(radius)\n",
        "    goto(prev_pos)\n",
        "    goto(origin_pos)\n",
        "    i = i + 1"
      ],
      "metadata": {
        "colab": {
          "base_uri": "https://localhost:8080/",
          "height": 521
        },
        "id": "5y3GpIgMSPFX",
        "outputId": "ee79f15a-03d4-4d5c-8aca-3d4b4f8083de"
      },
      "execution_count": null,
      "outputs": [
        {
          "output_type": "display_data",
          "data": {
            "text/plain": [
              "<IPython.core.display.HTML object>"
            ],
            "text/html": [
              "\n",
              "      <svg width=\"800\" height=\"500\">\n",
              "        <rect width=\"100%\" height=\"100%\" fill=\"black\"/>\n",
              "        <line x1=\"400\" y1=\"250\" x2=\"400.0\" y2=\"150.0\" stroke-linecap=\"round\" style=\"stroke:rgb(53,63,60);stroke-width:4\"/><line x1=\"400.0\" y1=\"150.0\" x2=\"400\" y2=\"250\" stroke-linecap=\"round\" style=\"stroke:rgb(53,63,60);stroke-width:4\"/><line x1=\"400\" y1=\"250\" x2=\"406.279\" y2=\"150.197\" stroke-linecap=\"round\" style=\"stroke:rgb(53,63,60);stroke-width:4\"/><line x1=\"406.279\" y1=\"150.197\" x2=\"400.0\" y2=\"150.0\" stroke-linecap=\"round\" style=\"stroke:rgb(53,63,60);stroke-width:4\"/><line x1=\"400.0\" y1=\"150.0\" x2=\"400\" y2=\"250\" stroke-linecap=\"round\" style=\"stroke:rgb(53,63,60);stroke-width:4\"/><line x1=\"400\" y1=\"250\" x2=\"406.279\" y2=\"150.197\" stroke-linecap=\"round\" style=\"stroke:rgb(177,243,140);stroke-width:4\"/><line x1=\"406.279\" y1=\"150.197\" x2=\"400\" y2=\"250\" stroke-linecap=\"round\" style=\"stroke:rgb(177,243,140);stroke-width:4\"/><line x1=\"400\" y1=\"250\" x2=\"412.533\" y2=\"150.789\" stroke-linecap=\"round\" style=\"stroke:rgb(177,243,140);stroke-width:4\"/><line x1=\"412.533\" y1=\"150.789\" x2=\"406.279\" y2=\"150.197\" stroke-linecap=\"round\" style=\"stroke:rgb(177,243,140);stroke-width:4\"/><line x1=\"406.279\" y1=\"150.197\" x2=\"400\" y2=\"250\" stroke-linecap=\"round\" style=\"stroke:rgb(177,243,140);stroke-width:4\"/><line x1=\"400\" y1=\"250\" x2=\"412.533\" y2=\"150.789\" stroke-linecap=\"round\" style=\"stroke:rgb(57,227,75);stroke-width:4\"/><line x1=\"412.533\" y1=\"150.789\" x2=\"400\" y2=\"250\" stroke-linecap=\"round\" style=\"stroke:rgb(57,227,75);stroke-width:4\"/><line x1=\"400\" y1=\"250\" x2=\"418.738\" y2=\"151.771\" stroke-linecap=\"round\" style=\"stroke:rgb(57,227,75);stroke-width:4\"/><line x1=\"418.738\" y1=\"151.771\" x2=\"412.533\" y2=\"150.789\" stroke-linecap=\"round\" style=\"stroke:rgb(57,227,75);stroke-width:4\"/><line x1=\"412.533\" y1=\"150.789\" x2=\"400\" y2=\"250\" stroke-linecap=\"round\" style=\"stroke:rgb(57,227,75);stroke-width:4\"/><line x1=\"400\" y1=\"250\" x2=\"418.738\" y2=\"151.771\" stroke-linecap=\"round\" style=\"stroke:rgb(144,97,234);stroke-width:4\"/><line x1=\"418.738\" y1=\"151.771\" x2=\"400\" y2=\"250\" stroke-linecap=\"round\" style=\"stroke:rgb(144,97,234);stroke-width:4\"/><line x1=\"400\" y1=\"250\" x2=\"424.869\" y2=\"153.142\" stroke-linecap=\"round\" style=\"stroke:rgb(144,97,234);stroke-width:4\"/><line x1=\"424.869\" y1=\"153.142\" x2=\"418.738\" y2=\"151.771\" stroke-linecap=\"round\" style=\"stroke:rgb(144,97,234);stroke-width:4\"/><line x1=\"418.738\" y1=\"151.771\" x2=\"400\" y2=\"250\" stroke-linecap=\"round\" style=\"stroke:rgb(144,97,234);stroke-width:4\"/><line x1=\"400\" y1=\"250\" x2=\"424.869\" y2=\"153.142\" stroke-linecap=\"round\" style=\"stroke:rgb(238,239,153);stroke-width:4\"/><line x1=\"424.869\" y1=\"153.142\" x2=\"400\" y2=\"250\" stroke-linecap=\"round\" style=\"stroke:rgb(238,239,153);stroke-width:4\"/><line x1=\"400\" y1=\"250\" x2=\"430.902\" y2=\"154.894\" stroke-linecap=\"round\" style=\"stroke:rgb(238,239,153);stroke-width:4\"/><line x1=\"430.902\" y1=\"154.894\" x2=\"424.869\" y2=\"153.142\" stroke-linecap=\"round\" style=\"stroke:rgb(238,239,153);stroke-width:4\"/><line x1=\"424.869\" y1=\"153.142\" x2=\"400\" y2=\"250\" stroke-linecap=\"round\" style=\"stroke:rgb(238,239,153);stroke-width:4\"/><line x1=\"400\" y1=\"250\" x2=\"430.902\" y2=\"154.894\" stroke-linecap=\"round\" style=\"stroke:rgb(2,34,179);stroke-width:4\"/><line x1=\"430.902\" y1=\"154.894\" x2=\"400\" y2=\"250\" stroke-linecap=\"round\" style=\"stroke:rgb(2,34,179);stroke-width:4\"/><line x1=\"400\" y1=\"250\" x2=\"436.812\" y2=\"157.022\" stroke-linecap=\"round\" style=\"stroke:rgb(2,34,179);stroke-width:4\"/><line x1=\"436.812\" y1=\"157.022\" x2=\"430.902\" y2=\"154.894\" stroke-linecap=\"round\" style=\"stroke:rgb(2,34,179);stroke-width:4\"/><line x1=\"430.902\" y1=\"154.894\" x2=\"400\" y2=\"250\" stroke-linecap=\"round\" style=\"stroke:rgb(2,34,179);stroke-width:4\"/><line x1=\"400\" y1=\"250\" x2=\"436.812\" y2=\"157.022\" stroke-linecap=\"round\" style=\"stroke:rgb(29,218,237);stroke-width:4\"/><line x1=\"436.812\" y1=\"157.022\" x2=\"400\" y2=\"250\" stroke-linecap=\"round\" style=\"stroke:rgb(29,218,237);stroke-width:4\"/><line x1=\"400\" y1=\"250\" x2=\"442.578\" y2=\"159.517\" stroke-linecap=\"round\" style=\"stroke:rgb(29,218,237);stroke-width:4\"/><line x1=\"442.578\" y1=\"159.517\" x2=\"436.812\" y2=\"157.022\" stroke-linecap=\"round\" style=\"stroke:rgb(29,218,237);stroke-width:4\"/><line x1=\"436.812\" y1=\"157.022\" x2=\"400\" y2=\"250\" stroke-linecap=\"round\" style=\"stroke:rgb(29,218,237);stroke-width:4\"/><line x1=\"400\" y1=\"250\" x2=\"442.578\" y2=\"159.517\" stroke-linecap=\"round\" style=\"stroke:rgb(56,43,125);stroke-width:4\"/><line x1=\"442.578\" y1=\"159.517\" x2=\"400\" y2=\"250\" stroke-linecap=\"round\" style=\"stroke:rgb(56,43,125);stroke-width:4\"/><line x1=\"400\" y1=\"250\" x2=\"448.175\" y2=\"162.369\" stroke-linecap=\"round\" style=\"stroke:rgb(56,43,125);stroke-width:4\"/><line x1=\"448.175\" y1=\"162.369\" x2=\"442.578\" y2=\"159.517\" stroke-linecap=\"round\" style=\"stroke:rgb(56,43,125);stroke-width:4\"/><line x1=\"442.578\" y1=\"159.517\" x2=\"400\" y2=\"250\" stroke-linecap=\"round\" style=\"stroke:rgb(56,43,125);stroke-width:4\"/><line x1=\"400\" y1=\"250\" x2=\"448.175\" y2=\"162.369\" stroke-linecap=\"round\" style=\"stroke:rgb(177,250,30);stroke-width:4\"/><line x1=\"448.175\" y1=\"162.369\" x2=\"400\" y2=\"250\" stroke-linecap=\"round\" style=\"stroke:rgb(177,250,30);stroke-width:4\"/><line x1=\"400\" y1=\"250\" x2=\"453.583\" y2=\"165.567\" stroke-linecap=\"round\" style=\"stroke:rgb(177,250,30);stroke-width:4\"/><line x1=\"453.583\" y1=\"165.567\" x2=\"448.175\" y2=\"162.369\" stroke-linecap=\"round\" style=\"stroke:rgb(177,250,30);stroke-width:4\"/><line x1=\"448.175\" y1=\"162.369\" x2=\"400\" y2=\"250\" stroke-linecap=\"round\" style=\"stroke:rgb(177,250,30);stroke-width:4\"/><line x1=\"400\" y1=\"250\" x2=\"453.583\" y2=\"165.567\" stroke-linecap=\"round\" style=\"stroke:rgb(16,156,83);stroke-width:4\"/><line x1=\"453.583\" y1=\"165.567\" x2=\"400\" y2=\"250\" stroke-linecap=\"round\" style=\"stroke:rgb(16,156,83);stroke-width:4\"/><line x1=\"400\" y1=\"250\" x2=\"458.779\" y2=\"169.098\" stroke-linecap=\"round\" style=\"stroke:rgb(16,156,83);stroke-width:4\"/><line x1=\"458.779\" y1=\"169.098\" x2=\"453.583\" y2=\"165.567\" stroke-linecap=\"round\" style=\"stroke:rgb(16,156,83);stroke-width:4\"/><line x1=\"453.583\" y1=\"165.567\" x2=\"400\" y2=\"250\" stroke-linecap=\"round\" style=\"stroke:rgb(16,156,83);stroke-width:4\"/><line x1=\"400\" y1=\"250\" x2=\"458.779\" y2=\"169.098\" stroke-linecap=\"round\" style=\"stroke:rgb(140,137,39);stroke-width:4\"/><line x1=\"458.779\" y1=\"169.098\" x2=\"400\" y2=\"250\" stroke-linecap=\"round\" style=\"stroke:rgb(140,137,39);stroke-width:4\"/><line x1=\"400\" y1=\"250\" x2=\"463.742\" y2=\"172.949\" stroke-linecap=\"round\" style=\"stroke:rgb(140,137,39);stroke-width:4\"/><line x1=\"463.742\" y1=\"172.949\" x2=\"458.779\" y2=\"169.098\" stroke-linecap=\"round\" style=\"stroke:rgb(140,137,39);stroke-width:4\"/><line x1=\"458.779\" y1=\"169.098\" x2=\"400\" y2=\"250\" stroke-linecap=\"round\" style=\"stroke:rgb(140,137,39);stroke-width:4\"/><line x1=\"400\" y1=\"250\" x2=\"463.742\" y2=\"172.949\" stroke-linecap=\"round\" style=\"stroke:rgb(228,153,39);stroke-width:4\"/><line x1=\"463.742\" y1=\"172.949\" x2=\"400\" y2=\"250\" stroke-linecap=\"round\" style=\"stroke:rgb(228,153,39);stroke-width:4\"/><line x1=\"400\" y1=\"250\" x2=\"468.455\" y2=\"177.103\" stroke-linecap=\"round\" style=\"stroke:rgb(228,153,39);stroke-width:4\"/><line x1=\"468.455\" y1=\"177.103\" x2=\"463.742\" y2=\"172.949\" stroke-linecap=\"round\" style=\"stroke:rgb(228,153,39);stroke-width:4\"/><line x1=\"463.742\" y1=\"172.949\" x2=\"400\" y2=\"250\" stroke-linecap=\"round\" style=\"stroke:rgb(228,153,39);stroke-width:4\"/><line x1=\"400\" y1=\"250\" x2=\"468.455\" y2=\"177.103\" stroke-linecap=\"round\" style=\"stroke:rgb(42,12,30);stroke-width:4\"/><line x1=\"468.455\" y1=\"177.103\" x2=\"400\" y2=\"250\" stroke-linecap=\"round\" style=\"stroke:rgb(42,12,30);stroke-width:4\"/><line x1=\"400\" y1=\"250\" x2=\"472.897\" y2=\"181.545\" stroke-linecap=\"round\" style=\"stroke:rgb(42,12,30);stroke-width:4\"/><line x1=\"472.897\" y1=\"181.545\" x2=\"468.455\" y2=\"177.103\" stroke-linecap=\"round\" style=\"stroke:rgb(42,12,30);stroke-width:4\"/><line x1=\"468.455\" y1=\"177.103\" x2=\"400\" y2=\"250\" stroke-linecap=\"round\" style=\"stroke:rgb(42,12,30);stroke-width:4\"/><line x1=\"400\" y1=\"250\" x2=\"472.897\" y2=\"181.545\" stroke-linecap=\"round\" style=\"stroke:rgb(242,201,141);stroke-width:4\"/><line x1=\"472.897\" y1=\"181.545\" x2=\"400\" y2=\"250\" stroke-linecap=\"round\" style=\"stroke:rgb(242,201,141);stroke-width:4\"/><line x1=\"400\" y1=\"250\" x2=\"477.051\" y2=\"186.258\" stroke-linecap=\"round\" style=\"stroke:rgb(242,201,141);stroke-width:4\"/><line x1=\"477.051\" y1=\"186.258\" x2=\"472.897\" y2=\"181.545\" stroke-linecap=\"round\" style=\"stroke:rgb(242,201,141);stroke-width:4\"/><line x1=\"472.897\" y1=\"181.545\" x2=\"400\" y2=\"250\" stroke-linecap=\"round\" style=\"stroke:rgb(242,201,141);stroke-width:4\"/><line x1=\"400\" y1=\"250\" x2=\"477.051\" y2=\"186.258\" stroke-linecap=\"round\" style=\"stroke:rgb(125,227,243);stroke-width:4\"/><line x1=\"477.051\" y1=\"186.258\" x2=\"400\" y2=\"250\" stroke-linecap=\"round\" style=\"stroke:rgb(125,227,243);stroke-width:4\"/><line x1=\"400\" y1=\"250\" x2=\"480.902\" y2=\"191.221\" stroke-linecap=\"round\" style=\"stroke:rgb(125,227,243);stroke-width:4\"/><line x1=\"480.902\" y1=\"191.221\" x2=\"477.051\" y2=\"186.258\" stroke-linecap=\"round\" style=\"stroke:rgb(125,227,243);stroke-width:4\"/><line x1=\"477.051\" y1=\"186.258\" x2=\"400\" y2=\"250\" stroke-linecap=\"round\" style=\"stroke:rgb(125,227,243);stroke-width:4\"/><line x1=\"400\" y1=\"250\" x2=\"480.902\" y2=\"191.221\" stroke-linecap=\"round\" style=\"stroke:rgb(47,82,85);stroke-width:4\"/><line x1=\"480.902\" y1=\"191.221\" x2=\"400\" y2=\"250\" stroke-linecap=\"round\" style=\"stroke:rgb(47,82,85);stroke-width:4\"/><line x1=\"400\" y1=\"250\" x2=\"484.433\" y2=\"196.417\" stroke-linecap=\"round\" style=\"stroke:rgb(47,82,85);stroke-width:4\"/><line x1=\"484.433\" y1=\"196.417\" x2=\"480.902\" y2=\"191.221\" stroke-linecap=\"round\" style=\"stroke:rgb(47,82,85);stroke-width:4\"/><line x1=\"480.902\" y1=\"191.221\" x2=\"400\" y2=\"250\" stroke-linecap=\"round\" style=\"stroke:rgb(47,82,85);stroke-width:4\"/><line x1=\"400\" y1=\"250\" x2=\"484.433\" y2=\"196.417\" stroke-linecap=\"round\" style=\"stroke:rgb(20,149,249);stroke-width:4\"/><line x1=\"484.433\" y1=\"196.417\" x2=\"400\" y2=\"250\" stroke-linecap=\"round\" style=\"stroke:rgb(20,149,249);stroke-width:4\"/><line x1=\"400\" y1=\"250\" x2=\"487.631\" y2=\"201.825\" stroke-linecap=\"round\" style=\"stroke:rgb(20,149,249);stroke-width:4\"/><line x1=\"487.631\" y1=\"201.825\" x2=\"484.433\" y2=\"196.417\" stroke-linecap=\"round\" style=\"stroke:rgb(20,149,249);stroke-width:4\"/><line x1=\"484.433\" y1=\"196.417\" x2=\"400\" y2=\"250\" stroke-linecap=\"round\" style=\"stroke:rgb(20,149,249);stroke-width:4\"/><line x1=\"400\" y1=\"250\" x2=\"487.631\" y2=\"201.825\" stroke-linecap=\"round\" style=\"stroke:rgb(51,254,123);stroke-width:4\"/><line x1=\"487.631\" y1=\"201.825\" x2=\"400\" y2=\"250\" stroke-linecap=\"round\" style=\"stroke:rgb(51,254,123);stroke-width:4\"/><line x1=\"400\" y1=\"250\" x2=\"490.483\" y2=\"207.422\" stroke-linecap=\"round\" style=\"stroke:rgb(51,254,123);stroke-width:4\"/><line x1=\"490.483\" y1=\"207.422\" x2=\"487.631\" y2=\"201.825\" stroke-linecap=\"round\" style=\"stroke:rgb(51,254,123);stroke-width:4\"/><line x1=\"487.631\" y1=\"201.825\" x2=\"400\" y2=\"250\" stroke-linecap=\"round\" style=\"stroke:rgb(51,254,123);stroke-width:4\"/><line x1=\"400\" y1=\"250\" x2=\"490.483\" y2=\"207.422\" stroke-linecap=\"round\" style=\"stroke:rgb(183,35,64);stroke-width:4\"/><line x1=\"490.483\" y1=\"207.422\" x2=\"400\" y2=\"250\" stroke-linecap=\"round\" style=\"stroke:rgb(183,35,64);stroke-width:4\"/><line x1=\"400\" y1=\"250\" x2=\"492.978\" y2=\"213.188\" stroke-linecap=\"round\" style=\"stroke:rgb(183,35,64);stroke-width:4\"/><line x1=\"492.978\" y1=\"213.188\" x2=\"490.483\" y2=\"207.422\" stroke-linecap=\"round\" style=\"stroke:rgb(183,35,64);stroke-width:4\"/><line x1=\"490.483\" y1=\"207.422\" x2=\"400\" y2=\"250\" stroke-linecap=\"round\" style=\"stroke:rgb(183,35,64);stroke-width:4\"/><line x1=\"400\" y1=\"250\" x2=\"492.978\" y2=\"213.188\" stroke-linecap=\"round\" style=\"stroke:rgb(203,174,44);stroke-width:4\"/><line x1=\"492.978\" y1=\"213.188\" x2=\"400\" y2=\"250\" stroke-linecap=\"round\" style=\"stroke:rgb(203,174,44);stroke-width:4\"/><line x1=\"400\" y1=\"250\" x2=\"495.106\" y2=\"219.098\" stroke-linecap=\"round\" style=\"stroke:rgb(203,174,44);stroke-width:4\"/><line x1=\"495.106\" y1=\"219.098\" x2=\"492.978\" y2=\"213.188\" stroke-linecap=\"round\" style=\"stroke:rgb(203,174,44);stroke-width:4\"/><line x1=\"492.978\" y1=\"213.188\" x2=\"400\" y2=\"250\" stroke-linecap=\"round\" style=\"stroke:rgb(203,174,44);stroke-width:4\"/><line x1=\"400\" y1=\"250\" x2=\"495.106\" y2=\"219.098\" stroke-linecap=\"round\" style=\"stroke:rgb(40,126,41);stroke-width:4\"/><line x1=\"495.106\" y1=\"219.098\" x2=\"400\" y2=\"250\" stroke-linecap=\"round\" style=\"stroke:rgb(40,126,41);stroke-width:4\"/><line x1=\"400\" y1=\"250\" x2=\"496.858\" y2=\"225.131\" stroke-linecap=\"round\" style=\"stroke:rgb(40,126,41);stroke-width:4\"/><line x1=\"496.858\" y1=\"225.131\" x2=\"495.106\" y2=\"219.098\" stroke-linecap=\"round\" style=\"stroke:rgb(40,126,41);stroke-width:4\"/><line x1=\"495.106\" y1=\"219.098\" x2=\"400\" y2=\"250\" stroke-linecap=\"round\" style=\"stroke:rgb(40,126,41);stroke-width:4\"/><line x1=\"400\" y1=\"250\" x2=\"496.858\" y2=\"225.131\" stroke-linecap=\"round\" style=\"stroke:rgb(136,19,76);stroke-width:4\"/><line x1=\"496.858\" y1=\"225.131\" x2=\"400\" y2=\"250\" stroke-linecap=\"round\" style=\"stroke:rgb(136,19,76);stroke-width:4\"/><line x1=\"400\" y1=\"250\" x2=\"498.229\" y2=\"231.262\" stroke-linecap=\"round\" style=\"stroke:rgb(136,19,76);stroke-width:4\"/><line x1=\"498.229\" y1=\"231.262\" x2=\"496.858\" y2=\"225.131\" stroke-linecap=\"round\" style=\"stroke:rgb(136,19,76);stroke-width:4\"/><line x1=\"496.858\" y1=\"225.131\" x2=\"400\" y2=\"250\" stroke-linecap=\"round\" style=\"stroke:rgb(136,19,76);stroke-width:4\"/><line x1=\"400\" y1=\"250\" x2=\"498.229\" y2=\"231.262\" stroke-linecap=\"round\" style=\"stroke:rgb(208,161,22);stroke-width:4\"/><line x1=\"498.229\" y1=\"231.262\" x2=\"400\" y2=\"250\" stroke-linecap=\"round\" style=\"stroke:rgb(208,161,22);stroke-width:4\"/><line x1=\"400\" y1=\"250\" x2=\"499.211\" y2=\"237.467\" stroke-linecap=\"round\" style=\"stroke:rgb(208,161,22);stroke-width:4\"/><line x1=\"499.211\" y1=\"237.467\" x2=\"498.229\" y2=\"231.262\" stroke-linecap=\"round\" style=\"stroke:rgb(208,161,22);stroke-width:4\"/><line x1=\"498.229\" y1=\"231.262\" x2=\"400\" y2=\"250\" stroke-linecap=\"round\" style=\"stroke:rgb(208,161,22);stroke-width:4\"/><line x1=\"400\" y1=\"250\" x2=\"499.211\" y2=\"237.467\" stroke-linecap=\"round\" style=\"stroke:rgb(115,223,131);stroke-width:4\"/><line x1=\"499.211\" y1=\"237.467\" x2=\"400\" y2=\"250\" stroke-linecap=\"round\" style=\"stroke:rgb(115,223,131);stroke-width:4\"/><line x1=\"400\" y1=\"250\" x2=\"499.803\" y2=\"243.721\" stroke-linecap=\"round\" style=\"stroke:rgb(115,223,131);stroke-width:4\"/><line x1=\"499.803\" y1=\"243.721\" x2=\"499.211\" y2=\"237.467\" stroke-linecap=\"round\" style=\"stroke:rgb(115,223,131);stroke-width:4\"/><line x1=\"499.211\" y1=\"237.467\" x2=\"400\" y2=\"250\" stroke-linecap=\"round\" style=\"stroke:rgb(115,223,131);stroke-width:4\"/><line x1=\"400\" y1=\"250\" x2=\"499.803\" y2=\"243.721\" stroke-linecap=\"round\" style=\"stroke:rgb(187,84,57);stroke-width:4\"/><line x1=\"499.803\" y1=\"243.721\" x2=\"400\" y2=\"250\" stroke-linecap=\"round\" style=\"stroke:rgb(187,84,57);stroke-width:4\"/><line x1=\"400\" y1=\"250\" x2=\"500.0\" y2=\"250.0\" stroke-linecap=\"round\" style=\"stroke:rgb(187,84,57);stroke-width:4\"/><line x1=\"500.0\" y1=\"250.0\" x2=\"499.803\" y2=\"243.721\" stroke-linecap=\"round\" style=\"stroke:rgb(187,84,57);stroke-width:4\"/><line x1=\"499.803\" y1=\"243.721\" x2=\"400\" y2=\"250\" stroke-linecap=\"round\" style=\"stroke:rgb(187,84,57);stroke-width:4\"/><line x1=\"400\" y1=\"250\" x2=\"500.0\" y2=\"250.0\" stroke-linecap=\"round\" style=\"stroke:rgb(218,233,146);stroke-width:4\"/><line x1=\"500.0\" y1=\"250.0\" x2=\"400\" y2=\"250\" stroke-linecap=\"round\" style=\"stroke:rgb(218,233,146);stroke-width:4\"/><line x1=\"400\" y1=\"250\" x2=\"499.803\" y2=\"256.279\" stroke-linecap=\"round\" style=\"stroke:rgb(218,233,146);stroke-width:4\"/><line x1=\"499.803\" y1=\"256.279\" x2=\"500.0\" y2=\"250.0\" stroke-linecap=\"round\" style=\"stroke:rgb(218,233,146);stroke-width:4\"/><line x1=\"500.0\" y1=\"250.0\" x2=\"400\" y2=\"250\" stroke-linecap=\"round\" style=\"stroke:rgb(218,233,146);stroke-width:4\"/><line x1=\"400\" y1=\"250\" x2=\"499.803\" y2=\"256.279\" stroke-linecap=\"round\" style=\"stroke:rgb(5,210,229);stroke-width:4\"/><line x1=\"499.803\" y1=\"256.279\" x2=\"400\" y2=\"250\" stroke-linecap=\"round\" style=\"stroke:rgb(5,210,229);stroke-width:4\"/><line x1=\"400\" y1=\"250\" x2=\"499.211\" y2=\"262.533\" stroke-linecap=\"round\" style=\"stroke:rgb(5,210,229);stroke-width:4\"/><line x1=\"499.211\" y1=\"262.533\" x2=\"499.803\" y2=\"256.279\" stroke-linecap=\"round\" style=\"stroke:rgb(5,210,229);stroke-width:4\"/><line x1=\"499.803\" y1=\"256.279\" x2=\"400\" y2=\"250\" stroke-linecap=\"round\" style=\"stroke:rgb(5,210,229);stroke-width:4\"/><line x1=\"400\" y1=\"250\" x2=\"499.211\" y2=\"262.533\" stroke-linecap=\"round\" style=\"stroke:rgb(45,109,225);stroke-width:4\"/><line x1=\"499.211\" y1=\"262.533\" x2=\"400\" y2=\"250\" stroke-linecap=\"round\" style=\"stroke:rgb(45,109,225);stroke-width:4\"/><line x1=\"400\" y1=\"250\" x2=\"498.229\" y2=\"268.738\" stroke-linecap=\"round\" style=\"stroke:rgb(45,109,225);stroke-width:4\"/><line x1=\"498.229\" y1=\"268.738\" x2=\"499.211\" y2=\"262.533\" stroke-linecap=\"round\" style=\"stroke:rgb(45,109,225);stroke-width:4\"/><line x1=\"499.211\" y1=\"262.533\" x2=\"400\" y2=\"250\" stroke-linecap=\"round\" style=\"stroke:rgb(45,109,225);stroke-width:4\"/><line x1=\"400\" y1=\"250\" x2=\"498.229\" y2=\"268.738\" stroke-linecap=\"round\" style=\"stroke:rgb(80,215,164);stroke-width:4\"/><line x1=\"498.229\" y1=\"268.738\" x2=\"400\" y2=\"250\" stroke-linecap=\"round\" style=\"stroke:rgb(80,215,164);stroke-width:4\"/><line x1=\"400\" y1=\"250\" x2=\"496.858\" y2=\"274.869\" stroke-linecap=\"round\" style=\"stroke:rgb(80,215,164);stroke-width:4\"/><line x1=\"496.858\" y1=\"274.869\" x2=\"498.229\" y2=\"268.738\" stroke-linecap=\"round\" style=\"stroke:rgb(80,215,164);stroke-width:4\"/><line x1=\"498.229\" y1=\"268.738\" x2=\"400\" y2=\"250\" stroke-linecap=\"round\" style=\"stroke:rgb(80,215,164);stroke-width:4\"/><line x1=\"400\" y1=\"250\" x2=\"496.858\" y2=\"274.869\" stroke-linecap=\"round\" style=\"stroke:rgb(195,98,31);stroke-width:4\"/><line x1=\"496.858\" y1=\"274.869\" x2=\"400\" y2=\"250\" stroke-linecap=\"round\" style=\"stroke:rgb(195,98,31);stroke-width:4\"/><line x1=\"400\" y1=\"250\" x2=\"495.106\" y2=\"280.902\" stroke-linecap=\"round\" style=\"stroke:rgb(195,98,31);stroke-width:4\"/><line x1=\"495.106\" y1=\"280.902\" x2=\"496.858\" y2=\"274.869\" stroke-linecap=\"round\" style=\"stroke:rgb(195,98,31);stroke-width:4\"/><line x1=\"496.858\" y1=\"274.869\" x2=\"400\" y2=\"250\" stroke-linecap=\"round\" style=\"stroke:rgb(195,98,31);stroke-width:4\"/><line x1=\"400\" y1=\"250\" x2=\"495.106\" y2=\"280.902\" stroke-linecap=\"round\" style=\"stroke:rgb(74,251,235);stroke-width:4\"/><line x1=\"495.106\" y1=\"280.902\" x2=\"400\" y2=\"250\" stroke-linecap=\"round\" style=\"stroke:rgb(74,251,235);stroke-width:4\"/><line x1=\"400\" y1=\"250\" x2=\"492.978\" y2=\"286.812\" stroke-linecap=\"round\" style=\"stroke:rgb(74,251,235);stroke-width:4\"/><line x1=\"492.978\" y1=\"286.812\" x2=\"495.106\" y2=\"280.902\" stroke-linecap=\"round\" style=\"stroke:rgb(74,251,235);stroke-width:4\"/><line x1=\"495.106\" y1=\"280.902\" x2=\"400\" y2=\"250\" stroke-linecap=\"round\" style=\"stroke:rgb(74,251,235);stroke-width:4\"/><line x1=\"400\" y1=\"250\" x2=\"492.978\" y2=\"286.812\" stroke-linecap=\"round\" style=\"stroke:rgb(234,164,55);stroke-width:4\"/><line x1=\"492.978\" y1=\"286.812\" x2=\"400\" y2=\"250\" stroke-linecap=\"round\" style=\"stroke:rgb(234,164,55);stroke-width:4\"/><line x1=\"400\" y1=\"250\" x2=\"490.483\" y2=\"292.578\" stroke-linecap=\"round\" style=\"stroke:rgb(234,164,55);stroke-width:4\"/><line x1=\"490.483\" y1=\"292.578\" x2=\"492.978\" y2=\"286.812\" stroke-linecap=\"round\" style=\"stroke:rgb(234,164,55);stroke-width:4\"/><line x1=\"492.978\" y1=\"286.812\" x2=\"400\" y2=\"250\" stroke-linecap=\"round\" style=\"stroke:rgb(234,164,55);stroke-width:4\"/><line x1=\"400\" y1=\"250\" x2=\"490.483\" y2=\"292.578\" stroke-linecap=\"round\" style=\"stroke:rgb(137,91,144);stroke-width:4\"/><line x1=\"490.483\" y1=\"292.578\" x2=\"400\" y2=\"250\" stroke-linecap=\"round\" style=\"stroke:rgb(137,91,144);stroke-width:4\"/><line x1=\"400\" y1=\"250\" x2=\"487.631\" y2=\"298.175\" stroke-linecap=\"round\" style=\"stroke:rgb(137,91,144);stroke-width:4\"/><line x1=\"487.631\" y1=\"298.175\" x2=\"490.483\" y2=\"292.578\" stroke-linecap=\"round\" style=\"stroke:rgb(137,91,144);stroke-width:4\"/><line x1=\"490.483\" y1=\"292.578\" x2=\"400\" y2=\"250\" stroke-linecap=\"round\" style=\"stroke:rgb(137,91,144);stroke-width:4\"/><line x1=\"400\" y1=\"250\" x2=\"487.631\" y2=\"298.175\" stroke-linecap=\"round\" style=\"stroke:rgb(118,22,39);stroke-width:4\"/><line x1=\"487.631\" y1=\"298.175\" x2=\"400\" y2=\"250\" stroke-linecap=\"round\" style=\"stroke:rgb(118,22,39);stroke-width:4\"/><line x1=\"400\" y1=\"250\" x2=\"484.433\" y2=\"303.583\" stroke-linecap=\"round\" style=\"stroke:rgb(118,22,39);stroke-width:4\"/><line x1=\"484.433\" y1=\"303.583\" x2=\"487.631\" y2=\"298.175\" stroke-linecap=\"round\" style=\"stroke:rgb(118,22,39);stroke-width:4\"/><line x1=\"487.631\" y1=\"298.175\" x2=\"400\" y2=\"250\" stroke-linecap=\"round\" style=\"stroke:rgb(118,22,39);stroke-width:4\"/><line x1=\"400\" y1=\"250\" x2=\"484.433\" y2=\"303.583\" stroke-linecap=\"round\" style=\"stroke:rgb(191,54,144);stroke-width:4\"/><line x1=\"484.433\" y1=\"303.583\" x2=\"400\" y2=\"250\" stroke-linecap=\"round\" style=\"stroke:rgb(191,54,144);stroke-width:4\"/><line x1=\"400\" y1=\"250\" x2=\"480.902\" y2=\"308.779\" stroke-linecap=\"round\" style=\"stroke:rgb(191,54,144);stroke-width:4\"/><line x1=\"480.902\" y1=\"308.779\" x2=\"484.433\" y2=\"303.583\" stroke-linecap=\"round\" style=\"stroke:rgb(191,54,144);stroke-width:4\"/><line x1=\"484.433\" y1=\"303.583\" x2=\"400\" y2=\"250\" stroke-linecap=\"round\" style=\"stroke:rgb(191,54,144);stroke-width:4\"/><line x1=\"400\" y1=\"250\" x2=\"480.902\" y2=\"308.779\" stroke-linecap=\"round\" style=\"stroke:rgb(115,21,104);stroke-width:4\"/><line x1=\"480.902\" y1=\"308.779\" x2=\"400\" y2=\"250\" stroke-linecap=\"round\" style=\"stroke:rgb(115,21,104);stroke-width:4\"/><line x1=\"400\" y1=\"250\" x2=\"477.051\" y2=\"313.742\" stroke-linecap=\"round\" style=\"stroke:rgb(115,21,104);stroke-width:4\"/><line x1=\"477.051\" y1=\"313.742\" x2=\"480.902\" y2=\"308.779\" stroke-linecap=\"round\" style=\"stroke:rgb(115,21,104);stroke-width:4\"/><line x1=\"480.902\" y1=\"308.779\" x2=\"400\" y2=\"250\" stroke-linecap=\"round\" style=\"stroke:rgb(115,21,104);stroke-width:4\"/><line x1=\"400\" y1=\"250\" x2=\"477.051\" y2=\"313.742\" stroke-linecap=\"round\" style=\"stroke:rgb(78,7,236);stroke-width:4\"/><line x1=\"477.051\" y1=\"313.742\" x2=\"400\" y2=\"250\" stroke-linecap=\"round\" style=\"stroke:rgb(78,7,236);stroke-width:4\"/><line x1=\"400\" y1=\"250\" x2=\"472.897\" y2=\"318.455\" stroke-linecap=\"round\" style=\"stroke:rgb(78,7,236);stroke-width:4\"/><line x1=\"472.897\" y1=\"318.455\" x2=\"477.051\" y2=\"313.742\" stroke-linecap=\"round\" style=\"stroke:rgb(78,7,236);stroke-width:4\"/><line x1=\"477.051\" y1=\"313.742\" x2=\"400\" y2=\"250\" stroke-linecap=\"round\" style=\"stroke:rgb(78,7,236);stroke-width:4\"/><line x1=\"400\" y1=\"250\" x2=\"472.897\" y2=\"318.455\" stroke-linecap=\"round\" style=\"stroke:rgb(4,242,155);stroke-width:4\"/><line x1=\"472.897\" y1=\"318.455\" x2=\"400\" y2=\"250\" stroke-linecap=\"round\" style=\"stroke:rgb(4,242,155);stroke-width:4\"/><line x1=\"400\" y1=\"250\" x2=\"468.455\" y2=\"322.897\" stroke-linecap=\"round\" style=\"stroke:rgb(4,242,155);stroke-width:4\"/><line x1=\"468.455\" y1=\"322.897\" x2=\"472.897\" y2=\"318.455\" stroke-linecap=\"round\" style=\"stroke:rgb(4,242,155);stroke-width:4\"/><line x1=\"472.897\" y1=\"318.455\" x2=\"400\" y2=\"250\" stroke-linecap=\"round\" style=\"stroke:rgb(4,242,155);stroke-width:4\"/><line x1=\"400\" y1=\"250\" x2=\"468.455\" y2=\"322.897\" stroke-linecap=\"round\" style=\"stroke:rgb(119,246,191);stroke-width:4\"/><line x1=\"468.455\" y1=\"322.897\" x2=\"400\" y2=\"250\" stroke-linecap=\"round\" style=\"stroke:rgb(119,246,191);stroke-width:4\"/><line x1=\"400\" y1=\"250\" x2=\"463.742\" y2=\"327.051\" stroke-linecap=\"round\" style=\"stroke:rgb(119,246,191);stroke-width:4\"/><line x1=\"463.742\" y1=\"327.051\" x2=\"468.455\" y2=\"322.897\" stroke-linecap=\"round\" style=\"stroke:rgb(119,246,191);stroke-width:4\"/><line x1=\"468.455\" y1=\"322.897\" x2=\"400\" y2=\"250\" stroke-linecap=\"round\" style=\"stroke:rgb(119,246,191);stroke-width:4\"/><line x1=\"400\" y1=\"250\" x2=\"463.742\" y2=\"327.051\" stroke-linecap=\"round\" style=\"stroke:rgb(158,231,202);stroke-width:4\"/><line x1=\"463.742\" y1=\"327.051\" x2=\"400\" y2=\"250\" stroke-linecap=\"round\" style=\"stroke:rgb(158,231,202);stroke-width:4\"/><line x1=\"400\" y1=\"250\" x2=\"458.779\" y2=\"330.902\" stroke-linecap=\"round\" style=\"stroke:rgb(158,231,202);stroke-width:4\"/><line x1=\"458.779\" y1=\"330.902\" x2=\"463.742\" y2=\"327.051\" stroke-linecap=\"round\" style=\"stroke:rgb(158,231,202);stroke-width:4\"/><line x1=\"463.742\" y1=\"327.051\" x2=\"400\" y2=\"250\" stroke-linecap=\"round\" style=\"stroke:rgb(158,231,202);stroke-width:4\"/><line x1=\"400\" y1=\"250\" x2=\"458.779\" y2=\"330.902\" stroke-linecap=\"round\" style=\"stroke:rgb(159,96,196);stroke-width:4\"/><line x1=\"458.779\" y1=\"330.902\" x2=\"400\" y2=\"250\" stroke-linecap=\"round\" style=\"stroke:rgb(159,96,196);stroke-width:4\"/><line x1=\"400\" y1=\"250\" x2=\"453.583\" y2=\"334.433\" stroke-linecap=\"round\" style=\"stroke:rgb(159,96,196);stroke-width:4\"/><line x1=\"453.583\" y1=\"334.433\" x2=\"458.779\" y2=\"330.902\" stroke-linecap=\"round\" style=\"stroke:rgb(159,96,196);stroke-width:4\"/><line x1=\"458.779\" y1=\"330.902\" x2=\"400\" y2=\"250\" stroke-linecap=\"round\" style=\"stroke:rgb(159,96,196);stroke-width:4\"/><line x1=\"400\" y1=\"250\" x2=\"453.583\" y2=\"334.433\" stroke-linecap=\"round\" style=\"stroke:rgb(3,53,154);stroke-width:4\"/><line x1=\"453.583\" y1=\"334.433\" x2=\"400\" y2=\"250\" stroke-linecap=\"round\" style=\"stroke:rgb(3,53,154);stroke-width:4\"/><line x1=\"400\" y1=\"250\" x2=\"448.175\" y2=\"337.631\" stroke-linecap=\"round\" style=\"stroke:rgb(3,53,154);stroke-width:4\"/><line x1=\"448.175\" y1=\"337.631\" x2=\"453.583\" y2=\"334.433\" stroke-linecap=\"round\" style=\"stroke:rgb(3,53,154);stroke-width:4\"/><line x1=\"453.583\" y1=\"334.433\" x2=\"400\" y2=\"250\" stroke-linecap=\"round\" style=\"stroke:rgb(3,53,154);stroke-width:4\"/><line x1=\"400\" y1=\"250\" x2=\"448.175\" y2=\"337.631\" stroke-linecap=\"round\" style=\"stroke:rgb(14,78,217);stroke-width:4\"/><line x1=\"448.175\" y1=\"337.631\" x2=\"400\" y2=\"250\" stroke-linecap=\"round\" style=\"stroke:rgb(14,78,217);stroke-width:4\"/><line x1=\"400\" y1=\"250\" x2=\"442.578\" y2=\"340.483\" stroke-linecap=\"round\" style=\"stroke:rgb(14,78,217);stroke-width:4\"/><line x1=\"442.578\" y1=\"340.483\" x2=\"448.175\" y2=\"337.631\" stroke-linecap=\"round\" style=\"stroke:rgb(14,78,217);stroke-width:4\"/><line x1=\"448.175\" y1=\"337.631\" x2=\"400\" y2=\"250\" stroke-linecap=\"round\" style=\"stroke:rgb(14,78,217);stroke-width:4\"/><line x1=\"400\" y1=\"250\" x2=\"442.578\" y2=\"340.483\" stroke-linecap=\"round\" style=\"stroke:rgb(201,249,209);stroke-width:4\"/><line x1=\"442.578\" y1=\"340.483\" x2=\"400\" y2=\"250\" stroke-linecap=\"round\" style=\"stroke:rgb(201,249,209);stroke-width:4\"/><line x1=\"400\" y1=\"250\" x2=\"436.812\" y2=\"342.978\" stroke-linecap=\"round\" style=\"stroke:rgb(201,249,209);stroke-width:4\"/><line x1=\"436.812\" y1=\"342.978\" x2=\"442.578\" y2=\"340.483\" stroke-linecap=\"round\" style=\"stroke:rgb(201,249,209);stroke-width:4\"/><line x1=\"442.578\" y1=\"340.483\" x2=\"400\" y2=\"250\" stroke-linecap=\"round\" style=\"stroke:rgb(201,249,209);stroke-width:4\"/><line x1=\"400\" y1=\"250\" x2=\"436.812\" y2=\"342.978\" stroke-linecap=\"round\" style=\"stroke:rgb(67,103,248);stroke-width:4\"/><line x1=\"436.812\" y1=\"342.978\" x2=\"400\" y2=\"250\" stroke-linecap=\"round\" style=\"stroke:rgb(67,103,248);stroke-width:4\"/><line x1=\"400\" y1=\"250\" x2=\"430.902\" y2=\"345.106\" stroke-linecap=\"round\" style=\"stroke:rgb(67,103,248);stroke-width:4\"/><line x1=\"430.902\" y1=\"345.106\" x2=\"436.812\" y2=\"342.978\" stroke-linecap=\"round\" style=\"stroke:rgb(67,103,248);stroke-width:4\"/><line x1=\"436.812\" y1=\"342.978\" x2=\"400\" y2=\"250\" stroke-linecap=\"round\" style=\"stroke:rgb(67,103,248);stroke-width:4\"/><line x1=\"400\" y1=\"250\" x2=\"430.902\" y2=\"345.106\" stroke-linecap=\"round\" style=\"stroke:rgb(188,99,88);stroke-width:4\"/><line x1=\"430.902\" y1=\"345.106\" x2=\"400\" y2=\"250\" stroke-linecap=\"round\" style=\"stroke:rgb(188,99,88);stroke-width:4\"/><line x1=\"400\" y1=\"250\" x2=\"424.869\" y2=\"346.858\" stroke-linecap=\"round\" style=\"stroke:rgb(188,99,88);stroke-width:4\"/><line x1=\"424.869\" y1=\"346.858\" x2=\"430.902\" y2=\"345.106\" stroke-linecap=\"round\" style=\"stroke:rgb(188,99,88);stroke-width:4\"/><line x1=\"430.902\" y1=\"345.106\" x2=\"400\" y2=\"250\" stroke-linecap=\"round\" style=\"stroke:rgb(188,99,88);stroke-width:4\"/><line x1=\"400\" y1=\"250\" x2=\"424.869\" y2=\"346.858\" stroke-linecap=\"round\" style=\"stroke:rgb(153,244,96);stroke-width:4\"/><line x1=\"424.869\" y1=\"346.858\" x2=\"400\" y2=\"250\" stroke-linecap=\"round\" style=\"stroke:rgb(153,244,96);stroke-width:4\"/><line x1=\"400\" y1=\"250\" x2=\"418.738\" y2=\"348.229\" stroke-linecap=\"round\" style=\"stroke:rgb(153,244,96);stroke-width:4\"/><line x1=\"418.738\" y1=\"348.229\" x2=\"424.869\" y2=\"346.858\" stroke-linecap=\"round\" style=\"stroke:rgb(153,244,96);stroke-width:4\"/><line x1=\"424.869\" y1=\"346.858\" x2=\"400\" y2=\"250\" stroke-linecap=\"round\" style=\"stroke:rgb(153,244,96);stroke-width:4\"/><line x1=\"400\" y1=\"250\" x2=\"418.738\" y2=\"348.229\" stroke-linecap=\"round\" style=\"stroke:rgb(222,244,221);stroke-width:4\"/><line x1=\"418.738\" y1=\"348.229\" x2=\"400\" y2=\"250\" stroke-linecap=\"round\" style=\"stroke:rgb(222,244,221);stroke-width:4\"/><line x1=\"400\" y1=\"250\" x2=\"412.533\" y2=\"349.211\" stroke-linecap=\"round\" style=\"stroke:rgb(222,244,221);stroke-width:4\"/><line x1=\"412.533\" y1=\"349.211\" x2=\"418.738\" y2=\"348.229\" stroke-linecap=\"round\" style=\"stroke:rgb(222,244,221);stroke-width:4\"/><line x1=\"418.738\" y1=\"348.229\" x2=\"400\" y2=\"250\" stroke-linecap=\"round\" style=\"stroke:rgb(222,244,221);stroke-width:4\"/><line x1=\"400\" y1=\"250\" x2=\"412.533\" y2=\"349.211\" stroke-linecap=\"round\" style=\"stroke:rgb(54,26,207);stroke-width:4\"/><line x1=\"412.533\" y1=\"349.211\" x2=\"400\" y2=\"250\" stroke-linecap=\"round\" style=\"stroke:rgb(54,26,207);stroke-width:4\"/><line x1=\"400\" y1=\"250\" x2=\"406.279\" y2=\"349.803\" stroke-linecap=\"round\" style=\"stroke:rgb(54,26,207);stroke-width:4\"/><line x1=\"406.279\" y1=\"349.803\" x2=\"412.533\" y2=\"349.211\" stroke-linecap=\"round\" style=\"stroke:rgb(54,26,207);stroke-width:4\"/><line x1=\"412.533\" y1=\"349.211\" x2=\"400\" y2=\"250\" stroke-linecap=\"round\" style=\"stroke:rgb(54,26,207);stroke-width:4\"/><line x1=\"400\" y1=\"250\" x2=\"406.279\" y2=\"349.803\" stroke-linecap=\"round\" style=\"stroke:rgb(1,41,165);stroke-width:4\"/><line x1=\"406.279\" y1=\"349.803\" x2=\"400\" y2=\"250\" stroke-linecap=\"round\" style=\"stroke:rgb(1,41,165);stroke-width:4\"/><line x1=\"400\" y1=\"250\" x2=\"400.0\" y2=\"350.0\" stroke-linecap=\"round\" style=\"stroke:rgb(1,41,165);stroke-width:4\"/><line x1=\"400.0\" y1=\"350.0\" x2=\"406.279\" y2=\"349.803\" stroke-linecap=\"round\" style=\"stroke:rgb(1,41,165);stroke-width:4\"/><line x1=\"406.279\" y1=\"349.803\" x2=\"400\" y2=\"250\" stroke-linecap=\"round\" style=\"stroke:rgb(1,41,165);stroke-width:4\"/><line x1=\"400\" y1=\"250\" x2=\"400.0\" y2=\"350.0\" stroke-linecap=\"round\" style=\"stroke:rgb(7,55,205);stroke-width:4\"/><line x1=\"400.0\" y1=\"350.0\" x2=\"400\" y2=\"250\" stroke-linecap=\"round\" style=\"stroke:rgb(7,55,205);stroke-width:4\"/><line x1=\"400\" y1=\"250\" x2=\"393.721\" y2=\"349.803\" stroke-linecap=\"round\" style=\"stroke:rgb(7,55,205);stroke-width:4\"/><line x1=\"393.721\" y1=\"349.803\" x2=\"400.0\" y2=\"350.0\" stroke-linecap=\"round\" style=\"stroke:rgb(7,55,205);stroke-width:4\"/><line x1=\"400.0\" y1=\"350.0\" x2=\"400\" y2=\"250\" stroke-linecap=\"round\" style=\"stroke:rgb(7,55,205);stroke-width:4\"/><line x1=\"400\" y1=\"250\" x2=\"393.721\" y2=\"349.803\" stroke-linecap=\"round\" style=\"stroke:rgb(148,78,34);stroke-width:4\"/><line x1=\"393.721\" y1=\"349.803\" x2=\"400\" y2=\"250\" stroke-linecap=\"round\" style=\"stroke:rgb(148,78,34);stroke-width:4\"/><line x1=\"400\" y1=\"250\" x2=\"387.467\" y2=\"349.211\" stroke-linecap=\"round\" style=\"stroke:rgb(148,78,34);stroke-width:4\"/><line x1=\"387.467\" y1=\"349.211\" x2=\"393.721\" y2=\"349.803\" stroke-linecap=\"round\" style=\"stroke:rgb(148,78,34);stroke-width:4\"/><line x1=\"393.721\" y1=\"349.803\" x2=\"400\" y2=\"250\" stroke-linecap=\"round\" style=\"stroke:rgb(148,78,34);stroke-width:4\"/><line x1=\"400\" y1=\"250\" x2=\"387.467\" y2=\"349.211\" stroke-linecap=\"round\" style=\"stroke:rgb(189,55,26);stroke-width:4\"/><line x1=\"387.467\" y1=\"349.211\" x2=\"400\" y2=\"250\" stroke-linecap=\"round\" style=\"stroke:rgb(189,55,26);stroke-width:4\"/><line x1=\"400\" y1=\"250\" x2=\"381.262\" y2=\"348.229\" stroke-linecap=\"round\" style=\"stroke:rgb(189,55,26);stroke-width:4\"/><line x1=\"381.262\" y1=\"348.229\" x2=\"387.467\" y2=\"349.211\" stroke-linecap=\"round\" style=\"stroke:rgb(189,55,26);stroke-width:4\"/><line x1=\"387.467\" y1=\"349.211\" x2=\"400\" y2=\"250\" stroke-linecap=\"round\" style=\"stroke:rgb(189,55,26);stroke-width:4\"/><line x1=\"400\" y1=\"250\" x2=\"381.262\" y2=\"348.229\" stroke-linecap=\"round\" style=\"stroke:rgb(102,135,108);stroke-width:4\"/><line x1=\"381.262\" y1=\"348.229\" x2=\"400\" y2=\"250\" stroke-linecap=\"round\" style=\"stroke:rgb(102,135,108);stroke-width:4\"/><line x1=\"400\" y1=\"250\" x2=\"375.131\" y2=\"346.858\" stroke-linecap=\"round\" style=\"stroke:rgb(102,135,108);stroke-width:4\"/><line x1=\"375.131\" y1=\"346.858\" x2=\"381.262\" y2=\"348.229\" stroke-linecap=\"round\" style=\"stroke:rgb(102,135,108);stroke-width:4\"/><line x1=\"381.262\" y1=\"348.229\" x2=\"400\" y2=\"250\" stroke-linecap=\"round\" style=\"stroke:rgb(102,135,108);stroke-width:4\"/><line x1=\"400\" y1=\"250\" x2=\"375.131\" y2=\"346.858\" stroke-linecap=\"round\" style=\"stroke:rgb(241,120,252);stroke-width:4\"/><line x1=\"375.131\" y1=\"346.858\" x2=\"400\" y2=\"250\" stroke-linecap=\"round\" style=\"stroke:rgb(241,120,252);stroke-width:4\"/><line x1=\"400\" y1=\"250\" x2=\"369.098\" y2=\"345.106\" stroke-linecap=\"round\" style=\"stroke:rgb(241,120,252);stroke-width:4\"/><line x1=\"369.098\" y1=\"345.106\" x2=\"375.131\" y2=\"346.858\" stroke-linecap=\"round\" style=\"stroke:rgb(241,120,252);stroke-width:4\"/><line x1=\"375.131\" y1=\"346.858\" x2=\"400\" y2=\"250\" stroke-linecap=\"round\" style=\"stroke:rgb(241,120,252);stroke-width:4\"/><line x1=\"400\" y1=\"250\" x2=\"369.098\" y2=\"345.106\" stroke-linecap=\"round\" style=\"stroke:rgb(104,97,160);stroke-width:4\"/><line x1=\"369.098\" y1=\"345.106\" x2=\"400\" y2=\"250\" stroke-linecap=\"round\" style=\"stroke:rgb(104,97,160);stroke-width:4\"/><line x1=\"400\" y1=\"250\" x2=\"363.188\" y2=\"342.978\" stroke-linecap=\"round\" style=\"stroke:rgb(104,97,160);stroke-width:4\"/><line x1=\"363.188\" y1=\"342.978\" x2=\"369.098\" y2=\"345.106\" stroke-linecap=\"round\" style=\"stroke:rgb(104,97,160);stroke-width:4\"/><line x1=\"369.098\" y1=\"345.106\" x2=\"400\" y2=\"250\" stroke-linecap=\"round\" style=\"stroke:rgb(104,97,160);stroke-width:4\"/><line x1=\"400\" y1=\"250\" x2=\"363.188\" y2=\"342.978\" stroke-linecap=\"round\" style=\"stroke:rgb(182,30,150);stroke-width:4\"/><line x1=\"363.188\" y1=\"342.978\" x2=\"400\" y2=\"250\" stroke-linecap=\"round\" style=\"stroke:rgb(182,30,150);stroke-width:4\"/><line x1=\"400\" y1=\"250\" x2=\"357.422\" y2=\"340.483\" stroke-linecap=\"round\" style=\"stroke:rgb(182,30,150);stroke-width:4\"/><line x1=\"357.422\" y1=\"340.483\" x2=\"363.188\" y2=\"342.978\" stroke-linecap=\"round\" style=\"stroke:rgb(182,30,150);stroke-width:4\"/><line x1=\"363.188\" y1=\"342.978\" x2=\"400\" y2=\"250\" stroke-linecap=\"round\" style=\"stroke:rgb(182,30,150);stroke-width:4\"/><line x1=\"400\" y1=\"250\" x2=\"357.422\" y2=\"340.483\" stroke-linecap=\"round\" style=\"stroke:rgb(141,47,4);stroke-width:4\"/><line x1=\"357.422\" y1=\"340.483\" x2=\"400\" y2=\"250\" stroke-linecap=\"round\" style=\"stroke:rgb(141,47,4);stroke-width:4\"/><line x1=\"400\" y1=\"250\" x2=\"351.825\" y2=\"337.631\" stroke-linecap=\"round\" style=\"stroke:rgb(141,47,4);stroke-width:4\"/><line x1=\"351.825\" y1=\"337.631\" x2=\"357.422\" y2=\"340.483\" stroke-linecap=\"round\" style=\"stroke:rgb(141,47,4);stroke-width:4\"/><line x1=\"357.422\" y1=\"340.483\" x2=\"400\" y2=\"250\" stroke-linecap=\"round\" style=\"stroke:rgb(141,47,4);stroke-width:4\"/><line x1=\"400\" y1=\"250\" x2=\"351.825\" y2=\"337.631\" stroke-linecap=\"round\" style=\"stroke:rgb(130,67,56);stroke-width:4\"/><line x1=\"351.825\" y1=\"337.631\" x2=\"400\" y2=\"250\" stroke-linecap=\"round\" style=\"stroke:rgb(130,67,56);stroke-width:4\"/><line x1=\"400\" y1=\"250\" x2=\"346.417\" y2=\"334.433\" stroke-linecap=\"round\" style=\"stroke:rgb(130,67,56);stroke-width:4\"/><line x1=\"346.417\" y1=\"334.433\" x2=\"351.825\" y2=\"337.631\" stroke-linecap=\"round\" style=\"stroke:rgb(130,67,56);stroke-width:4\"/><line x1=\"351.825\" y1=\"337.631\" x2=\"400\" y2=\"250\" stroke-linecap=\"round\" style=\"stroke:rgb(130,67,56);stroke-width:4\"/><line x1=\"400\" y1=\"250\" x2=\"346.417\" y2=\"334.433\" stroke-linecap=\"round\" style=\"stroke:rgb(177,138,254);stroke-width:4\"/><line x1=\"346.417\" y1=\"334.433\" x2=\"400\" y2=\"250\" stroke-linecap=\"round\" style=\"stroke:rgb(177,138,254);stroke-width:4\"/><line x1=\"400\" y1=\"250\" x2=\"341.221\" y2=\"330.902\" stroke-linecap=\"round\" style=\"stroke:rgb(177,138,254);stroke-width:4\"/><line x1=\"341.221\" y1=\"330.902\" x2=\"346.417\" y2=\"334.433\" stroke-linecap=\"round\" style=\"stroke:rgb(177,138,254);stroke-width:4\"/><line x1=\"346.417\" y1=\"334.433\" x2=\"400\" y2=\"250\" stroke-linecap=\"round\" style=\"stroke:rgb(177,138,254);stroke-width:4\"/><line x1=\"400\" y1=\"250\" x2=\"341.221\" y2=\"330.902\" stroke-linecap=\"round\" style=\"stroke:rgb(243,103,87);stroke-width:4\"/><line x1=\"341.221\" y1=\"330.902\" x2=\"400\" y2=\"250\" stroke-linecap=\"round\" style=\"stroke:rgb(243,103,87);stroke-width:4\"/><line x1=\"400\" y1=\"250\" x2=\"336.258\" y2=\"327.051\" stroke-linecap=\"round\" style=\"stroke:rgb(243,103,87);stroke-width:4\"/><line x1=\"336.258\" y1=\"327.051\" x2=\"341.221\" y2=\"330.902\" stroke-linecap=\"round\" style=\"stroke:rgb(243,103,87);stroke-width:4\"/><line x1=\"341.221\" y1=\"330.902\" x2=\"400\" y2=\"250\" stroke-linecap=\"round\" style=\"stroke:rgb(243,103,87);stroke-width:4\"/><line x1=\"400\" y1=\"250\" x2=\"336.258\" y2=\"327.051\" stroke-linecap=\"round\" style=\"stroke:rgb(71,113,122);stroke-width:4\"/><line x1=\"336.258\" y1=\"327.051\" x2=\"400\" y2=\"250\" stroke-linecap=\"round\" style=\"stroke:rgb(71,113,122);stroke-width:4\"/><line x1=\"400\" y1=\"250\" x2=\"331.545\" y2=\"322.897\" stroke-linecap=\"round\" style=\"stroke:rgb(71,113,122);stroke-width:4\"/><line x1=\"331.545\" y1=\"322.897\" x2=\"336.258\" y2=\"327.051\" stroke-linecap=\"round\" style=\"stroke:rgb(71,113,122);stroke-width:4\"/><line x1=\"336.258\" y1=\"327.051\" x2=\"400\" y2=\"250\" stroke-linecap=\"round\" style=\"stroke:rgb(71,113,122);stroke-width:4\"/><line x1=\"400\" y1=\"250\" x2=\"331.545\" y2=\"322.897\" stroke-linecap=\"round\" style=\"stroke:rgb(181,22,93);stroke-width:4\"/><line x1=\"331.545\" y1=\"322.897\" x2=\"400\" y2=\"250\" stroke-linecap=\"round\" style=\"stroke:rgb(181,22,93);stroke-width:4\"/><line x1=\"400\" y1=\"250\" x2=\"327.103\" y2=\"318.455\" stroke-linecap=\"round\" style=\"stroke:rgb(181,22,93);stroke-width:4\"/><line x1=\"327.103\" y1=\"318.455\" x2=\"331.545\" y2=\"322.897\" stroke-linecap=\"round\" style=\"stroke:rgb(181,22,93);stroke-width:4\"/><line x1=\"331.545\" y1=\"322.897\" x2=\"400\" y2=\"250\" stroke-linecap=\"round\" style=\"stroke:rgb(181,22,93);stroke-width:4\"/><line x1=\"400\" y1=\"250\" x2=\"327.103\" y2=\"318.455\" stroke-linecap=\"round\" style=\"stroke:rgb(185,22,103);stroke-width:4\"/><line x1=\"327.103\" y1=\"318.455\" x2=\"400\" y2=\"250\" stroke-linecap=\"round\" style=\"stroke:rgb(185,22,103);stroke-width:4\"/><line x1=\"400\" y1=\"250\" x2=\"322.949\" y2=\"313.742\" stroke-linecap=\"round\" style=\"stroke:rgb(185,22,103);stroke-width:4\"/><line x1=\"322.949\" y1=\"313.742\" x2=\"327.103\" y2=\"318.455\" stroke-linecap=\"round\" style=\"stroke:rgb(185,22,103);stroke-width:4\"/><line x1=\"327.103\" y1=\"318.455\" x2=\"400\" y2=\"250\" stroke-linecap=\"round\" style=\"stroke:rgb(185,22,103);stroke-width:4\"/><line x1=\"400\" y1=\"250\" x2=\"322.949\" y2=\"313.742\" stroke-linecap=\"round\" style=\"stroke:rgb(208,7,129);stroke-width:4\"/><line x1=\"322.949\" y1=\"313.742\" x2=\"400\" y2=\"250\" stroke-linecap=\"round\" style=\"stroke:rgb(208,7,129);stroke-width:4\"/><line x1=\"400\" y1=\"250\" x2=\"319.098\" y2=\"308.779\" stroke-linecap=\"round\" style=\"stroke:rgb(208,7,129);stroke-width:4\"/><line x1=\"319.098\" y1=\"308.779\" x2=\"322.949\" y2=\"313.742\" stroke-linecap=\"round\" style=\"stroke:rgb(208,7,129);stroke-width:4\"/><line x1=\"322.949\" y1=\"313.742\" x2=\"400\" y2=\"250\" stroke-linecap=\"round\" style=\"stroke:rgb(208,7,129);stroke-width:4\"/><line x1=\"400\" y1=\"250\" x2=\"319.098\" y2=\"308.779\" stroke-linecap=\"round\" style=\"stroke:rgb(175,164,150);stroke-width:4\"/><line x1=\"319.098\" y1=\"308.779\" x2=\"400\" y2=\"250\" stroke-linecap=\"round\" style=\"stroke:rgb(175,164,150);stroke-width:4\"/><line x1=\"400\" y1=\"250\" x2=\"315.567\" y2=\"303.583\" stroke-linecap=\"round\" style=\"stroke:rgb(175,164,150);stroke-width:4\"/><line x1=\"315.567\" y1=\"303.583\" x2=\"319.098\" y2=\"308.779\" stroke-linecap=\"round\" style=\"stroke:rgb(175,164,150);stroke-width:4\"/><line x1=\"319.098\" y1=\"308.779\" x2=\"400\" y2=\"250\" stroke-linecap=\"round\" style=\"stroke:rgb(175,164,150);stroke-width:4\"/><line x1=\"400\" y1=\"250\" x2=\"315.567\" y2=\"303.583\" stroke-linecap=\"round\" style=\"stroke:rgb(179,168,86);stroke-width:4\"/><line x1=\"315.567\" y1=\"303.583\" x2=\"400\" y2=\"250\" stroke-linecap=\"round\" style=\"stroke:rgb(179,168,86);stroke-width:4\"/><line x1=\"400\" y1=\"250\" x2=\"312.369\" y2=\"298.175\" stroke-linecap=\"round\" style=\"stroke:rgb(179,168,86);stroke-width:4\"/><line x1=\"312.369\" y1=\"298.175\" x2=\"315.567\" y2=\"303.583\" stroke-linecap=\"round\" style=\"stroke:rgb(179,168,86);stroke-width:4\"/><line x1=\"315.567\" y1=\"303.583\" x2=\"400\" y2=\"250\" stroke-linecap=\"round\" style=\"stroke:rgb(179,168,86);stroke-width:4\"/><line x1=\"400\" y1=\"250\" x2=\"312.369\" y2=\"298.175\" stroke-linecap=\"round\" style=\"stroke:rgb(42,23,85);stroke-width:4\"/><line x1=\"312.369\" y1=\"298.175\" x2=\"400\" y2=\"250\" stroke-linecap=\"round\" style=\"stroke:rgb(42,23,85);stroke-width:4\"/><line x1=\"400\" y1=\"250\" x2=\"309.517\" y2=\"292.578\" stroke-linecap=\"round\" style=\"stroke:rgb(42,23,85);stroke-width:4\"/><line x1=\"309.517\" y1=\"292.578\" x2=\"312.369\" y2=\"298.175\" stroke-linecap=\"round\" style=\"stroke:rgb(42,23,85);stroke-width:4\"/><line x1=\"312.369\" y1=\"298.175\" x2=\"400\" y2=\"250\" stroke-linecap=\"round\" style=\"stroke:rgb(42,23,85);stroke-width:4\"/><line x1=\"400\" y1=\"250\" x2=\"309.517\" y2=\"292.578\" stroke-linecap=\"round\" style=\"stroke:rgb(29,98,220);stroke-width:4\"/><line x1=\"309.517\" y1=\"292.578\" x2=\"400\" y2=\"250\" stroke-linecap=\"round\" style=\"stroke:rgb(29,98,220);stroke-width:4\"/><line x1=\"400\" y1=\"250\" x2=\"307.022\" y2=\"286.812\" stroke-linecap=\"round\" style=\"stroke:rgb(29,98,220);stroke-width:4\"/><line x1=\"307.022\" y1=\"286.812\" x2=\"309.517\" y2=\"292.578\" stroke-linecap=\"round\" style=\"stroke:rgb(29,98,220);stroke-width:4\"/><line x1=\"309.517\" y1=\"292.578\" x2=\"400\" y2=\"250\" stroke-linecap=\"round\" style=\"stroke:rgb(29,98,220);stroke-width:4\"/><line x1=\"400\" y1=\"250\" x2=\"307.022\" y2=\"286.812\" stroke-linecap=\"round\" style=\"stroke:rgb(79,163,136);stroke-width:4\"/><line x1=\"307.022\" y1=\"286.812\" x2=\"400\" y2=\"250\" stroke-linecap=\"round\" style=\"stroke:rgb(79,163,136);stroke-width:4\"/><line x1=\"400\" y1=\"250\" x2=\"304.894\" y2=\"280.902\" stroke-linecap=\"round\" style=\"stroke:rgb(79,163,136);stroke-width:4\"/><line x1=\"304.894\" y1=\"280.902\" x2=\"307.022\" y2=\"286.812\" stroke-linecap=\"round\" style=\"stroke:rgb(79,163,136);stroke-width:4\"/><line x1=\"307.022\" y1=\"286.812\" x2=\"400\" y2=\"250\" stroke-linecap=\"round\" style=\"stroke:rgb(79,163,136);stroke-width:4\"/><line x1=\"400\" y1=\"250\" x2=\"304.894\" y2=\"280.902\" stroke-linecap=\"round\" style=\"stroke:rgb(186,17,126);stroke-width:4\"/><line x1=\"304.894\" y1=\"280.902\" x2=\"400\" y2=\"250\" stroke-linecap=\"round\" style=\"stroke:rgb(186,17,126);stroke-width:4\"/><line x1=\"400\" y1=\"250\" x2=\"303.142\" y2=\"274.869\" stroke-linecap=\"round\" style=\"stroke:rgb(186,17,126);stroke-width:4\"/><line x1=\"303.142\" y1=\"274.869\" x2=\"304.894\" y2=\"280.902\" stroke-linecap=\"round\" style=\"stroke:rgb(186,17,126);stroke-width:4\"/><line x1=\"304.894\" y1=\"280.902\" x2=\"400\" y2=\"250\" stroke-linecap=\"round\" style=\"stroke:rgb(186,17,126);stroke-width:4\"/><line x1=\"400\" y1=\"250\" x2=\"303.142\" y2=\"274.869\" stroke-linecap=\"round\" style=\"stroke:rgb(41,193,125);stroke-width:4\"/><line x1=\"303.142\" y1=\"274.869\" x2=\"400\" y2=\"250\" stroke-linecap=\"round\" style=\"stroke:rgb(41,193,125);stroke-width:4\"/><line x1=\"400\" y1=\"250\" x2=\"301.771\" y2=\"268.738\" stroke-linecap=\"round\" style=\"stroke:rgb(41,193,125);stroke-width:4\"/><line x1=\"301.771\" y1=\"268.738\" x2=\"303.142\" y2=\"274.869\" stroke-linecap=\"round\" style=\"stroke:rgb(41,193,125);stroke-width:4\"/><line x1=\"303.142\" y1=\"274.869\" x2=\"400\" y2=\"250\" stroke-linecap=\"round\" style=\"stroke:rgb(41,193,125);stroke-width:4\"/><line x1=\"400\" y1=\"250\" x2=\"301.771\" y2=\"268.738\" stroke-linecap=\"round\" style=\"stroke:rgb(240,139,190);stroke-width:4\"/><line x1=\"301.771\" y1=\"268.738\" x2=\"400\" y2=\"250\" stroke-linecap=\"round\" style=\"stroke:rgb(240,139,190);stroke-width:4\"/><line x1=\"400\" y1=\"250\" x2=\"300.789\" y2=\"262.533\" stroke-linecap=\"round\" style=\"stroke:rgb(240,139,190);stroke-width:4\"/><line x1=\"300.789\" y1=\"262.533\" x2=\"301.771\" y2=\"268.738\" stroke-linecap=\"round\" style=\"stroke:rgb(240,139,190);stroke-width:4\"/><line x1=\"301.771\" y1=\"268.738\" x2=\"400\" y2=\"250\" stroke-linecap=\"round\" style=\"stroke:rgb(240,139,190);stroke-width:4\"/><line x1=\"400\" y1=\"250\" x2=\"300.789\" y2=\"262.533\" stroke-linecap=\"round\" style=\"stroke:rgb(128,5,201);stroke-width:4\"/><line x1=\"300.789\" y1=\"262.533\" x2=\"400\" y2=\"250\" stroke-linecap=\"round\" style=\"stroke:rgb(128,5,201);stroke-width:4\"/><line x1=\"400\" y1=\"250\" x2=\"300.197\" y2=\"256.279\" stroke-linecap=\"round\" style=\"stroke:rgb(128,5,201);stroke-width:4\"/><line x1=\"300.197\" y1=\"256.279\" x2=\"300.789\" y2=\"262.533\" stroke-linecap=\"round\" style=\"stroke:rgb(128,5,201);stroke-width:4\"/><line x1=\"300.789\" y1=\"262.533\" x2=\"400\" y2=\"250\" stroke-linecap=\"round\" style=\"stroke:rgb(128,5,201);stroke-width:4\"/><line x1=\"400\" y1=\"250\" x2=\"300.197\" y2=\"256.279\" stroke-linecap=\"round\" style=\"stroke:rgb(23,62,12);stroke-width:4\"/><line x1=\"300.197\" y1=\"256.279\" x2=\"400\" y2=\"250\" stroke-linecap=\"round\" style=\"stroke:rgb(23,62,12);stroke-width:4\"/><line x1=\"400\" y1=\"250\" x2=\"300.0\" y2=\"250.0\" stroke-linecap=\"round\" style=\"stroke:rgb(23,62,12);stroke-width:4\"/><line x1=\"300.0\" y1=\"250.0\" x2=\"300.197\" y2=\"256.279\" stroke-linecap=\"round\" style=\"stroke:rgb(23,62,12);stroke-width:4\"/><line x1=\"300.197\" y1=\"256.279\" x2=\"400\" y2=\"250\" stroke-linecap=\"round\" style=\"stroke:rgb(23,62,12);stroke-width:4\"/><line x1=\"400\" y1=\"250\" x2=\"300.0\" y2=\"250.0\" stroke-linecap=\"round\" style=\"stroke:rgb(24,187,168);stroke-width:4\"/><line x1=\"300.0\" y1=\"250.0\" x2=\"400\" y2=\"250\" stroke-linecap=\"round\" style=\"stroke:rgb(24,187,168);stroke-width:4\"/><line x1=\"400\" y1=\"250\" x2=\"300.197\" y2=\"243.721\" stroke-linecap=\"round\" style=\"stroke:rgb(24,187,168);stroke-width:4\"/><line x1=\"300.197\" y1=\"243.721\" x2=\"300.0\" y2=\"250.0\" stroke-linecap=\"round\" style=\"stroke:rgb(24,187,168);stroke-width:4\"/><line x1=\"300.0\" y1=\"250.0\" x2=\"400\" y2=\"250\" stroke-linecap=\"round\" style=\"stroke:rgb(24,187,168);stroke-width:4\"/><line x1=\"400\" y1=\"250\" x2=\"300.197\" y2=\"243.721\" stroke-linecap=\"round\" style=\"stroke:rgb(103,158,145);stroke-width:4\"/><line x1=\"300.197\" y1=\"243.721\" x2=\"400\" y2=\"250\" stroke-linecap=\"round\" style=\"stroke:rgb(103,158,145);stroke-width:4\"/><line x1=\"400\" y1=\"250\" x2=\"300.789\" y2=\"237.467\" stroke-linecap=\"round\" style=\"stroke:rgb(103,158,145);stroke-width:4\"/><line x1=\"300.789\" y1=\"237.467\" x2=\"300.197\" y2=\"243.721\" stroke-linecap=\"round\" style=\"stroke:rgb(103,158,145);stroke-width:4\"/><line x1=\"300.197\" y1=\"243.721\" x2=\"400\" y2=\"250\" stroke-linecap=\"round\" style=\"stroke:rgb(103,158,145);stroke-width:4\"/><line x1=\"400\" y1=\"250\" x2=\"300.789\" y2=\"237.467\" stroke-linecap=\"round\" style=\"stroke:rgb(34,88,240);stroke-width:4\"/><line x1=\"300.789\" y1=\"237.467\" x2=\"400\" y2=\"250\" stroke-linecap=\"round\" style=\"stroke:rgb(34,88,240);stroke-width:4\"/><line x1=\"400\" y1=\"250\" x2=\"301.771\" y2=\"231.262\" stroke-linecap=\"round\" style=\"stroke:rgb(34,88,240);stroke-width:4\"/><line x1=\"301.771\" y1=\"231.262\" x2=\"300.789\" y2=\"237.467\" stroke-linecap=\"round\" style=\"stroke:rgb(34,88,240);stroke-width:4\"/><line x1=\"300.789\" y1=\"237.467\" x2=\"400\" y2=\"250\" stroke-linecap=\"round\" style=\"stroke:rgb(34,88,240);stroke-width:4\"/><line x1=\"400\" y1=\"250\" x2=\"301.771\" y2=\"231.262\" stroke-linecap=\"round\" style=\"stroke:rgb(213,64,250);stroke-width:4\"/><line x1=\"301.771\" y1=\"231.262\" x2=\"400\" y2=\"250\" stroke-linecap=\"round\" style=\"stroke:rgb(213,64,250);stroke-width:4\"/><line x1=\"400\" y1=\"250\" x2=\"303.142\" y2=\"225.131\" stroke-linecap=\"round\" style=\"stroke:rgb(213,64,250);stroke-width:4\"/><line x1=\"303.142\" y1=\"225.131\" x2=\"301.771\" y2=\"231.262\" stroke-linecap=\"round\" style=\"stroke:rgb(213,64,250);stroke-width:4\"/><line x1=\"301.771\" y1=\"231.262\" x2=\"400\" y2=\"250\" stroke-linecap=\"round\" style=\"stroke:rgb(213,64,250);stroke-width:4\"/><line x1=\"400\" y1=\"250\" x2=\"303.142\" y2=\"225.131\" stroke-linecap=\"round\" style=\"stroke:rgb(215,35,51);stroke-width:4\"/><line x1=\"303.142\" y1=\"225.131\" x2=\"400\" y2=\"250\" stroke-linecap=\"round\" style=\"stroke:rgb(215,35,51);stroke-width:4\"/><line x1=\"400\" y1=\"250\" x2=\"304.894\" y2=\"219.098\" stroke-linecap=\"round\" style=\"stroke:rgb(215,35,51);stroke-width:4\"/><line x1=\"304.894\" y1=\"219.098\" x2=\"303.142\" y2=\"225.131\" stroke-linecap=\"round\" style=\"stroke:rgb(215,35,51);stroke-width:4\"/><line x1=\"303.142\" y1=\"225.131\" x2=\"400\" y2=\"250\" stroke-linecap=\"round\" style=\"stroke:rgb(215,35,51);stroke-width:4\"/><line x1=\"400\" y1=\"250\" x2=\"304.894\" y2=\"219.098\" stroke-linecap=\"round\" style=\"stroke:rgb(94,26,120);stroke-width:4\"/><line x1=\"304.894\" y1=\"219.098\" x2=\"400\" y2=\"250\" stroke-linecap=\"round\" style=\"stroke:rgb(94,26,120);stroke-width:4\"/><line x1=\"400\" y1=\"250\" x2=\"307.022\" y2=\"213.188\" stroke-linecap=\"round\" style=\"stroke:rgb(94,26,120);stroke-width:4\"/><line x1=\"307.022\" y1=\"213.188\" x2=\"304.894\" y2=\"219.098\" stroke-linecap=\"round\" style=\"stroke:rgb(94,26,120);stroke-width:4\"/><line x1=\"304.894\" y1=\"219.098\" x2=\"400\" y2=\"250\" stroke-linecap=\"round\" style=\"stroke:rgb(94,26,120);stroke-width:4\"/><line x1=\"400\" y1=\"250\" x2=\"307.022\" y2=\"213.188\" stroke-linecap=\"round\" style=\"stroke:rgb(99,59,11);stroke-width:4\"/><line x1=\"307.022\" y1=\"213.188\" x2=\"400\" y2=\"250\" stroke-linecap=\"round\" style=\"stroke:rgb(99,59,11);stroke-width:4\"/><line x1=\"400\" y1=\"250\" x2=\"309.517\" y2=\"207.422\" stroke-linecap=\"round\" style=\"stroke:rgb(99,59,11);stroke-width:4\"/><line x1=\"309.517\" y1=\"207.422\" x2=\"307.022\" y2=\"213.188\" stroke-linecap=\"round\" style=\"stroke:rgb(99,59,11);stroke-width:4\"/><line x1=\"307.022\" y1=\"213.188\" x2=\"400\" y2=\"250\" stroke-linecap=\"round\" style=\"stroke:rgb(99,59,11);stroke-width:4\"/><line x1=\"400\" y1=\"250\" x2=\"309.517\" y2=\"207.422\" stroke-linecap=\"round\" style=\"stroke:rgb(94,118,106);stroke-width:4\"/><line x1=\"309.517\" y1=\"207.422\" x2=\"400\" y2=\"250\" stroke-linecap=\"round\" style=\"stroke:rgb(94,118,106);stroke-width:4\"/><line x1=\"400\" y1=\"250\" x2=\"312.369\" y2=\"201.825\" stroke-linecap=\"round\" style=\"stroke:rgb(94,118,106);stroke-width:4\"/><line x1=\"312.369\" y1=\"201.825\" x2=\"309.517\" y2=\"207.422\" stroke-linecap=\"round\" style=\"stroke:rgb(94,118,106);stroke-width:4\"/><line x1=\"309.517\" y1=\"207.422\" x2=\"400\" y2=\"250\" stroke-linecap=\"round\" style=\"stroke:rgb(94,118,106);stroke-width:4\"/><line x1=\"400\" y1=\"250\" x2=\"312.369\" y2=\"201.825\" stroke-linecap=\"round\" style=\"stroke:rgb(2,235,13);stroke-width:4\"/><line x1=\"312.369\" y1=\"201.825\" x2=\"400\" y2=\"250\" stroke-linecap=\"round\" style=\"stroke:rgb(2,235,13);stroke-width:4\"/><line x1=\"400\" y1=\"250\" x2=\"315.567\" y2=\"196.417\" stroke-linecap=\"round\" style=\"stroke:rgb(2,235,13);stroke-width:4\"/><line x1=\"315.567\" y1=\"196.417\" x2=\"312.369\" y2=\"201.825\" stroke-linecap=\"round\" style=\"stroke:rgb(2,235,13);stroke-width:4\"/><line x1=\"312.369\" y1=\"201.825\" x2=\"400\" y2=\"250\" stroke-linecap=\"round\" style=\"stroke:rgb(2,235,13);stroke-width:4\"/><line x1=\"400\" y1=\"250\" x2=\"315.567\" y2=\"196.417\" stroke-linecap=\"round\" style=\"stroke:rgb(88,252,255);stroke-width:4\"/><line x1=\"315.567\" y1=\"196.417\" x2=\"400\" y2=\"250\" stroke-linecap=\"round\" style=\"stroke:rgb(88,252,255);stroke-width:4\"/><line x1=\"400\" y1=\"250\" x2=\"319.098\" y2=\"191.221\" stroke-linecap=\"round\" style=\"stroke:rgb(88,252,255);stroke-width:4\"/><line x1=\"319.098\" y1=\"191.221\" x2=\"315.567\" y2=\"196.417\" stroke-linecap=\"round\" style=\"stroke:rgb(88,252,255);stroke-width:4\"/><line x1=\"315.567\" y1=\"196.417\" x2=\"400\" y2=\"250\" stroke-linecap=\"round\" style=\"stroke:rgb(88,252,255);stroke-width:4\"/><line x1=\"400\" y1=\"250\" x2=\"319.098\" y2=\"191.221\" stroke-linecap=\"round\" style=\"stroke:rgb(150,47,236);stroke-width:4\"/>\n",
              "        <g visibility=visible transform=\"rotate(306.00000000000034,319.098,191.221) translate(301.098, 173.221)\">\n",
              "<path style=\" stroke:none;fill-rule:evenodd;fill:rgb(150,47,236);fill-opacity:1;\" d=\"M 18.214844 0.632812 C 16.109375 1.800781 15.011719 4.074219 15.074219 7.132812 L 15.085938 7.652344 L 14.785156 7.496094 C 13.476562 6.824219 11.957031 6.671875 10.40625 7.066406 C 8.46875 7.550781 6.515625 9.15625 4.394531 11.992188 C 3.0625 13.777344 2.679688 14.636719 3.042969 15.027344 L 3.15625 15.152344 L 3.519531 15.152344 C 4.238281 15.152344 4.828125 14.886719 8.1875 13.039062 C 9.386719 12.378906 10.371094 11.839844 10.378906 11.839844 C 10.386719 11.839844 10.355469 11.929688 10.304688 12.035156 C 9.832031 13.09375 9.257812 14.820312 8.96875 16.078125 C 7.914062 20.652344 8.617188 24.53125 11.070312 27.660156 C 11.351562 28.015625 11.363281 27.914062 10.972656 28.382812 C 8.925781 30.84375 7.945312 33.28125 8.238281 35.1875 C 8.289062 35.527344 8.28125 35.523438 8.917969 35.523438 C 10.941406 35.523438 13.074219 34.207031 15.136719 31.6875 C 15.359375 31.417969 15.328125 31.425781 15.5625 31.574219 C 16.292969 32.042969 18.023438 32.964844 18.175781 32.964844 C 18.335938 32.964844 19.941406 32.210938 20.828125 31.71875 C 20.996094 31.625 21.136719 31.554688 21.136719 31.558594 C 21.203125 31.664062 21.898438 32.414062 22.222656 32.730469 C 23.835938 34.300781 25.5625 35.132812 27.582031 35.300781 C 27.90625 35.328125 27.9375 35.308594 28.007812 34.984375 C 28.382812 33.242188 27.625 30.925781 25.863281 28.425781 L 25.542969 27.96875 L 25.699219 27.785156 C 28.945312 23.960938 29.132812 18.699219 26.257812 11.96875 L 26.207031 11.84375 L 27.945312 12.703125 C 31.53125 14.476562 32.316406 14.800781 33.03125 14.800781 C 33.976562 14.800781 33.78125 13.9375 32.472656 12.292969 C 28.519531 7.355469 25.394531 5.925781 21.921875 7.472656 L 21.558594 7.636719 L 21.578125 7.542969 C 21.699219 6.992188 21.761719 5.742188 21.699219 5.164062 C 21.496094 3.296875 20.664062 1.964844 19.003906 0.855469 C 18.480469 0.503906 18.457031 0.5 18.214844 0.632812\"/>\n",
              "</g>\n",
              "      </svg>\n",
              "    "
            ]
          },
          "metadata": {}
        }
      ]
    }
  ]
}