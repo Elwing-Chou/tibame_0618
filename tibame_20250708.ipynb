{
  "nbformat": 4,
  "nbformat_minor": 0,
  "metadata": {
    "colab": {
      "provenance": [],
      "authorship_tag": "ABX9TyOAFVY+Aev/cGXNCcFAl4Yz",
      "include_colab_link": true
    },
    "kernelspec": {
      "name": "python3",
      "display_name": "Python 3"
    },
    "language_info": {
      "name": "python"
    }
  },
  "cells": [
    {
      "cell_type": "markdown",
      "metadata": {
        "id": "view-in-github",
        "colab_type": "text"
      },
      "source": [
        "<a href=\"https://colab.research.google.com/github/Elwing-Chou/tibame_0618/blob/main/tibame_20250708.ipynb\" target=\"_parent\"><img src=\"https://colab.research.google.com/assets/colab-badge.svg\" alt=\"Open In Colab\"/></a>"
      ]
    },
    {
      "cell_type": "markdown",
      "source": [
        "\n",
        "\n",
        "```\n",
        "\n",
        "事前預防: if-else\n",
        "事後補救: try-except\n",
        "\n",
        "try:\n",
        "    有可能發生例外的程式碼\n",
        "except XXError:\n",
        "    解決\n",
        "except XXError2:\n",
        "    解決\n",
        "\n",
        "1. try順利執行: 不會跑任何的except\n",
        "2. try發生例外(那行就會停下):\n",
        "    a. 有對應except: 做except\n",
        "    b. 沒有       : 紅字\n",
        "\n",
        "```\n",
        "\n"
      ],
      "metadata": {
        "id": "3KGRGINWoL3O"
      }
    },
    {
      "cell_type": "markdown",
      "source": [
        "\n",
        "\n",
        "```\n",
        "[\n",
        "    {}\n",
        "    {}\n",
        "    {}\n",
        "]\n",
        "\n",
        "```\n",
        "\n"
      ],
      "metadata": {
        "id": "WXN4lymzsWGX"
      }
    },
    {
      "cell_type": "code",
      "execution_count": 12,
      "metadata": {
        "colab": {
          "base_uri": "https://localhost:8080/"
        },
        "id": "yglYy0-Vndn8",
        "outputId": "3360a4ec-e4b9-45d6-844d-8b8cb9b8497b"
      },
      "outputs": [
        {
          "output_type": "stream",
          "name": "stdout",
          "text": [
            "https://tabelog.com/tw/okinawa/rstLst/1/?SrtT=rt\n",
            "https://tabelog.com/tw/okinawa/rstLst/2/?SrtT=rt\n",
            "https://tabelog.com/tw/okinawa/rstLst/3/?SrtT=rt\n",
            "https://tabelog.com/tw/okinawa/rstLst/4/?SrtT=rt\n",
            "https://tabelog.com/tw/okinawa/rstLst/5/?SrtT=rt\n",
            "https://tabelog.com/tw/okinawa/rstLst/6/?SrtT=rt\n",
            "https://tabelog.com/tw/okinawa/rstLst/7/?SrtT=rt\n",
            "https://tabelog.com/tw/okinawa/rstLst/8/?SrtT=rt\n",
            "retry...\n",
            "retry...\n",
            "https://tabelog.com/tw/okinawa/rstLst/9/?SrtT=rt\n",
            "https://tabelog.com/tw/okinawa/rstLst/10/?SrtT=rt\n",
            "retry...\n"
          ]
        }
      ],
      "source": [
        "import time\n",
        "import urllib.request as req\n",
        "import urllib.error as err\n",
        "import bs4 as bs\n",
        "\n",
        "def get_page(url):\n",
        "    # url = \"https://tabelog.com/tw/tokyo/rstLst/sweets/1/?SrtT=rt\"\n",
        "    while True:\n",
        "        try:\n",
        "            resp = req.urlopen(url)\n",
        "            break\n",
        "        except err.HTTPError:\n",
        "            print(\"retry...\")\n",
        "            time.sleep(1)\n",
        "\n",
        "    content = resp.read()\n",
        "    html = bs.BeautifulSoup(content)\n",
        "\n",
        "    rs = html.find_all(\"div\", {\"class\":\"list-rst__body\"})\n",
        "    for r in rs:\n",
        "        en = r.find(\"a\", {\"class\":\"list-rst__rst-name-target\"})\n",
        "        rating = r.find(\"span\", {\"class\":\"c-rating__val\"})\n",
        "        area_genre = r.find(\"div\", {\"class\":\"list-rst__area-genre\"})\n",
        "        prices = r.find_all(\"span\", {\"class\":\"c-rating-v3__val\"})\n",
        "        dinner_price = prices[0]\n",
        "        lunch_price = prices[1]\n",
        "        holiday = r.find(\"span\", {\"class\":\"list-rst__holiday-text\"})\n",
        "\n",
        "        en_href = en[\"href\"]\n",
        "        en_text = en.text.strip()\n",
        "        rating_text = rating.text.strip()\n",
        "        area_genre_text = area_genre.text.strip()\n",
        "        dinner_price_text = dinner_price.text.strip()\n",
        "        lunch_price_text = lunch_price.text.strip()\n",
        "        holiday_text = holiday.text.strip()\n",
        "\n",
        "        # print(rating_text)\n",
        "        # print(en_text)\n",
        "        # print(en_href)\n",
        "        # print(area_genre_text)\n",
        "        # print(dinner_price_text)\n",
        "        # print(lunch_price_text)\n",
        "        # print(holiday_text)\n",
        "        # print(\"-\" * 30)\n",
        "        # 評價 地點 晚餐價格 午餐價格 例假日\n",
        "\n",
        "\n",
        "for i in range(10):\n",
        "    page = i + 1\n",
        "    url = \"https://tabelog.com/tw/okinawa/rstLst/{}/?SrtT=rt\".format(page)\n",
        "    print(url)\n",
        "    get_page(url)\n"
      ]
    },
    {
      "cell_type": "code",
      "source": [
        "import urllib.error as err\n",
        "\n",
        "url = \"https://tabelog.com/tw/tokyo/rstLst/sweets/1/?SrtT=rt\"\n",
        "while True:\n",
        "    try:\n",
        "        resp = req.urlopen(url)\n",
        "        break\n",
        "    except err.HTTPError:\n",
        "        print(\"retry...\")"
      ],
      "metadata": {
        "id": "C1hlvlRCp7JZ"
      },
      "execution_count": 9,
      "outputs": []
    },
    {
      "cell_type": "code",
      "source": [
        "# 專屬功能: str\n",
        "a = \"hii\" * 5\n",
        "a = a.replace(\"hi\", \"Z\", 1)\n",
        "print(a)\n",
        "\n",
        "a = \"   abbb c   \"\n",
        "a = a.strip()\n",
        "print(a)\n",
        "\n",
        "a = \"2025/07/08\"\n",
        "a_spl = a.split(\"/\")\n",
        "print(a_spl)\n",
        "\n",
        "b = \"-\".join(a_spl)\n",
        "print(b)"
      ],
      "metadata": {
        "colab": {
          "base_uri": "https://localhost:8080/"
        },
        "id": "K-xiIXVZsvKm",
        "outputId": "4b87b6dc-49f7-4070-a6d2-bd473198c44c"
      },
      "execution_count": 22,
      "outputs": [
        {
          "output_type": "stream",
          "name": "stdout",
          "text": [
            "Zihiihiihiihii\n",
            "abbb c\n",
            "['2025', '07', '08']\n",
            "2025-07-08\n"
          ]
        }
      ]
    },
    {
      "cell_type": "code",
      "source": [
        "# 專屬功能: list\n",
        "a = [1, 2, 3, 4]\n",
        "b = a.append(5)\n",
        "print(a)\n",
        "print(b)\n",
        "# 1. 為什麼真的直接改? 這樣比較符合直覺\n",
        "# 2. 回傳值是什麼? 沒有回傳值(X) -> 回傳了None(O)\n",
        "# print(print(5))\n",
        "\n",
        "# Error 1\n",
        "print(a.append(6))\n",
        "# Fatal Error 2\n",
        "# a = a.append(7)\n",
        "\n",
        "# !!!!!!\n",
        "a.append(8)\n",
        "print(a)\n",
        "\n",
        "# !!!!!!\n",
        "a.extend([9, 10])\n",
        "print(a)\n",
        "\n",
        "a = a + [11, 12]\n",
        "print(a)\n",
        "\n",
        "# 分辨 回傳新的/回傳None\n",
        "# 1. 你接接看 b = a.xxxx\n",
        "# 2. 紅字NoneType is xxx 你寫出了 a = a.xxx -> a = None"
      ],
      "metadata": {
        "colab": {
          "base_uri": "https://localhost:8080/"
        },
        "id": "iNHtm8rEyZ_n",
        "outputId": "a9c2ba65-8b22-4906-9567-fb44e9ffde73"
      },
      "execution_count": 30,
      "outputs": [
        {
          "output_type": "stream",
          "name": "stdout",
          "text": [
            "[1, 2, 3, 4, 5]\n",
            "None\n",
            "None\n",
            "[1, 2, 3, 4, 5, 6, 8]\n",
            "[1, 2, 3, 4, 5, 6, 8, 9, 10]\n",
            "[1, 2, 3, 4, 5, 6, 8, 9, 10, 11, 12]\n"
          ]
        }
      ]
    }
  ]
}