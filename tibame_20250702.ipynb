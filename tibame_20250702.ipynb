{
  "nbformat": 4,
  "nbformat_minor": 0,
  "metadata": {
    "colab": {
      "provenance": [],
      "authorship_tag": "ABX9TyNMkrVmgAJprtKCmA8TDCe0",
      "include_colab_link": true
    },
    "kernelspec": {
      "name": "python3",
      "display_name": "Python 3"
    },
    "language_info": {
      "name": "python"
    }
  },
  "cells": [
    {
      "cell_type": "markdown",
      "metadata": {
        "id": "view-in-github",
        "colab_type": "text"
      },
      "source": [
        "<a href=\"https://colab.research.google.com/github/Elwing-Chou/tibame_0618/blob/main/tibame_20250702.ipynb\" target=\"_parent\"><img src=\"https://colab.research.google.com/assets/colab-badge.svg\" alt=\"Open In Colab\"/></a>"
      ]
    },
    {
      "cell_type": "code",
      "execution_count": null,
      "metadata": {
        "id": "vOImxToHzCJJ"
      },
      "outputs": [],
      "source": []
    },
    {
      "cell_type": "markdown",
      "source": [
        "\n",
        "\n",
        "```\n",
        "HTML格式\n",
        "- 由很多長方形(區塊)構成\n",
        "\n",
        "<a href=\"xxx\"> -> start\n",
        "    店名\n",
        "</a> -> end\n",
        "\n",
        "1. 名字: 決定區塊用途\n",
        "a: 超連結  img: 圖片  video: 影片\n",
        "\n",
        "2. 屬性: 決定對應名字區塊細節(名=\"直\")\n",
        "a href=\"網址\"\n",
        "img/video src=\"網址\"\n",
        "\n",
        "3. 顯示文字\n",
        "\n",
        "\n",
        "前端\n",
        "1. 把回應呈現給你看\n",
        "a. HTML: 內容(o)\n",
        "b. CSS: 幫你把HTML做排版(o)\n",
        "c. JavaScript: 幫你處理網頁的動態(x)\n",
        "\n",
        "後端(ngrok+FastAPI):\n",
        "1. 接收網址\n",
        "2. 處理網址(查詢資料庫....)\n",
        "3. 送回回應\n",
        "\n",
        "\n",
        "CSS語法: 定位區塊 加上排版\n",
        "1. 針對HTML名字做定位\n",
        "a{\n",
        "    background-color:pink\n",
        "}\n",
        "\n",
        "2. 特別HTML排版屬性\n",
        "class=\"分類1 分類2 分類32\"\n",
        ".分類1{\n",
        "\n",
        "}\n",
        "\n",
        "e.g.\n",
        ".js-thumbnail-img{\n",
        "    border-radius:50%\n",
        "}\n",
        "\n",
        "3. 排版屬性\n",
        "id=\"不重複的職\"\n",
        "#id{\n",
        "\n",
        "}\n",
        "\n",
        "```\n",
        "\n"
      ],
      "metadata": {
        "id": "HKtOt0t4zEnS"
      }
    },
    {
      "cell_type": "code",
      "source": [
        "# https://tabelog.com/tw/tokyo/rstLst/sweets/?SrtT=rt\n",
        "# https://tabelog.com/tw/tokyo/rstLst/sweets/2/?SrtT=rt\n",
        "import urllib.request as req\n",
        "# BeautifulSoup4\n",
        "import bs4 as bs\n",
        "\n",
        "url = \"https://tabelog.com/tw/tokyo/rstLst/sweets/1/?SrtT=rt\"\n",
        "resp = req.urlopen(url)\n",
        "content = resp.read()\n",
        "html = bs.BeautifulSoup(content)\n",
        "# 區塊.find .find_all(html名字, 字典)\n",
        "target = html.find(\"a\", {\"class\":\"list-rst__rst-name-target\"})\n",
        "# 找到目鏢\n",
        "# 1. 特殊屬性: 區塊[\"屬姓名\"]\n",
        "# 2. 顯示文字: 型態.直 區塊.text\n",
        "print(target[\"href\"])\n",
        "print(target.text)"
      ],
      "metadata": {
        "colab": {
          "base_uri": "https://localhost:8080/"
        },
        "id": "daLY3CIaKBfj",
        "outputId": "e70fd926-650d-4c89-8531-d3cdbc2fd447"
      },
      "execution_count": 18,
      "outputs": [
        {
          "output_type": "stream",
          "name": "stdout",
          "text": [
            "https://tabelog.com/tw/tokyo/A1304/A130401/13184186/\n",
            "Bon.nu\n"
          ]
        }
      ]
    }
  ]
}