{
  "nbformat": 4,
  "nbformat_minor": 0,
  "metadata": {
    "colab": {
      "provenance": [],
      "authorship_tag": "ABX9TyPNIiTwNHAPc5hRfwkj2nDU",
      "include_colab_link": true
    },
    "kernelspec": {
      "name": "python3",
      "display_name": "Python 3"
    },
    "language_info": {
      "name": "python"
    }
  },
  "cells": [
    {
      "cell_type": "markdown",
      "metadata": {
        "id": "view-in-github",
        "colab_type": "text"
      },
      "source": [
        "<a href=\"https://colab.research.google.com/github/Elwing-Chou/tibame_0618/blob/main/tibame_0715.ipynb\" target=\"_parent\"><img src=\"https://colab.research.google.com/assets/colab-badge.svg\" alt=\"Open In Colab\"/></a>"
      ]
    },
    {
      "cell_type": "code",
      "execution_count": null,
      "metadata": {
        "id": "RWjRWPQOrP5G"
      },
      "outputs": [],
      "source": [
        "# load loads\n",
        "# dump dumps\n",
        "import json\n",
        "test = [\n",
        "    {\"name\":\"Elwing\", \"height\":175},\n",
        "    {\"name\":\"Bob\", \"height\":180}\n",
        "]\n",
        "json.dumps(test)\n",
        "# !\n",
        "with open(\"test.json\", \"w\", encoding=\"utf-8\") as f:\n",
        "    json.dump(test, f)\n",
        "\n",
        "with open(\"test.json\", \"r\", encoding=\"utf-8\") as f:\n",
        "    test2 = json.load(f)\n",
        "    print(test2)\n",
        "\n",
        "# !\n",
        "with open(\"test.json\", \"r\", encoding=\"utf-8\") as f:\n",
        "    content = f.read()\n",
        "    test3 = json.loads(content)\n",
        "    print(test3)"
      ]
    },
    {
      "cell_type": "code",
      "source": [
        "import os\n",
        "if not os.path.exists(\"a/b/c\"):\n",
        "    os.makedirs(\"a/b/c\")"
      ],
      "metadata": {
        "id": "3rBivKTvtDBe"
      },
      "execution_count": 8,
      "outputs": []
    },
    {
      "cell_type": "code",
      "source": [
        "# import\n",
        "import urllib.request\n",
        "urllib.request.urlopen\n",
        "\n",
        "# from ... import\n",
        "from urllib import request\n",
        "request.urlopen\n",
        "\n",
        "# 特殊的 只有from import才有\n",
        "# 可以更深, 只import你需要的那個功能\n",
        "from urllib.request import urlopen, urlretrieve\n",
        "urlopen"
      ],
      "metadata": {
        "id": "kKp2elLiusiL"
      },
      "execution_count": null,
      "outputs": []
    },
    {
      "cell_type": "code",
      "source": [
        "# requests函式庫\n",
        "import requests\n",
        "from bs4 import BeautifulSoup\n",
        "# urlopen: get\n",
        "url = \"https://www.ptt.cc/bbs/Beauty/M.1752031632.A.622.html\"\n",
        "h = {\n",
        "    \"User-Agent\":\"Mozilla/5.0\"\n",
        "}\n",
        "resp = requests.get(url, headers=h)\n",
        "# resp.read(): resp.text\n",
        "content = resp.text\n",
        "html = BeautifulSoup(content)\n",
        "# 好處: 容易取得\n",
        "print(resp.request.headers)\n",
        "if resp.status_code == 200:\n",
        "    print(\"!\")"
      ],
      "metadata": {
        "colab": {
          "base_uri": "https://localhost:8080/"
        },
        "id": "acBOPdO8wTmN",
        "outputId": "e8fdab51-bb3f-4d49-a85d-18a9548752c6"
      },
      "execution_count": 12,
      "outputs": [
        {
          "output_type": "stream",
          "name": "stdout",
          "text": [
            "{'User-Agent': 'Mozilla/5.0', 'Accept-Encoding': 'gzip, deflate, zstd', 'Accept': '*/*', 'Connection': 'keep-alive'}\n",
            "!\n"
          ]
        }
      ]
    }
  ]
}