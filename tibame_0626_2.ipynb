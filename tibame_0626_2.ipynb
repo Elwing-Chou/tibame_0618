{
  "nbformat": 4,
  "nbformat_minor": 0,
  "metadata": {
    "colab": {
      "provenance": [],
      "authorship_tag": "ABX9TyMbgcs+zZ5vDoGCKuCXYWAr",
      "include_colab_link": true
    },
    "kernelspec": {
      "name": "python3",
      "display_name": "Python 3"
    },
    "language_info": {
      "name": "python"
    }
  },
  "cells": [
    {
      "cell_type": "markdown",
      "metadata": {
        "id": "view-in-github",
        "colab_type": "text"
      },
      "source": [
        "<a href=\"https://colab.research.google.com/github/Elwing-Chou/tibame_0618/blob/main/tibame_0626_2.ipynb\" target=\"_parent\"><img src=\"https://colab.research.google.com/assets/colab-badge.svg\" alt=\"Open In Colab\"/></a>"
      ]
    },
    {
      "cell_type": "code",
      "execution_count": null,
      "metadata": {
        "id": "6oh_dQoH02Yn"
      },
      "outputs": [],
      "source": [
        "import json\n",
        "import urllib.request as request\n",
        "import urllib.parse as parse\n",
        "import pandas as pd\n",
        "\n",
        "payload = {\n",
        "    \"SearchType\":\"S\",\n",
        "    \"Lang\":\"TW\",\n",
        "    \"StartStation\":\"TaiPei\",\n",
        "    \"EndStation\":\"ZuoYing\",\n",
        "    \"OutWardSearchDate\":\"2025/06/27\",\n",
        "    \"OutWardSearchTime\":\"09:00\",\n",
        "    \"ReturnSearchDate\":\"2025/06/26\",\n",
        "    \"ReturnSearchTime\":\"14:00\",\n",
        "    \"DiscountType\":\"\",\n",
        "}\n",
        "url = \"https://www.thsrc.com.tw/TimeTable/Search\"\n",
        "\n",
        "data = parse.urlencode(payload).encode()\n",
        "req =  request.Request(url, data=data) # this will make the method \"POST\"\n",
        "resp = request.urlopen(req)\n",
        "content = resp.read()\n",
        "# print(content)\n",
        "# pandas: 表格轉換(CSV)\n",
        "# 剛剛的第一種方法: list+dict一層一層去拿 幫我印出 Departure time還有Duration\n",
        "content_converted = json.loads(content)\n",
        "data = content_converted[\"data\"]\n",
        "depart_items = data[\"DepartureTable\"][\"TrainItem\"]\n",
        "for d in depart_items:\n",
        "    depart_time = d[\"DepartureTime\"]\n",
        "    duration = d[\"Duration\"]\n",
        "    print(depart_time, duration)\n",
        "\n",
        "#\n",
        "df = pd.DataFrame(depart_items)\n",
        "df.to_csv(\"TaiPei_ZuoYing_0627.csv\", encoding=\"utf-8\")"
      ]
    }
  ]
}