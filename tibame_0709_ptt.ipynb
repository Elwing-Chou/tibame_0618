{
  "nbformat": 4,
  "nbformat_minor": 0,
  "metadata": {
    "colab": {
      "provenance": [],
      "authorship_tag": "ABX9TyPiFSyiOBbB3x1vVtmbNBwg",
      "include_colab_link": true
    },
    "kernelspec": {
      "name": "python3",
      "display_name": "Python 3"
    },
    "language_info": {
      "name": "python"
    }
  },
  "cells": [
    {
      "cell_type": "markdown",
      "metadata": {
        "id": "view-in-github",
        "colab_type": "text"
      },
      "source": [
        "<a href=\"https://colab.research.google.com/github/Elwing-Chou/tibame_0618/blob/main/tibame_0709_ptt.ipynb\" target=\"_parent\"><img src=\"https://colab.research.google.com/assets/colab-badge.svg\" alt=\"Open In Colab\"/></a>"
      ]
    },
    {
      "cell_type": "markdown",
      "source": [
        "\n",
        "\n",
        "```\n",
        "403 Forbidden\n",
        "1. IP ban: 換ip\n",
        "2. 模仿的不像: 少了必要的Headers\n",
        "\n",
        "```\n",
        "\n"
      ],
      "metadata": {
        "id": "faDvBjbn2q-Z"
      }
    },
    {
      "cell_type": "code",
      "execution_count": 7,
      "metadata": {
        "colab": {
          "base_uri": "https://localhost:8080/"
        },
        "id": "pWTwDam31Q4G",
        "outputId": "1f73fb0f-054e-44dd-e753-e6fe7f44c31e"
      },
      "outputs": [
        {
          "output_type": "stream",
          "name": "stdout",
          "text": [
            "{'author': 'a0802459 (王月可可)', 'board': 'Beauty', 'title': '[正妹] 短髮李珠珢', 'post_time': 'Tue Jul  8 16:20:49 2025', 'pushes': [{'push_tag': 1, 'push_uid': 'hyperfrog', 'push_content': '身材很好 但短髮有點莎味', 'push_ipdatetime': '42.72.86.237 07/08 16:23'}, {'push_tag': -1, 'push_uid': 'kenslc199', 'push_content': '越看越像izsasa', 'push_ipdatetime': '106.64.97.99 07/08 16:26'}, {'push_tag': 1, 'push_uid': 'haircc', 'push_content': '鷰尾', 'push_ipdatetime': '116.59.85.235 07/08 16:29'}, {'push_tag': 1, 'push_uid': 'njnjy', 'push_content': '珠珠寶貝', 'push_ipdatetime': '36.233.28.49 07/08 16:33'}, {'push_tag': 1, 'push_uid': 'loloman', 'push_content': '真的很漂亮', 'push_ipdatetime': '111.71.215.198 07/08 16:35'}, {'push_tag': 1, 'push_uid': 'thewtf', 'push_content': '我老婆', 'push_ipdatetime': '49.217.198.113 07/08 16:38'}, {'push_tag': 1, 'push_uid': 'Krishna', 'push_content': '害我覺得莎莎愈看愈可愛', 'push_ipdatetime': '49.217.135.204 07/08 16:45'}, {'push_tag': 1, 'push_uid': 'CavendishJr', 'push_content': '100%的愛莉莎莎', 'push_ipdatetime': '27.52.58.37 07/08 16:50'}, {'push_tag': 0, 'push_uid': 'CavendishJr', 'push_content': '莎莎本來就可愛', 'push_ipdatetime': '27.52.58.37 07/08 16:50'}, {'push_tag': 1, 'push_uid': 'ginlom', 'push_content': '誅仙', 'push_ipdatetime': '220.133.150.159 07/08 16:51'}, {'push_tag': 1, 'push_uid': 'michael46', 'push_content': '剪短一方面是不是為了對抗台灣濕熱', 'push_ipdatetime': '61.216.75.217 07/08 16:57'}, {'push_tag': 0, 'push_uid': 'michael46', 'push_content': '天氣', 'push_ipdatetime': '61.216.75.217 07/08 16:57'}, {'push_tag': 0, 'push_uid': 'ReiKuromiya', 'push_content': '7月都在大巨蛋吹冷氣 最好是對抗', 'push_ipdatetime': '49.218.92.50 07/08 17:02'}, {'push_tag': 1, 'push_uid': 'superbeast', 'push_content': '莎味跑出來了', 'push_ipdatetime': '42.76.129.171 07/08 17:08'}, {'push_tag': 0, 'push_uid': 'dronang', 'push_content': '得罪造型師', 'push_ipdatetime': '118.160.195.221 07/08 17:09'}, {'push_tag': 1, 'push_uid': 'za89', 'push_content': '這身材真的讚讚讚讚', 'push_ipdatetime': '42.74.108.200 07/08 17:10'}, {'push_tag': 1, 'push_uid': 'gorock', 'push_content': '短髮好正！', 'push_ipdatetime': '1.170.55.95 07/08 17:22'}, {'push_tag': -1, 'push_uid': 'cityhunter04', 'push_content': '珠珠公主要哭死了，被莫名講成像某', 'push_ipdatetime': '42.70.177.54 07/08 17:26'}, {'push_tag': 0, 'push_uid': 'cityhunter04', 'push_content': '個三流網紅！', 'push_ipdatetime': '42.70.177.54 07/08 17:26'}, {'push_tag': 1, 'push_uid': 'la80620xx', 'push_content': '就愛莉莎莎啊 越來越像了', 'push_ipdatetime': '42.78.238.113 07/08 17:27'}, {'push_tag': 1, 'push_uid': 'simultaneous', 'push_content': '身材好好', 'push_ipdatetime': '223.138.112.93 07/08 17:29'}, {'push_tag': 1, 'push_uid': 'conanhide', 'push_content': '要吸多少才覺得像傻傻', 'push_ipdatetime': '223.140.217.168 07/08 17:38'}, {'push_tag': 0, 'push_uid': 's02180218', 'push_content': '手臂上的貼布是抹不去的敗筆', 'push_ipdatetime': '60.250.204.5 07/08 17:41'}, {'push_tag': 1, 'push_uid': 'bread220', 'push_content': '不！！！！！', 'push_ipdatetime': '49.216.19.83 07/08 17:42'}, {'push_tag': 1, 'push_uid': 'AkiHimeTMT', 'push_content': '還是很可愛 但是為什麼要學這種假睫', 'push_ipdatetime': '49.216.166.124 07/08 17:57'}, {'push_tag': 0, 'push_uid': 'AkiHimeTMT', 'push_content': '毛', 'push_ipdatetime': '49.216.166.124 07/08 17:57'}, {'push_tag': 1, 'push_uid': 'popptt', 'push_content': '讚讚讚', 'push_ipdatetime': '42.70.177.238 07/08 18:00'}, {'push_tag': 0, 'push_uid': 'dvnorlag', 'push_content': '短髮就是izsasa了 NG', 'push_ipdatetime': '49.216.175.33 07/08 18:10'}, {'push_tag': 0, 'push_uid': 'hengfreecss', 'push_content': '我老婆珠珠寶貝', 'push_ipdatetime': '223.136.84.87 07/08 18:13'}, {'push_tag': 1, 'push_uid': 'smallkop', 'push_content': '真的是莎莎', 'push_ipdatetime': '49.214.1.232 07/08 18:15'}, {'push_tag': 1, 'push_uid': 'sanji47', 'push_content': 'No～～～～～長髮！！！', 'push_ipdatetime': '114.47.75.181 07/08 18:17'}, {'push_tag': 1, 'push_uid': 'huso', 'push_content': '愛莉莎莎本人', 'push_ipdatetime': '49.215.233.47 07/08 18:34'}, {'push_tag': 1, 'push_uid': 'spildwj', 'push_content': '愛莉莎莎高配版', 'push_ipdatetime': '223.138.179.151 07/08 18:37'}, {'push_tag': 1, 'push_uid': 'JOKERPLUS02', 'push_content': '比不上愛莉莎莎才去跳啦啦隊', 'push_ipdatetime': '101.10.162.18 07/08 18:41'}, {'push_tag': 1, 'push_uid': 'aterthy', 'push_content': '真的有像', 'push_ipdatetime': '223.139.247.158 07/08 19:06'}, {'push_tag': 1, 'push_uid': 'ClownT', 'push_content': '自費武功', 'push_ipdatetime': '49.218.231.32 07/08 19:16'}, {'push_tag': 0, 'push_uid': 'escobar006', 'push_content': '台灣太熱，但髮型越來越有台妹仔味道', 'push_ipdatetime': '111.82.156.48 07/08 19:19'}, {'push_tag': 0, 'push_uid': 'tddt', 'push_content': '莎莎長的不怎麼樣耶，ptt的視力檢查要開辦了', 'push_ipdatetime': '223.137.242.190 07/08 19:19'}, {'push_tag': 1, 'push_uid': 'hans0913', 'push_content': '手臂刺青真的藏很好欸', 'push_ipdatetime': '42.70.197.125 07/08 19:21'}, {'push_tag': 1, 'push_uid': 'facio124', 'push_content': '正', 'push_ipdatetime': '27.242.64.106 07/08 19:21'}, {'push_tag': 0, 'push_uid': 'harrybbs', 'push_content': '無痛轉職IZ', 'push_ipdatetime': '125.224.220.159 07/08 19:26'}, {'push_tag': 1, 'push_uid': 'sahel', 'push_content': '越來越莎', 'push_ipdatetime': '101.12.151.147 07/08 19:41'}, {'push_tag': 1, 'push_uid': 'anilocean', 'push_content': '塔莉莎莎就別來沾了', 'push_ipdatetime': '36.230.32.50 07/08 19:42'}, {'push_tag': 1, 'push_uid': 'andywang3168', 'push_content': '喜歡長髮', 'push_ipdatetime': '223.137.135.89 07/08 19:43'}, {'push_tag': 0, 'push_uid': 'n61208', 'push_content': '普妹再怎麼改造還是一樣', 'push_ipdatetime': '223.141.227.156 07/08 19:47'}, {'push_tag': 0, 'push_uid': 'ak47g78', 'push_content': '超頂', 'push_ipdatetime': '39.9.158.49 07/08 19:55'}, {'push_tag': 1, 'push_uid': 'jefflin0824', 'push_content': '哭哭 短髮就變IZ了', 'push_ipdatetime': '101.10.247.10 07/08 20:07'}, {'push_tag': 1, 'push_uid': 'jansan', 'push_content': '我的菜', 'push_ipdatetime': '114.37.126.247 07/08 20:09'}, {'push_tag': 0, 'push_uid': 'adamlovedogc', 'push_content': '老婆又偷偷瞞著我去換髮型了', 'push_ipdatetime': '36.230.219.89 07/08 20:11'}, {'push_tag': 0, 'push_uid': 'ivanandian', 'push_content': '自廢武功', 'push_ipdatetime': '1.168.251.217 07/08 20:12'}, {'push_tag': 1, 'push_uid': 'cl3bp6', 'push_content': '濃濃的莎味', 'push_ipdatetime': '101.12.150.107 07/08 20:18'}, {'push_tag': 1, 'push_uid': 'tsaodin0220', 'push_content': '哭啊真的變莎莎了', 'push_ipdatetime': '1.163.110.86 07/08 20:22'}, {'push_tag': 1, 'push_uid': 'fattyeddie', 'push_content': '根本愛莉莎莎', 'push_ipdatetime': '101.10.166.174 07/08 20:32'}, {'push_tag': -1, 'push_uid': 'pf775', 'push_content': '韓國人不意外', 'push_ipdatetime': '223.140.185.40 07/08 20:34'}, {'push_tag': -1, 'push_uid': 'ls63308', 'push_content': '又塑又醜', 'push_ipdatetime': '111.241.8.13 07/08 20:39'}, {'push_tag': 1, 'push_uid': 'AccVccA', 'push_content': '正飛~~~', 'push_ipdatetime': '61.229.64.240 07/08 20:39'}, {'push_tag': 0, 'push_uid': 'way7344', 'push_content': '89感要冒出來了？', 'push_ipdatetime': '27.51.121.149 07/08 20:49'}, {'push_tag': 1, 'push_uid': 'k6114520', 'push_content': '一剪短殺味好濃', 'push_ipdatetime': '27.53.96.10 07/08 20:56'}, {'push_tag': 1, 'push_uid': 'Baumgartner', 'push_content': '高配變低配 更像鯊鯊', 'push_ipdatetime': '49.216.107.35 07/08 20:58'}, {'push_tag': 0, 'push_uid': 'oopsskimo', 'push_content': '更像了 izsasa年輕版', 'push_ipdatetime': '114.40.151.153 07/08 21:07'}, {'push_tag': 1, 'push_uid': 'Jinnie', 'push_content': '珠珠寶貝可愛', 'push_ipdatetime': '118.168.170.116 07/08 21:10'}, {'push_tag': -1, 'push_uid': 'za755029', 'push_content': '誰', 'push_ipdatetime': '114.136.196.223 07/08 21:22'}, {'push_tag': 1, 'push_uid': 'kagimoro1202', 'push_content': '眼科診所很多間 及早治療', 'push_ipdatetime': '61.224.165.141 07/08 21:24'}, {'push_tag': -1, 'push_uid': 'love0504', 'push_content': '愛莉莎莎？', 'push_ipdatetime': '111.243.167.165 07/08 21:28'}, {'push_tag': -1, 'push_uid': 'FoSinGongSi', 'push_content': '過氣了 啥時下海再叫我', 'push_ipdatetime': '42.70.150.34 07/08 21:30'}, {'push_tag': 1, 'push_uid': 'cian0923', 'push_content': 'I Z Sa Sa', 'push_ipdatetime': '122.118.40.87 07/08 21:45'}, {'push_tag': 0, 'push_uid': 'anaydh', 'push_content': '變莎莎寶貝了', 'push_ipdatetime': '106.64.96.203 07/08 21:54'}, {'push_tag': 1, 'push_uid': 's985332', 'push_content': '可愛', 'push_ipdatetime': '49.216.89.219 07/08 22:07'}, {'push_tag': 1, 'push_uid': 'youarepig999', 'push_content': '香', 'push_ipdatetime': '118.231.128.135 07/08 22:07'}, {'push_tag': 1, 'push_uid': 'bbbruce', 'push_content': '愛莉莎莎', 'push_ipdatetime': '111.71.88.209 07/08 22:13'}, {'push_tag': 1, 'push_uid': 'schrei', 'push_content': 'https://niurl.cc/1BUOFG', 'push_ipdatetime': '1.175.215.105 07/08 22:20'}, {'push_tag': 0, 'push_uid': 'schrei', 'push_content': '今天超辣…看了受不了', 'push_ipdatetime': '1.175.215.105 07/08 22:21'}, {'push_tag': 1, 'push_uid': 'BDBB', 'push_content': 'IZSS', 'push_ipdatetime': '1.164.205.70 07/08 22:25'}, {'push_tag': 1, 'push_uid': 'powermountai', 'push_content': '我偏愛長髮', 'push_ipdatetime': '1.160.211.18 07/08 22:26'}, {'push_tag': 1, 'push_uid': 'gg86300', 'push_content': '認真跳舞的腿超讚', 'push_ipdatetime': '113.52.80.88 07/08 22:27'}, {'push_tag': 1, 'push_uid': 'shokotan', 'push_content': '這張美https://i.imgur.com/rvT4eTU.jpg', 'push_ipdatetime': '1.163.111.82 07/08 22:36'}, {'push_tag': 1, 'push_uid': 'stocktonty', 'push_content': '最頂的檳榔西施風', 'push_ipdatetime': '101.8.234.70 07/08 22:40'}, {'push_tag': -1, 'push_uid': 'kilmmy149', 'push_content': '醜', 'push_ipdatetime': '27.51.25.46 07/08 22:52'}, {'push_tag': 0, 'push_uid': 'DareJ', 'push_content': '這個肉度真的超讚', 'push_ipdatetime': '61.228.140.43 07/08 22:52'}, {'push_tag': 1, 'push_uid': 'sept9048', 'push_content': '愛莉莎莎PLUS', 'push_ipdatetime': '101.12.207.115 07/08 23:30'}, {'push_tag': 1, 'push_uid': 'Iponponman', 'push_content': '莎莎我也可以', 'push_ipdatetime': '27.240.225.168 07/08 23:47'}, {'push_tag': -1, 'push_uid': 'a8785007', 'push_content': '……..', 'push_ipdatetime': '39.14.8.58 07/08 23:48'}, {'push_tag': 1, 'push_uid': 'loloman', 'push_content': '艾莉莎莎長這樣她還需要靠賣課程賺錢?', 'push_ipdatetime': '111.71.215.198 07/09 00:39'}, {'push_tag': 0, 'push_uid': 'a2006003', 'push_content': '珠珠寶貝推啊', 'push_ipdatetime': '114.33.34.103 07/09 00:40'}, {'push_tag': 1, 'push_uid': 's6525480', 'push_content': '不仙了', 'push_ipdatetime': '114.136.156.113 07/09 01:26'}, {'push_tag': 1, 'push_uid': 'cqntvo', 'push_content': '仙', 'push_ipdatetime': '27.53.72.79 07/09 01:56'}, {'push_tag': 1, 'push_uid': 'andboypig', 'push_content': '比較愛長髮', 'push_ipdatetime': '101.9.37.27 07/09 02:28'}, {'push_tag': -1, 'push_uid': 'stonerr', 'push_content': '8+9刺青妹', 'push_ipdatetime': '42.71.72.37 07/09 02:32'}, {'push_tag': 1, 'push_uid': 'ParaEagle', 'push_content': '給我道歉喔 你拍的也太好看了吧', 'push_ipdatetime': '101.10.78.56 07/09 05:08'}, {'push_tag': -1, 'push_uid': 'game636610', 'push_content': '純噓愛液殺殺', 'push_ipdatetime': '111.255.4.205 07/09 05:21'}, {'push_tag': 1, 'push_uid': 'chanceiam', 'push_content': '突然覺得很有義氣', 'push_ipdatetime': '1.171.218.190 07/09 06:03'}, {'push_tag': 0, 'push_uid': 'poz93', 'push_content': '短髮就變更像了', 'push_ipdatetime': '1.174.34.249 07/09 07:16'}, {'push_tag': 1, 'push_uid': 'cetus', 'push_content': '莎味', 'push_ipdatetime': '39.10.17.77 07/09 07:45'}, {'push_tag': -1, 'push_uid': 'forhhtem', 'push_content': '不適合', 'push_ipdatetime': '61.228.90.96 07/09 07:57'}, {'push_tag': 1, 'push_uid': 'soria0225', 'push_content': '珠珠寶貝 可愛', 'push_ipdatetime': '203.204.85.145 07/09 08:06'}, {'push_tag': 0, 'push_uid': 'reign21', 'push_content': '是本來就很像，不然怎麼會被叫高麗莎莎…', 'push_ipdatetime': '118.168.155.243 07/09 08:51'}, {'push_tag': 1, 'push_uid': 'heavenlymoon', 'push_content': '香噴噴', 'push_ipdatetime': '223.136.54.221 07/09 08:52'}, {'push_tag': 1, 'push_uid': 'jht', 'push_content': '清純可愛', 'push_ipdatetime': '42.77.134.60 07/09 09:14'}, {'push_tag': -1, 'push_uid': 'fishfi', 'push_content': '.....', 'push_ipdatetime': '42.72.1.186 07/09 09:15'}, {'push_tag': -1, 'push_uid': 'Ogrish', 'push_content': '人明明很漂亮  結果你截圖截成這樣變醜還', 'push_ipdatetime': '27.51.80.55 07/09 09:18'}, {'push_tag': 0, 'push_uid': 'Ogrish', 'push_content': '被一堆XX眼X酸民靠腰', 'push_ipdatetime': '27.51.80.55 07/09 09:18'}, {'push_tag': 1, 'push_uid': 'mingdao', 'push_content': '89妹天花板', 'push_ipdatetime': '36.235.217.242 07/09 09:20'}, {'push_tag': -1, 'push_uid': 'ramirez', 'push_content': '刺青蝦妹', 'push_ipdatetime': '218.173.72.11 07/09 09:37'}, {'push_tag': 0, 'push_uid': 'z70126', 'push_content': '長髮比較好看，她的仙來自飄逸長髮而非濃', 'push_ipdatetime': '111.83.235.43 07/09 09:53'}, {'push_tag': 0, 'push_uid': 'z70126', 'push_content': '妝', 'push_ipdatetime': '111.83.235.43 07/09 09:53'}, {'push_tag': 1, 'push_uid': 'gn01370926', 'push_content': '太莎了吧', 'push_ipdatetime': '101.9.193.102 07/09 10:02'}, {'push_tag': 1, 'push_uid': 'CCandyMan05', 'push_content': '有DJSODA的感覺，就某些角度神韻', 'push_ipdatetime': '111.246.73.146 07/09 10:06'}, {'push_tag': -1, 'push_uid': 'mfuqq', 'push_content': '嘔', 'push_ipdatetime': '113.61.219.95 07/09 10:10'}, {'push_tag': -1, 'push_uid': 'Totoro0802', 'push_content': '隔著螢幕都聞到肥宅的臭酸味', 'push_ipdatetime': '223.139.111.26 07/09 10:53'}]}\n"
          ]
        }
      ],
      "source": [
        "import urllib.request as req\n",
        "import bs4 as bs\n",
        "\n",
        "url = \"https://www.ptt.cc/bbs/Beauty/M.1751962851.A.45A.html\"\n",
        "r = req.Request(url)\n",
        "r.add_header(\"User-Agent\", \"Mozilla/5.0 (Windows NT 10.0; Win64; x64) AppleWebKit/537.36 (KHTML, like Gecko) Chrome/1\")\n",
        "resp = req.urlopen(r)\n",
        "content = resp.read()\n",
        "html = bs.BeautifulSoup(content)\n",
        "# print(html)\n",
        "\n",
        "metas = html.find_all(\"span\", {\"class\":\"article-meta-value\"})\n",
        "author = metas[0]\n",
        "board = metas[1]\n",
        "title = metas[2]\n",
        "post_time = metas[3]\n",
        "push_datas = html.find_all(\"div\", {\"class\":\"push\"})\n",
        "\n",
        "\n",
        "author_text = author.text.strip()\n",
        "board_text = board.text.strip()\n",
        "title_text = title.text.strip()\n",
        "post_time_text = post_time.text.strip()\n",
        "\n",
        "pushes = []\n",
        "for p in push_datas:\n",
        "    push_meta = p.find_all(\"span\")\n",
        "    # extract\n",
        "    push_tag = push_meta[0]\n",
        "    push_uid = push_meta[1]\n",
        "    push_content = push_meta[2]\n",
        "    push_ipdatetime = push_meta[3]\n",
        "    trans = {\"推\":1, \"噓\":-1, \"→\":0}\n",
        "    # text\n",
        "    push_data = {\n",
        "        \"push_tag\":trans[push_tag.text.strip()],\n",
        "        \"push_uid\":push_uid.text.strip(),\n",
        "        \"push_content\":push_content.text.strip().replace(\": \", \"\"),\n",
        "        \"push_ipdatetime\":push_ipdatetime.text.strip()\n",
        "    }\n",
        "    pushes.append(push_data)\n",
        "\n",
        "\n",
        "row = {\n",
        "    \"author\":author_text,\n",
        "    \"board\":board_text,\n",
        "    \"title\":title_text,\n",
        "    \"post_time\":post_time_text,\n",
        "    \"pushes\":pushes,\n",
        "}\n",
        "print(row)"
      ]
    }
  ]
}