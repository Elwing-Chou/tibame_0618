{
  "nbformat": 4,
  "nbformat_minor": 0,
  "metadata": {
    "colab": {
      "provenance": [],
      "authorship_tag": "ABX9TyOio+Tz9LVlZ8KJf398Qtn/",
      "include_colab_link": true
    },
    "kernelspec": {
      "name": "python3",
      "display_name": "Python 3"
    },
    "language_info": {
      "name": "python"
    }
  },
  "cells": [
    {
      "cell_type": "markdown",
      "metadata": {
        "id": "view-in-github",
        "colab_type": "text"
      },
      "source": [
        "<a href=\"https://colab.research.google.com/github/Elwing-Chou/tibame_0618/blob/main/tibame_practice_momo.ipynb\" target=\"_parent\"><img src=\"https://colab.research.google.com/assets/colab-badge.svg\" alt=\"Open In Colab\"/></a>"
      ]
    },
    {
      "cell_type": "code",
      "source": [
        "!pip install dirtyjson"
      ],
      "metadata": {
        "colab": {
          "base_uri": "https://localhost:8080/"
        },
        "id": "kK7tkEF91aY4",
        "outputId": "b4b41ba5-307d-4dfc-a41d-b96922d91ad1"
      },
      "execution_count": 2,
      "outputs": [
        {
          "output_type": "stream",
          "name": "stdout",
          "text": [
            "Collecting dirtyjson\n",
            "  Downloading dirtyjson-1.0.8-py3-none-any.whl.metadata (11 kB)\n",
            "Downloading dirtyjson-1.0.8-py3-none-any.whl (25 kB)\n",
            "Installing collected packages: dirtyjson\n",
            "Successfully installed dirtyjson-1.0.8\n"
          ]
        }
      ]
    },
    {
      "cell_type": "code",
      "execution_count": null,
      "metadata": {
        "id": "l0nBUCq6zK7r"
      },
      "outputs": [],
      "source": [
        "import urllib.request as req\n",
        "import bs4 as bs\n",
        "import json\n",
        "import dirtyjson\n",
        "\n",
        "url = \"https://www.momoshop.com.tw/search/searchShop.jsp?keyword=%E5%90%B9%E9%A2%A8%E6%A9%9F&_isFuzzy=0&searchType=1&cateLevel=0\"\n",
        "resp = req.urlopen(url)\n",
        "html = bs.BeautifulSoup(resp.read())\n",
        "\n",
        "scripts = html.find_all(\"script\")\n",
        "target_script = None\n",
        "for script in scripts:\n",
        "    if \"@type\" in script.text:\n",
        "        target_script = script\n",
        "        break\n",
        "datas = dirtyjson.loads(target_script.text)\n",
        "f = open(\"data.json\", \"w\", encoding=\"utf-8\")\n",
        "json.dump(datas, f, indent=4, ensure_ascii=False)\n",
        "f.close()"
      ]
    },
    {
      "cell_type": "code",
      "source": [
        "import urllib.request as req\n",
        "import bs4 as bs\n",
        "\n",
        "def get_product_info(url):\n",
        "    # url = \"https://www.momoshop.com.tw/goods/GoodsDetail.jsp?i_code=7597129&Area=search&mdiv=403&oid=1_7&cid=index&kw=%E5%90%B9%E9%A2%A8%E6%A9%9F\"\n",
        "    resp = req.urlopen(url)\n",
        "    html = bs.BeautifulSoup(resp.read())\n",
        "\n",
        "    brand = html.find(\"a\", {\"id\":\"webBrand\"})\n",
        "    infos = html.find(\"ul\", {\"id\":\"categoryActivityInfo\"}).find_all(\"li\")\n",
        "    prices = html.find(\"ul\", {\"class\":\"prdPrice\"}).find_all(\"li\")\n",
        "    if len(prices) == 3:\n",
        "        price_original = prices[0].find(\"del\")\n",
        "        price_discount = prices[1].find(\"del\")\n",
        "        price_special = prices[2].find(\"span\")\n",
        "    elif len(prices) == 2:\n",
        "        price_original = prices[0].find(\"del\")\n",
        "        price_discount = prices[1].find(\"span\")\n",
        "        price_special = None\n",
        "    else:\n",
        "        price_original = None\n",
        "        price_discount = prices[0].find(\"span\")\n",
        "        price_special = None\n",
        "\n",
        "\n",
        "    brand_text = brand.text\n",
        "    # price\n",
        "    if not price_original == None:\n",
        "        price_original_text = price_original.text\n",
        "    else:\n",
        "        price_original_text = \"-\"\n",
        "    price_discount_text = price_discount.text\n",
        "    if not price_special == None:\n",
        "        price_special_text = price_special.text\n",
        "    else:\n",
        "        price_special_text = \"-\"\n",
        "    # info\n",
        "    info_text = \"\"\n",
        "    for info in infos:\n",
        "        info_text = info_text + info.text + \"\\n\"\n",
        "\n",
        "    # print(brand_text)\n",
        "    # print(price_original_text)\n",
        "    # print(price_discount_text)\n",
        "    # print(price_special_text)\n",
        "    # print(info_text)\n",
        "\n",
        "    row = {\n",
        "        \"brand\":brand_text,\n",
        "        \"price_original\":price_original_text,\n",
        "        \"price_discount\":price_discount_text,\n",
        "        \"price_special\":price_special_text,\n",
        "        \"goods_info\":info_text,\n",
        "    }\n",
        "    return row"
      ],
      "metadata": {
        "id": "4MkIhUyh8PK8"
      },
      "execution_count": 4,
      "outputs": []
    },
    {
      "cell_type": "code",
      "source": [
        "import urllib.request as req\n",
        "import bs4 as bs\n",
        "import json\n",
        "import dirtyjson\n",
        "import pandas as pd\n",
        "\n",
        "def get_page_products(url):\n",
        "    # url = \"https://www.momoshop.com.tw/search/searchShop.jsp?keyword=%E5%90%B9%E9%A2%A8%E6%A9%9F&_isFuzzy=0&searchType=1&cateLevel=0&curPage=1\"\n",
        "    resp = req.urlopen(url)\n",
        "    html = bs.BeautifulSoup(resp.read())\n",
        "\n",
        "    scripts = html.find_all(\"script\")\n",
        "    target_script = None\n",
        "    for script in scripts:\n",
        "        if \"@type\" in script.text:\n",
        "            target_script = script\n",
        "            break\n",
        "    datas = dirtyjson.loads(target_script.text)\n",
        "\n",
        "    table = []\n",
        "    items = datas[\"mainEntity\"][\"itemListElement\"]\n",
        "    for item in items:\n",
        "        item_name = item[\"name\"]\n",
        "        item_image = item[\"image\"]\n",
        "        item_url = item[\"url\"]\n",
        "        item_price = item[\"offers\"][\"price\"]\n",
        "        print(item_name)\n",
        "        print(item_image)\n",
        "        print(item_url)\n",
        "        print(item_price)\n",
        "        # 你要再進去每個item的url\n",
        "        # 介紹/品牌/三個價格\n",
        "        row = get_product_info(item_url)\n",
        "        row[\"name\"] = item_name\n",
        "        row[\"image\"] = item_image\n",
        "        row[\"url\"] = item_url\n",
        "        table.append(row)\n",
        "    return table\n",
        "\n",
        "\n",
        "\n",
        "total_table = []\n",
        "for i in range(3):\n",
        "    page = i + 1\n",
        "    url = \"https://www.momoshop.com.tw/search/searchShop.jsp?keyword=%E5%90%B9%E9%A2%A8%E6%A9%9F&_isFuzzy=0&searchType=1&cateLevel=0&curPage=\" + str(page)\n",
        "    partial = get_page_products(url)\n",
        "    total_table.extend(partial)\n",
        "df = pd.DataFrame(total_table)\n",
        "df.to_csv(\"momo.csv\", encoding=\"utf-8\")\n"
      ],
      "metadata": {
        "colab": {
          "base_uri": "https://localhost:8080/"
        },
        "id": "iPsJcOCp4Z5N",
        "outputId": "ccacf449-a787-4f37-c842-409a63debe38"
      },
      "execution_count": null,
      "outputs": [
        {
          "output_type": "stream",
          "name": "stdout",
          "text": [
            "【dyson 戴森】HD08 Origin Supersonic 吹風機 溫控 負離子(瑰麗紅色 平裝版)\n",
            "https://img1.momoshop.com.tw/goodsimg/0012/749/140/12749140_OL.jpg?t=1751612057\n",
            "https://www.momoshop.com.tw/goods/GoodsDetail.jsp?i_code=12749140&Area=search&mdiv=403&oid=1_1&cid=index&kw=%E5%90%B9%E9%A2%A8%E6%A9%9F\n",
            "7999\n",
            "【小不記】可折疊高速負離子吹風機 強勁大風量(智能控溫護髮 速乾 附吹風機收納架)\n",
            "https://img1.momoshop.com.tw/goodsimg/0011/977/069/11977069_OL.jpg?t=1744369723\n",
            "https://www.momoshop.com.tw/goods/GoodsDetail.jsp?i_code=11977069&Area=search&mdiv=403&oid=1_2&cid=index&kw=%E5%90%B9%E9%A2%A8%E6%A9%9F\n",
            "555\n",
            "【KINYO】BLDC高速無刷負離子吹風機KH-9688(11萬轉速2億負離子)\n",
            "https://img1.momoshop.com.tw/goodsimg/0013/880/987/13880987_OL.jpg?t=1749099769\n",
            "https://www.momoshop.com.tw/goods/GoodsDetail.jsp?i_code=13880987&Area=search&mdiv=403&oid=1_3&cid=index&kw=%E5%90%B9%E9%A2%A8%E6%A9%9F\n",
            "1680\n",
            "【MIDORI 美多莉】Hypersonic高速負離子吹風機-霧夜金(全配組-不含收納架)\n",
            "https://img1.momoshop.com.tw/goodsimg/0011/280/148/11280148_OL.jpg?t=1735880731\n",
            "https://www.momoshop.com.tw/goods/GoodsDetail.jsp?i_code=11280148&Area=search&mdiv=403&oid=1_4&cid=index&kw=%E5%90%B9%E9%A2%A8%E6%A9%9F\n",
            "1999\n",
            "【TECO 東元】BLDC專業負離子吹風機(XYFXZ003)\n",
            "https://img1.momoshop.com.tw/goodsimg/0013/448/304/13448304_OL.jpg?t=1745989260\n",
            "https://www.momoshop.com.tw/goods/GoodsDetail.jsp?i_code=13448304&Area=search&mdiv=403&oid=1_5&cid=index&kw=%E5%90%B9%E9%A2%A8%E6%A9%9F\n",
            "1990\n",
            "【DIKE】2色可選-Combo全能扇 多功能渦輪暴風扇 吹風、吹塵、露營生火、充氣(DUF330)\n",
            "https://img1.momoshop.com.tw/goodsimg/0012/779/946/12779946_OL.jpg?t=1742878970\n",
            "https://www.momoshop.com.tw/goods/GoodsDetail.jsp?i_code=12779946&Area=search&mdiv=403&oid=1_6&cid=index&kw=%E5%90%B9%E9%A2%A8%E6%A9%9F\n",
            "891\n",
            "【Panasonic 國際牌】奈米水離子吹風機(EH-NA27-W)\n",
            "https://img1.momoshop.com.tw/goodsimg/0007/597/129/7597129_OL.jpg?t=1744693376\n",
            "https://www.momoshop.com.tw/goods/GoodsDetail.jsp?i_code=7597129&Area=search&mdiv=403&oid=1_7&cid=index&kw=%E5%90%B9%E9%A2%A8%E6%A9%9F\n",
            "1599\n",
            "【MIDORI 美多莉】Hypersonic高速負離子吹風機-霧夜金(全配組-不含收納架)\n",
            "https://img1.momoshop.com.tw/goodsimg/0011/280/148/11280148_OL.jpg?t=1735880731\n",
            "https://www.momoshop.com.tw/goods/GoodsDetail.jsp?i_code=11280148&Area=search&mdiv=403&oid=1_8&cid=index&kw=%E5%90%B9%E9%A2%A8%E6%A9%9F\n",
            "1999\n",
            "【KINYO】全球電壓無刷吹風機(全球電壓/四億負離子 KH-9660)\n",
            "https://img1.momoshop.com.tw/goodsimg/0013/624/424/13624424_OL.jpg?t=1736571768\n",
            "https://www.momoshop.com.tw/goods/GoodsDetail.jsp?i_code=13624424&Area=search&mdiv=403&oid=1_9&cid=index&kw=%E5%90%B9%E9%A2%A8%E6%A9%9F\n",
            "2780\n",
            "【Panasonic 國際牌】高速馬達負離子吹風機(EH-NE6M)\n",
            "https://img1.momoshop.com.tw/goodsimg/0014/025/637/14025637_OL.jpg?t=1747402946\n",
            "https://www.momoshop.com.tw/goods/GoodsDetail.jsp?i_code=14025637&Area=search&mdiv=403&oid=1_10&cid=index&kw=%E5%90%B9%E9%A2%A8%E6%A9%9F\n",
            "2399\n",
            "【Panasonic 國際牌】高速馬達吹風機-奶茶(EH-NE6M-C)\n",
            "https://img1.momoshop.com.tw/goodsimg/0013/516/155/13516155_OL.jpg?t=1735707777\n",
            "https://www.momoshop.com.tw/goods/GoodsDetail.jsp?i_code=13516155&Area=search&mdiv=403&oid=1_11&cid=index&kw=%E5%90%B9%E9%A2%A8%E6%A9%9F\n",
            "2399\n",
            "【小米官方旗艦館】Xiaomi 負離子高速吹風機\n",
            "https://img1.momoshop.com.tw/goodsimg/0013/428/088/13428088_OL.jpg?t=1744434159\n",
            "https://www.momoshop.com.tw/goods/GoodsDetail.jsp?i_code=13428088&Area=search&mdiv=403&oid=1_12&cid=index&kw=%E5%90%B9%E9%A2%A8%E6%A9%9F\n",
            "1295\n",
            "【Panasonic 國際牌】奈米水離子吹風機(EH-NA27-PP)\n",
            "https://img1.momoshop.com.tw/goodsimg/0007/597/128/7597128_OL.jpg?t=1744693376\n",
            "https://www.momoshop.com.tw/goods/GoodsDetail.jsp?i_code=7597128&Area=search&mdiv=403&oid=1_13&cid=index&kw=%E5%90%B9%E9%A2%A8%E6%A9%9F\n",
            "1599\n",
            "【Dreame 追覓科技】Pocket Uni 魔術折疊高速吹風機(100-240V國際電壓版)\n",
            "https://img1.momoshop.com.tw/goodsimg/0014/037/604/14037604_OL.jpg?t=1747823583\n",
            "https://www.momoshop.com.tw/goods/GoodsDetail.jsp?i_code=14037604&Area=search&mdiv=403&oid=1_14&cid=index&kw=%E5%90%B9%E9%A2%A8%E6%A9%9F\n",
            "4980\n",
            "【SOLAC】專業負離子吹風機  白/紫/灰/粉 色(SD-1000)\n",
            "https://img1.momoshop.com.tw/goodsimg/0009/360/000/9360000_OL.jpg?t=1737538813\n",
            "https://www.momoshop.com.tw/goods/GoodsDetail.jsp?i_code=9360000&Area=search&mdiv=403&oid=1_15&cid=index&kw=%E5%90%B9%E9%A2%A8%E6%A9%9F\n",
            "3499\n",
            "【Panasonic 國際牌】奈米水離子吹風機-搭載捲髮定型烘罩(EH-NA9L-RP)\n",
            "https://img1.momoshop.com.tw/goodsimg/0010/567/753/10567753_OL.jpg?t=1744693421\n",
            "https://www.momoshop.com.tw/goods/GoodsDetail.jsp?i_code=10567753&Area=search&mdiv=403&oid=1_16&cid=index&kw=%E5%90%B9%E9%A2%A8%E6%A9%9F\n",
            "4199\n"
          ]
        }
      ]
    }
  ]
}