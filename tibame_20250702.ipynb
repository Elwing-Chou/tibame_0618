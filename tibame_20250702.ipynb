{
  "nbformat": 4,
  "nbformat_minor": 0,
  "metadata": {
    "colab": {
      "provenance": [],
      "authorship_tag": "ABX9TyNoF98uBlWg1eb7um+VTRnc",
      "include_colab_link": true
    },
    "kernelspec": {
      "name": "python3",
      "display_name": "Python 3"
    },
    "language_info": {
      "name": "python"
    }
  },
  "cells": [
    {
      "cell_type": "markdown",
      "metadata": {
        "id": "view-in-github",
        "colab_type": "text"
      },
      "source": [
        "<a href=\"https://colab.research.google.com/github/Elwing-Chou/tibame_0618/blob/main/tibame_20250702.ipynb\" target=\"_parent\"><img src=\"https://colab.research.google.com/assets/colab-badge.svg\" alt=\"Open In Colab\"/></a>"
      ]
    },
    {
      "cell_type": "code",
      "execution_count": null,
      "metadata": {
        "id": "vOImxToHzCJJ"
      },
      "outputs": [],
      "source": []
    },
    {
      "cell_type": "markdown",
      "source": [
        "\n",
        "\n",
        "```\n",
        "HTML格式\n",
        "- 由很多長方形(區塊)構成\n",
        "\n",
        "<a href=\"xxx\"> -> start\n",
        "    店名\n",
        "</a> -> end\n",
        "\n",
        "1. 名字: 決定區塊用途\n",
        "a: 超連結  img: 圖片  video: 影片\n",
        "\n",
        "2. 屬性: 決定對應名字區塊細節(名=\"直\")\n",
        "a href=\"網址\"\n",
        "img/video src=\"網址\"\n",
        "\n",
        "3. 顯示文字\n",
        "\n",
        "\n",
        "前端\n",
        "1. 把回應呈現給你看\n",
        "a. HTML: 內容(o)\n",
        "b. CSS: 幫你把HTML做排版(o)\n",
        "c. JavaScript: 幫你處理網頁的動態(x)\n",
        "\n",
        "後端(ngrok+FastAPI):\n",
        "1. 接收網址\n",
        "2. 處理網址(查詢資料庫....)\n",
        "3. 送回回應\n",
        "\n",
        "\n",
        "CSS語法: 定位區塊 加上排版\n",
        "1. 針對HTML名字做定位\n",
        "a{\n",
        "    background-color:pink\n",
        "}\n",
        "\n",
        "2. 特別HTML排版屬性\n",
        "class=\"分類1 分類2 分類32\"\n",
        ".分類1{\n",
        "\n",
        "}\n",
        "\n",
        "e.g.\n",
        ".js-thumbnail-img{\n",
        "    border-radius:50%\n",
        "}\n",
        "\n",
        "3. 排版屬性\n",
        "id=\"不重複的職\"\n",
        "#id{\n",
        "\n",
        "}\n",
        "\n",
        "```\n",
        "\n"
      ],
      "metadata": {
        "id": "HKtOt0t4zEnS"
      }
    },
    {
      "cell_type": "code",
      "source": [
        "# https://tabelog.com/tw/tokyo/rstLst/sweets/?SrtT=rt\n",
        "# https://tabelog.com/tw/tokyo/rstLst/sweets/2/?SrtT=rt\n",
        "import urllib.request as req\n",
        "# BeautifulSoup4\n",
        "import bs4 as bs\n",
        "\n",
        "url = \"https://tabelog.com/tw/tokyo/rstLst/sweets/1/?SrtT=rt\"\n",
        "resp = req.urlopen(url)\n",
        "content = resp.read()\n",
        "html = bs.BeautifulSoup(content)\n",
        "# 區塊.find .find_all(html名字, 字典)\n",
        "target = html.find(\"a\", {\"class\":\"list-rst__rst-name-target\"})\n",
        "# 找到目鏢\n",
        "# 1. 特殊屬性: 區塊[\"屬姓名\"]\n",
        "# 2. 顯示文字: 型態.直 區塊.text\n",
        "print(target[\"href\"])\n",
        "print(target.text)"
      ],
      "metadata": {
        "colab": {
          "base_uri": "https://localhost:8080/"
        },
        "id": "daLY3CIaKBfj",
        "outputId": "e70fd926-650d-4c89-8531-d3cdbc2fd447"
      },
      "execution_count": 18,
      "outputs": [
        {
          "output_type": "stream",
          "name": "stdout",
          "text": [
            "https://tabelog.com/tw/tokyo/A1304/A130401/13184186/\n",
            "Bon.nu\n"
          ]
        }
      ]
    },
    {
      "cell_type": "code",
      "source": [
        "# 專屬功能/專屬直\n",
        "# 解決問題: 不要一職重複去定義字典來表示那個複雜的東西\n",
        "# !!!! 物件(型態)導向: 自訂型態\n",
        "# Everything is an object: 每個東西都該有形態\n",
        "\n",
        "def add(n1, n2):\n",
        "    return n1 + n2\n",
        "\n",
        "class Student:\n",
        "\n",
        "    def __init__(self, h, w):\n",
        "        self.height = h\n",
        "        self.weight = w\n",
        "\n",
        "    def bmi_sp(self):\n",
        "        return self.weight / self.height\n",
        "\n",
        "# 偷跑了一個__init__這個專屬功能\n",
        "s1 = Student(180, 77)\n",
        "# 專屬值\n",
        "# def set_student(s, h, w):\n",
        "#     s.height = h\n",
        "#     s.weight = w\n",
        "# set_student(s1, 180, 77)\n",
        "# s1.set_student(180, 77)\n",
        "\n",
        "# def bmi(s):\n",
        "#     return s.weight / s.height\n",
        "# bmi(s1)\n",
        "\n",
        "s1.bmi_sp()"
      ],
      "metadata": {
        "colab": {
          "base_uri": "https://localhost:8080/"
        },
        "id": "SFm8pRm90ZMt",
        "outputId": "24a2bec3-a3c2-4bcd-9feb-a270b4c0c1ba"
      },
      "execution_count": 32,
      "outputs": [
        {
          "output_type": "execute_result",
          "data": {
            "text/plain": [
              "0.42777777777777776"
            ]
          },
          "metadata": {},
          "execution_count": 32
        }
      ]
    },
    {
      "cell_type": "code",
      "source": [
        "class Student:\n",
        "\n",
        "    def __init__(self, h, w):\n",
        "        self.height = h\n",
        "        self.weight = w\n",
        "\n",
        "    def bmi_sp(self):\n",
        "        return self.weight / self.height\n",
        "\n",
        "    def __add__(self, other):\n",
        "        newh = (self.height + other.height) / 2.0\n",
        "        neww = (self.weight + other.weight) / 2.0\n",
        "        return Student(newh, neww)\n",
        "\n",
        "\n",
        "s1 = Student(180, 77)\n",
        "s1.bmi_sp()\n",
        "s2 = Student(190, 80)\n",
        "\n",
        "# s1.__add__(s2)\n",
        "s3 = s1 + s2\n",
        "print(s3.weight)"
      ],
      "metadata": {
        "colab": {
          "base_uri": "https://localhost:8080/"
        },
        "id": "mgJ4SESH7vpw",
        "outputId": "916b271a-15e1-43f1-d2fd-21acfb065fbf"
      },
      "execution_count": 34,
      "outputs": [
        {
          "output_type": "stream",
          "name": "stdout",
          "text": [
            "78.5\n"
          ]
        }
      ]
    },
    {
      "cell_type": "code",
      "source": [
        "import urllib.request as req\n",
        "import bs4 as bs\n",
        "\n",
        "url = \"https://tabelog.com/tw/tokyo/rstLst/sweets/1/?SrtT=rt\"\n",
        "resp = req.urlopen(url)\n",
        "content = resp.read()\n",
        "html = bs.BeautifulSoup(content)\n",
        "\n",
        "rs = html.find_all(\"div\", {\"class\":\"list-rst__body\"})\n",
        "for r in rs:\n",
        "    en = r.find(\"a\", {\"class\":\"list-rst__rst-name-target\"})\n",
        "    en_href = en[\"href\"]\n",
        "    en_text = en.text\n",
        "    print(en_text)\n",
        "    print(en_href)\n",
        "    print(\"-\" * 30)"
      ],
      "metadata": {
        "colab": {
          "base_uri": "https://localhost:8080/"
        },
        "id": "C-7le0CAA8kV",
        "outputId": "a14127b5-d121-4d6b-ddd9-f005f21e28b5"
      },
      "execution_count": 46,
      "outputs": [
        {
          "output_type": "stream",
          "name": "stdout",
          "text": [
            "Bon.nu\n",
            "https://tabelog.com/tw/tokyo/A1304/A130401/13184186/\n",
            "------------------------------\n",
            "AIGRE DOUCE\n",
            "https://tabelog.com/tw/tokyo/A1305/A130502/13005641/\n",
            "------------------------------\n",
            "a tes souhaits!\n",
            "https://tabelog.com/tw/tokyo/A1320/A132001/13005853/\n",
            "------------------------------\n",
            "L'Atelier à Ma Façon\n",
            "https://tabelog.com/tw/tokyo/A1317/A131715/13242556/\n",
            "------------------------------\n",
            "Patisserie Ryoko\n",
            "https://tabelog.com/tw/tokyo/A1316/A131603/13137010/\n",
            "------------------------------\n",
            "GELATERIA ACQUOLINA\n",
            "https://tabelog.com/tw/tokyo/A1317/A131701/13141364/\n",
            "------------------------------\n",
            "Ikkou An\n",
            "https://tabelog.com/tw/tokyo/A1323/A132302/13005076/\n",
            "------------------------------\n",
            "Frederic Cassel Ginza Mitsukoshi Ten\n",
            "https://tabelog.com/tw/tokyo/A1301/A130101/13116839/\n",
            "------------------------------\n",
            "Avranches Guesnay\n",
            "https://tabelog.com/tw/tokyo/A1310/A131004/13186450/\n",
            "------------------------------\n",
            "patisserie Paris S'eveille\n",
            "https://tabelog.com/tw/tokyo/A1317/A131703/13005198/\n",
            "------------------------------\n",
            "Au Bon Vieux Temps Oyamadai Ten\n",
            "https://tabelog.com/tw/tokyo/A1317/A131715/13181654/\n",
            "------------------------------\n",
            "Ryoura\n",
            "https://tabelog.com/tw/tokyo/A1317/A131707/13188208/\n",
            "------------------------------\n",
            "patisserie K.ViNCENT\n",
            "https://tabelog.com/tw/tokyo/A1309/A130905/13035194/\n",
            "------------------------------\n",
            "Nihonbashi Nagato\n",
            "https://tabelog.com/tw/tokyo/A1302/A130202/13011481/\n",
            "------------------------------\n",
            "Think\n",
            "https://tabelog.com/tw/tokyo/A1311/A131105/13283557/\n",
            "------------------------------\n",
            "Patisserie Yu Sasage\n",
            "https://tabelog.com/tw/tokyo/A1318/A131809/13155662/\n",
            "------------------------------\n",
            "Okashiya Ucchi\n",
            "https://tabelog.com/tw/tokyo/A1309/A130901/13238644/\n",
            "------------------------------\n",
            "LESS by Gabriele Riva & Kanako Sakakura\n",
            "https://tabelog.com/tw/tokyo/A1303/A130302/13274859/\n",
            "------------------------------\n",
            "ASTERISQUE\n",
            "https://tabelog.com/tw/tokyo/A1318/A131811/13140735/\n",
            "------------------------------\n",
            "Curry Spice Gelateria KALPASI\n",
            "https://tabelog.com/tw/tokyo/A1318/A131802/13247887/\n",
            "------------------------------\n"
          ]
        }
      ]
    }
  ]
}