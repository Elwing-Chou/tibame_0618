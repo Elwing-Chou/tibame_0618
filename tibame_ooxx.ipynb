{
  "nbformat": 4,
  "nbformat_minor": 0,
  "metadata": {
    "colab": {
      "provenance": [],
      "authorship_tag": "ABX9TyOmfO8V3HO1iC2n5csC0+Or",
      "include_colab_link": true
    },
    "kernelspec": {
      "name": "python3",
      "display_name": "Python 3"
    },
    "language_info": {
      "name": "python"
    }
  },
  "cells": [
    {
      "cell_type": "markdown",
      "metadata": {
        "id": "view-in-github",
        "colab_type": "text"
      },
      "source": [
        "<a href=\"https://colab.research.google.com/github/Elwing-Chou/tibame_0618/blob/main/tibame_ooxx.ipynb\" target=\"_parent\"><img src=\"https://colab.research.google.com/assets/colab-badge.svg\" alt=\"Open In Colab\"/></a>"
      ]
    },
    {
      "cell_type": "markdown",
      "source": [
        "\n",
        "\n",
        "```\n",
        "1. 落子: 1  2\n",
        "2. 判斷輸贏\n",
        "\n",
        "\n",
        "```\n",
        "\n"
      ],
      "metadata": {
        "id": "i_UcHrpGPw9L"
      }
    },
    {
      "cell_type": "code",
      "execution_count": 3,
      "metadata": {
        "colab": {
          "base_uri": "https://localhost:8080/"
        },
        "id": "tSxuPm9FPqYc",
        "outputId": "8bfed708-5dd3-428d-d973-1828a6ca4689"
      },
      "outputs": [
        {
          "output_type": "execute_result",
          "data": {
            "text/plain": [
              "2.2"
            ]
          },
          "metadata": {},
          "execution_count": 3
        }
      ],
      "source": [
        "test = [\n",
        "    [2.1, 2.2],\n",
        "    [3.1, 3.2],\n",
        "    [4.1, 4.2]\n",
        "]\n",
        "test[0][1]"
      ]
    },
    {
      "cell_type": "code",
      "source": [
        "# 優點: 擴充性\n",
        "board = [\n",
        "    [1, 1, 1],\n",
        "    [2, 2, 2],\n",
        "    [0, 0, 0]\n",
        "]\n",
        "#\n",
        "i = 0\n",
        "while i < 3:\n",
        "    first = board[i][0]\n",
        "    # 如果有下\n",
        "    if not first == 0:\n",
        "        # check 01 02\n",
        "        winner = True\n",
        "        j = 0\n",
        "        while j < 3:\n",
        "            pos = board[i][j]\n",
        "            if not pos == first:\n",
        "                winner = False\n",
        "            j = j + 1\n",
        "        if winner == True:\n",
        "            print(i, \"win\")\n",
        "    i = i + 1"
      ],
      "metadata": {
        "colab": {
          "base_uri": "https://localhost:8080/"
        },
        "id": "JVHbsJ93Rpk3",
        "outputId": "26ea211f-e038-4c1a-b964-6d19ae320ec0"
      },
      "execution_count": 7,
      "outputs": [
        {
          "output_type": "stream",
          "name": "stdout",
          "text": [
            "0 win\n",
            "1 win\n"
          ]
        }
      ]
    },
    {
      "cell_type": "code",
      "source": [
        "# 優點:可讀性\n",
        "# 我選了這個\n",
        "board = [\n",
        "    [1, 1, 1],\n",
        "    [2, 2, 2],\n",
        "    [0, 0, 0]\n",
        "]\n",
        "\n",
        "i = 0\n",
        "while i < 3:\n",
        "    if not board[i][0] == 0:\n",
        "        if board[i][0] == board[i][1] == board[i][2]:\n",
        "            print(i, \"win\")\n",
        "    i = i + 1"
      ],
      "metadata": {
        "colab": {
          "base_uri": "https://localhost:8080/"
        },
        "id": "2BZIeVVXUhGp",
        "outputId": "89921890-fab6-45d0-fa9b-0c097ad1d34a"
      },
      "execution_count": 9,
      "outputs": [
        {
          "output_type": "stream",
          "name": "stdout",
          "text": [
            "0 win\n",
            "1 win\n"
          ]
        }
      ]
    }
  ]
}