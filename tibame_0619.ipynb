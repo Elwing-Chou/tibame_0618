{
  "nbformat": 4,
  "nbformat_minor": 0,
  "metadata": {
    "colab": {
      "provenance": [],
      "authorship_tag": "ABX9TyOiVwBpI+4k2r/5KsJXMxON",
      "include_colab_link": true
    },
    "kernelspec": {
      "name": "python3",
      "display_name": "Python 3"
    },
    "language_info": {
      "name": "python"
    }
  },
  "cells": [
    {
      "cell_type": "markdown",
      "metadata": {
        "id": "view-in-github",
        "colab_type": "text"
      },
      "source": [
        "<a href=\"https://colab.research.google.com/github/Elwing-Chou/tibame_0618/blob/main/tibame_0619.ipynb\" target=\"_parent\"><img src=\"https://colab.research.google.com/assets/colab-badge.svg\" alt=\"Open In Colab\"/></a>"
      ]
    },
    {
      "cell_type": "markdown",
      "source": [
        "\n",
        "\n",
        "```\n",
        "迴圈的累積\n",
        "- 你發覺你在做事情的時候需要記得東西\n",
        "  就準備一組名字=值在迴圈的外面\n",
        "\n",
        "```\n",
        "\n"
      ],
      "metadata": {
        "id": "U0PUg4kew40E"
      }
    },
    {
      "cell_type": "code",
      "execution_count": null,
      "metadata": {
        "id": "EskhES-Ow1Wv"
      },
      "outputs": [],
      "source": [
        "total = 0\n",
        "i = 0\n",
        "while i < 10:\n",
        "    total = total + (i + 1)\n",
        "    print(total)\n",
        "    i = i + 1\n",
        "print(\"!!!!!\")"
      ]
    },
    {
      "cell_type": "code",
      "source": [
        "a = 798\n",
        "b = 8\n",
        "total = 0\n",
        "\n",
        "a_str = str(a)\n",
        "i = 0\n",
        "while i < len(a_str):\n",
        "    n = int(a_str[len(a_str)-i-1])\n",
        "    temp = (b * n) * (10 ** i)\n",
        "    total = total + temp\n",
        "    i = i + 1\n",
        "print(total)"
      ],
      "metadata": {
        "colab": {
          "base_uri": "https://localhost:8080/"
        },
        "id": "PcYxhHJkzmmI",
        "outputId": "30301db3-1fdf-46f0-aaa6-c081e0194a21"
      },
      "execution_count": 18,
      "outputs": [
        {
          "output_type": "stream",
          "name": "stdout",
          "text": [
            "6384\n"
          ]
        }
      ]
    },
    {
      "cell_type": "code",
      "source": [
        "# 看看就好\n",
        "a = 798\n",
        "b = 928\n",
        "total = 0\n",
        "\n",
        "a_str = str(a)\n",
        "b_str = str(b)\n",
        "\n",
        "j = 0\n",
        "while j < len(b_str):\n",
        "    b_n = int(b_str[len(b_str)-j-1])\n",
        "    temp_total = 0\n",
        "    i = 0\n",
        "    while i < len(a_str):\n",
        "        a_n = int(a_str[len(a_str)-i-1])\n",
        "        temp = (b_n * a_n) * (10 ** i)\n",
        "        temp_total = temp_total + temp\n",
        "        i = i + 1\n",
        "    print(temp_total)\n",
        "    total = total + temp_total * (10 ** j)\n",
        "    j = j + 1\n",
        "print(total)"
      ],
      "metadata": {
        "colab": {
          "base_uri": "https://localhost:8080/"
        },
        "id": "aTPUjHkk7EhV",
        "outputId": "14441eca-50a9-4a9f-c848-946b2dcaa5dc"
      },
      "execution_count": 22,
      "outputs": [
        {
          "output_type": "stream",
          "name": "stdout",
          "text": [
            "6384\n",
            "1596\n",
            "7182\n",
            "740544\n"
          ]
        }
      ]
    },
    {
      "cell_type": "code",
      "source": [
        "10 ** 0"
      ],
      "metadata": {
        "colab": {
          "base_uri": "https://localhost:8080/"
        },
        "id": "7l88dCzF0PDG",
        "outputId": "39cfdcd1-dc10-4935-ab5f-76d6ebf2bd52"
      },
      "execution_count": 7,
      "outputs": [
        {
          "output_type": "execute_result",
          "data": {
            "text/plain": [
              "1"
            ]
          },
          "metadata": {},
          "execution_count": 7
        }
      ]
    },
    {
      "cell_type": "code",
      "source": [
        "# 回傳值: 做完這個功能得到的\"新的\"回覆\n",
        "# 功能你要注意的就是\"參數\" 和 \"回傳值\"\n",
        "a = 4.2\n",
        "b = int(a)\n",
        "print(a)\n",
        "a = int(a)"
      ],
      "metadata": {
        "colab": {
          "base_uri": "https://localhost:8080/"
        },
        "id": "LQorWCdG0dOQ",
        "outputId": "d9ef3be2-8287-4002-dda1-f2b86007d476"
      },
      "execution_count": 10,
      "outputs": [
        {
          "output_type": "stream",
          "name": "stdout",
          "text": [
            "4.2\n"
          ]
        }
      ]
    },
    {
      "cell_type": "code",
      "source": [
        "a = 328\n",
        "a_str = str(a)\n",
        "i = 0\n",
        "a_str[len(a_str)-i-1]"
      ],
      "metadata": {
        "id": "yWCJBJLg1VWz"
      },
      "execution_count": null,
      "outputs": []
    },
    {
      "cell_type": "code",
      "source": [
        "!pip install ColabTurtle"
      ],
      "metadata": {
        "id": "dpEoi-GABYuS"
      },
      "execution_count": null,
      "outputs": []
    },
    {
      "cell_type": "code",
      "source": [
        "from ColabTurtle.Turtle import *\n",
        "\n",
        "initializeTurtle()\n",
        "# hideturtle()\n",
        "speed(10)\n",
        "forward(100)\n",
        "left(90)\n",
        "backward(100)\n",
        "right(90)\n",
        "\n",
        "# 決定要不要畫\n",
        "penup()\n",
        "forward(20)\n",
        "pendown()\n",
        "forward(20)\n",
        "\n",
        "p = pos()\n",
        "print(p)\n",
        "# (0, 0)在左上角, 往右增加, 往下增加\n",
        "print(p[0])\n",
        "print(p[1])\n",
        "goto(0, 0)"
      ],
      "metadata": {
        "colab": {
          "base_uri": "https://localhost:8080/",
          "height": 573
        },
        "id": "DPyam953B4qt",
        "outputId": "7c4d3b7d-47e6-43a5-d9ed-03a2682ef737"
      },
      "execution_count": 36,
      "outputs": [
        {
          "output_type": "display_data",
          "data": {
            "text/plain": [
              "<IPython.core.display.HTML object>"
            ],
            "text/html": [
              "\n",
              "      <svg width=\"800\" height=\"500\">\n",
              "        <rect width=\"100%\" height=\"100%\" fill=\"black\"/>\n",
              "        <line x1=\"400\" y1=\"250\" x2=\"400.0\" y2=\"150.0\" stroke-linecap=\"round\" style=\"stroke:white;stroke-width:4\"/><line x1=\"400.0\" y1=\"150.0\" x2=\"500.0\" y2=\"150.0\" stroke-linecap=\"round\" style=\"stroke:white;stroke-width:4\"/><line x1=\"500.0\" y1=\"130.0\" x2=\"500.0\" y2=\"110.0\" stroke-linecap=\"round\" style=\"stroke:white;stroke-width:4\"/><line x1=\"500.0\" y1=\"110.0\" x2=\"0\" y2=\"0\" stroke-linecap=\"round\" style=\"stroke:white;stroke-width:4\"/>\n",
              "        <g visibility=visible transform=\"rotate(360,0,0) translate(-18, -18)\">\n",
              "<path style=\" stroke:none;fill-rule:evenodd;fill:white;fill-opacity:1;\" d=\"M 18.214844 0.632812 C 16.109375 1.800781 15.011719 4.074219 15.074219 7.132812 L 15.085938 7.652344 L 14.785156 7.496094 C 13.476562 6.824219 11.957031 6.671875 10.40625 7.066406 C 8.46875 7.550781 6.515625 9.15625 4.394531 11.992188 C 3.0625 13.777344 2.679688 14.636719 3.042969 15.027344 L 3.15625 15.152344 L 3.519531 15.152344 C 4.238281 15.152344 4.828125 14.886719 8.1875 13.039062 C 9.386719 12.378906 10.371094 11.839844 10.378906 11.839844 C 10.386719 11.839844 10.355469 11.929688 10.304688 12.035156 C 9.832031 13.09375 9.257812 14.820312 8.96875 16.078125 C 7.914062 20.652344 8.617188 24.53125 11.070312 27.660156 C 11.351562 28.015625 11.363281 27.914062 10.972656 28.382812 C 8.925781 30.84375 7.945312 33.28125 8.238281 35.1875 C 8.289062 35.527344 8.28125 35.523438 8.917969 35.523438 C 10.941406 35.523438 13.074219 34.207031 15.136719 31.6875 C 15.359375 31.417969 15.328125 31.425781 15.5625 31.574219 C 16.292969 32.042969 18.023438 32.964844 18.175781 32.964844 C 18.335938 32.964844 19.941406 32.210938 20.828125 31.71875 C 20.996094 31.625 21.136719 31.554688 21.136719 31.558594 C 21.203125 31.664062 21.898438 32.414062 22.222656 32.730469 C 23.835938 34.300781 25.5625 35.132812 27.582031 35.300781 C 27.90625 35.328125 27.9375 35.308594 28.007812 34.984375 C 28.382812 33.242188 27.625 30.925781 25.863281 28.425781 L 25.542969 27.96875 L 25.699219 27.785156 C 28.945312 23.960938 29.132812 18.699219 26.257812 11.96875 L 26.207031 11.84375 L 27.945312 12.703125 C 31.53125 14.476562 32.316406 14.800781 33.03125 14.800781 C 33.976562 14.800781 33.78125 13.9375 32.472656 12.292969 C 28.519531 7.355469 25.394531 5.925781 21.921875 7.472656 L 21.558594 7.636719 L 21.578125 7.542969 C 21.699219 6.992188 21.761719 5.742188 21.699219 5.164062 C 21.496094 3.296875 20.664062 1.964844 19.003906 0.855469 C 18.480469 0.503906 18.457031 0.5 18.214844 0.632812\"/>\n",
              "</g>\n",
              "      </svg>\n",
              "    "
            ]
          },
          "metadata": {}
        },
        {
          "output_type": "stream",
          "name": "stdout",
          "text": [
            "(500.0, 110.0)\n",
            "500.0\n",
            "110.0\n"
          ]
        }
      ]
    },
    {
      "cell_type": "code",
      "source": [
        "initializeTurtle()\n",
        "\n",
        "i = 0\n",
        "while i < 4:\n",
        "    forward(50)\n",
        "    right(90)\n",
        "    i = i + 1"
      ],
      "metadata": {
        "id": "LhcHlte-EFfE"
      },
      "execution_count": null,
      "outputs": []
    },
    {
      "cell_type": "markdown",
      "source": [
        "\n",
        "\n",
        "```\n",
        "import .py名\n",
        "import後面照抄.(的)\n",
        "\n",
        "快捷鍵: ctrl + / 某些編輯器 ctrl + #\n",
        "\n",
        "```\n",
        "\n"
      ],
      "metadata": {
        "id": "tcgEkD3ZG2H9"
      }
    },
    {
      "cell_type": "code",
      "source": [
        "import math\n",
        "\n",
        "initializeTurtle()\n",
        "speed(8)\n",
        "radius = 100\n",
        "n = 100\n",
        "\n",
        "mid_angle = 360 / n\n",
        "other_angle_deg = (180 - mid_angle) / 2\n",
        "other_angle_rad = math.radians(other_angle_deg)\n",
        "width = 2 * radius * math.cos(other_angle_rad)\n",
        "\n",
        "\n",
        "# 放到起始點\n",
        "penup()\n",
        "forward(radius)\n",
        "pendown()\n",
        "right(180-other_angle_deg)\n",
        "i = 0\n",
        "while i < n:\n",
        "    # 開始走\n",
        "    forward(width)\n",
        "    right(mid_angle)\n",
        "    i = i + 1\n"
      ],
      "metadata": {
        "colab": {
          "base_uri": "https://localhost:8080/",
          "height": 521
        },
        "id": "GIrkgR50GcLl",
        "outputId": "cd2327b8-ee95-4559-b180-9ad1727e7475"
      },
      "execution_count": 47,
      "outputs": [
        {
          "output_type": "display_data",
          "data": {
            "text/plain": [
              "<IPython.core.display.HTML object>"
            ],
            "text/html": [
              "\n",
              "      <svg width=\"800\" height=\"500\">\n",
              "        <rect width=\"100%\" height=\"100%\" fill=\"black\"/>\n",
              "        <line x1=\"400.0\" y1=\"150.0\" x2=\"406.279\" y2=\"150.197\" stroke-linecap=\"round\" style=\"stroke:white;stroke-width:4\"/><line x1=\"406.279\" y1=\"150.197\" x2=\"412.533\" y2=\"150.788\" stroke-linecap=\"round\" style=\"stroke:white;stroke-width:4\"/><line x1=\"412.533\" y1=\"150.788\" x2=\"418.738\" y2=\"151.771\" stroke-linecap=\"round\" style=\"stroke:white;stroke-width:4\"/><line x1=\"418.738\" y1=\"151.771\" x2=\"424.869\" y2=\"153.141\" stroke-linecap=\"round\" style=\"stroke:white;stroke-width:4\"/><line x1=\"424.869\" y1=\"153.141\" x2=\"430.902\" y2=\"154.894\" stroke-linecap=\"round\" style=\"stroke:white;stroke-width:4\"/><line x1=\"430.902\" y1=\"154.894\" x2=\"436.813\" y2=\"157.022\" stroke-linecap=\"round\" style=\"stroke:white;stroke-width:4\"/><line x1=\"436.813\" y1=\"157.022\" x2=\"442.578\" y2=\"159.517\" stroke-linecap=\"round\" style=\"stroke:white;stroke-width:4\"/><line x1=\"442.578\" y1=\"159.517\" x2=\"448.175\" y2=\"162.369\" stroke-linecap=\"round\" style=\"stroke:white;stroke-width:4\"/><line x1=\"448.175\" y1=\"162.369\" x2=\"453.582\" y2=\"165.567\" stroke-linecap=\"round\" style=\"stroke:white;stroke-width:4\"/><line x1=\"453.582\" y1=\"165.567\" x2=\"458.778\" y2=\"169.098\" stroke-linecap=\"round\" style=\"stroke:white;stroke-width:4\"/><line x1=\"458.778\" y1=\"169.098\" x2=\"463.742\" y2=\"172.948\" stroke-linecap=\"round\" style=\"stroke:white;stroke-width:4\"/><line x1=\"463.742\" y1=\"172.948\" x2=\"468.454\" y2=\"177.102\" stroke-linecap=\"round\" style=\"stroke:white;stroke-width:4\"/><line x1=\"468.454\" y1=\"177.102\" x2=\"472.896\" y2=\"181.544\" stroke-linecap=\"round\" style=\"stroke:white;stroke-width:4\"/><line x1=\"472.896\" y1=\"181.544\" x2=\"477.05\" y2=\"186.256\" stroke-linecap=\"round\" style=\"stroke:white;stroke-width:4\"/><line x1=\"477.05\" y1=\"186.256\" x2=\"480.9\" y2=\"191.22\" stroke-linecap=\"round\" style=\"stroke:white;stroke-width:4\"/><line x1=\"480.9\" y1=\"191.22\" x2=\"484.431\" y2=\"196.416\" stroke-linecap=\"round\" style=\"stroke:white;stroke-width:4\"/><line x1=\"484.431\" y1=\"196.416\" x2=\"487.629\" y2=\"201.823\" stroke-linecap=\"round\" style=\"stroke:white;stroke-width:4\"/><line x1=\"487.629\" y1=\"201.823\" x2=\"490.481\" y2=\"207.42\" stroke-linecap=\"round\" style=\"stroke:white;stroke-width:4\"/><line x1=\"490.481\" y1=\"207.42\" x2=\"492.976\" y2=\"213.185\" stroke-linecap=\"round\" style=\"stroke:white;stroke-width:4\"/><line x1=\"492.976\" y1=\"213.185\" x2=\"495.104\" y2=\"219.096\" stroke-linecap=\"round\" style=\"stroke:white;stroke-width:4\"/><line x1=\"495.104\" y1=\"219.096\" x2=\"496.857\" y2=\"225.129\" stroke-linecap=\"round\" style=\"stroke:white;stroke-width:4\"/><line x1=\"496.857\" y1=\"225.129\" x2=\"498.227\" y2=\"231.26\" stroke-linecap=\"round\" style=\"stroke:white;stroke-width:4\"/><line x1=\"498.227\" y1=\"231.26\" x2=\"499.21\" y2=\"237.465\" stroke-linecap=\"round\" style=\"stroke:white;stroke-width:4\"/><line x1=\"499.21\" y1=\"237.465\" x2=\"499.801\" y2=\"243.719\" stroke-linecap=\"round\" style=\"stroke:white;stroke-width:4\"/><line x1=\"499.801\" y1=\"243.719\" x2=\"499.998\" y2=\"249.998\" stroke-linecap=\"round\" style=\"stroke:white;stroke-width:4\"/><line x1=\"499.998\" y1=\"249.998\" x2=\"499.801\" y2=\"256.277\" stroke-linecap=\"round\" style=\"stroke:white;stroke-width:4\"/><line x1=\"499.801\" y1=\"256.277\" x2=\"499.21\" y2=\"262.531\" stroke-linecap=\"round\" style=\"stroke:white;stroke-width:4\"/><line x1=\"499.21\" y1=\"262.531\" x2=\"498.227\" y2=\"268.736\" stroke-linecap=\"round\" style=\"stroke:white;stroke-width:4\"/><line x1=\"498.227\" y1=\"268.736\" x2=\"496.857\" y2=\"274.867\" stroke-linecap=\"round\" style=\"stroke:white;stroke-width:4\"/><line x1=\"496.857\" y1=\"274.867\" x2=\"495.104\" y2=\"280.9\" stroke-linecap=\"round\" style=\"stroke:white;stroke-width:4\"/><line x1=\"495.104\" y1=\"280.9\" x2=\"492.976\" y2=\"286.811\" stroke-linecap=\"round\" style=\"stroke:white;stroke-width:4\"/><line x1=\"492.976\" y1=\"286.811\" x2=\"490.481\" y2=\"292.576\" stroke-linecap=\"round\" style=\"stroke:white;stroke-width:4\"/><line x1=\"490.481\" y1=\"292.576\" x2=\"487.629\" y2=\"298.173\" stroke-linecap=\"round\" style=\"stroke:white;stroke-width:4\"/><line x1=\"487.629\" y1=\"298.173\" x2=\"484.431\" y2=\"303.58\" stroke-linecap=\"round\" style=\"stroke:white;stroke-width:4\"/><line x1=\"484.431\" y1=\"303.58\" x2=\"480.9\" y2=\"308.776\" stroke-linecap=\"round\" style=\"stroke:white;stroke-width:4\"/><line x1=\"480.9\" y1=\"308.776\" x2=\"477.05\" y2=\"313.74\" stroke-linecap=\"round\" style=\"stroke:white;stroke-width:4\"/><line x1=\"477.05\" y1=\"313.74\" x2=\"472.896\" y2=\"318.452\" stroke-linecap=\"round\" style=\"stroke:white;stroke-width:4\"/><line x1=\"472.896\" y1=\"318.452\" x2=\"468.454\" y2=\"322.894\" stroke-linecap=\"round\" style=\"stroke:white;stroke-width:4\"/><line x1=\"468.454\" y1=\"322.894\" x2=\"463.742\" y2=\"327.048\" stroke-linecap=\"round\" style=\"stroke:white;stroke-width:4\"/><line x1=\"463.742\" y1=\"327.048\" x2=\"458.778\" y2=\"330.898\" stroke-linecap=\"round\" style=\"stroke:white;stroke-width:4\"/><line x1=\"458.778\" y1=\"330.898\" x2=\"453.582\" y2=\"334.429\" stroke-linecap=\"round\" style=\"stroke:white;stroke-width:4\"/><line x1=\"453.582\" y1=\"334.429\" x2=\"448.175\" y2=\"337.627\" stroke-linecap=\"round\" style=\"stroke:white;stroke-width:4\"/><line x1=\"448.175\" y1=\"337.627\" x2=\"442.578\" y2=\"340.479\" stroke-linecap=\"round\" style=\"stroke:white;stroke-width:4\"/><line x1=\"442.578\" y1=\"340.479\" x2=\"436.813\" y2=\"342.974\" stroke-linecap=\"round\" style=\"stroke:white;stroke-width:4\"/><line x1=\"436.813\" y1=\"342.974\" x2=\"430.902\" y2=\"345.102\" stroke-linecap=\"round\" style=\"stroke:white;stroke-width:4\"/><line x1=\"430.902\" y1=\"345.102\" x2=\"424.869\" y2=\"346.855\" stroke-linecap=\"round\" style=\"stroke:white;stroke-width:4\"/><line x1=\"424.869\" y1=\"346.855\" x2=\"418.738\" y2=\"348.225\" stroke-linecap=\"round\" style=\"stroke:white;stroke-width:4\"/><line x1=\"418.738\" y1=\"348.225\" x2=\"412.533\" y2=\"349.208\" stroke-linecap=\"round\" style=\"stroke:white;stroke-width:4\"/><line x1=\"412.533\" y1=\"349.208\" x2=\"406.279\" y2=\"349.799\" stroke-linecap=\"round\" style=\"stroke:white;stroke-width:4\"/><line x1=\"406.279\" y1=\"349.799\" x2=\"400.0\" y2=\"349.996\" stroke-linecap=\"round\" style=\"stroke:white;stroke-width:4\"/><line x1=\"400.0\" y1=\"349.996\" x2=\"393.721\" y2=\"349.799\" stroke-linecap=\"round\" style=\"stroke:white;stroke-width:4\"/><line x1=\"393.721\" y1=\"349.799\" x2=\"387.467\" y2=\"349.208\" stroke-linecap=\"round\" style=\"stroke:white;stroke-width:4\"/><line x1=\"387.467\" y1=\"349.208\" x2=\"381.262\" y2=\"348.225\" stroke-linecap=\"round\" style=\"stroke:white;stroke-width:4\"/><line x1=\"381.262\" y1=\"348.225\" x2=\"375.131\" y2=\"346.855\" stroke-linecap=\"round\" style=\"stroke:white;stroke-width:4\"/><line x1=\"375.131\" y1=\"346.855\" x2=\"369.098\" y2=\"345.102\" stroke-linecap=\"round\" style=\"stroke:white;stroke-width:4\"/><line x1=\"369.098\" y1=\"345.102\" x2=\"363.187\" y2=\"342.974\" stroke-linecap=\"round\" style=\"stroke:white;stroke-width:4\"/><line x1=\"363.187\" y1=\"342.974\" x2=\"357.422\" y2=\"340.479\" stroke-linecap=\"round\" style=\"stroke:white;stroke-width:4\"/><line x1=\"357.422\" y1=\"340.479\" x2=\"351.825\" y2=\"337.627\" stroke-linecap=\"round\" style=\"stroke:white;stroke-width:4\"/><line x1=\"351.825\" y1=\"337.627\" x2=\"346.418\" y2=\"334.429\" stroke-linecap=\"round\" style=\"stroke:white;stroke-width:4\"/><line x1=\"346.418\" y1=\"334.429\" x2=\"341.222\" y2=\"330.898\" stroke-linecap=\"round\" style=\"stroke:white;stroke-width:4\"/><line x1=\"341.222\" y1=\"330.898\" x2=\"336.258\" y2=\"327.048\" stroke-linecap=\"round\" style=\"stroke:white;stroke-width:4\"/><line x1=\"336.258\" y1=\"327.048\" x2=\"331.546\" y2=\"322.894\" stroke-linecap=\"round\" style=\"stroke:white;stroke-width:4\"/><line x1=\"331.546\" y1=\"322.894\" x2=\"327.104\" y2=\"318.452\" stroke-linecap=\"round\" style=\"stroke:white;stroke-width:4\"/><line x1=\"327.104\" y1=\"318.452\" x2=\"322.95\" y2=\"313.74\" stroke-linecap=\"round\" style=\"stroke:white;stroke-width:4\"/><line x1=\"322.95\" y1=\"313.74\" x2=\"319.1\" y2=\"308.776\" stroke-linecap=\"round\" style=\"stroke:white;stroke-width:4\"/><line x1=\"319.1\" y1=\"308.776\" x2=\"315.569\" y2=\"303.58\" stroke-linecap=\"round\" style=\"stroke:white;stroke-width:4\"/><line x1=\"315.569\" y1=\"303.58\" x2=\"312.371\" y2=\"298.173\" stroke-linecap=\"round\" style=\"stroke:white;stroke-width:4\"/><line x1=\"312.371\" y1=\"298.173\" x2=\"309.519\" y2=\"292.576\" stroke-linecap=\"round\" style=\"stroke:white;stroke-width:4\"/><line x1=\"309.519\" y1=\"292.576\" x2=\"307.024\" y2=\"286.811\" stroke-linecap=\"round\" style=\"stroke:white;stroke-width:4\"/><line x1=\"307.024\" y1=\"286.811\" x2=\"304.896\" y2=\"280.9\" stroke-linecap=\"round\" style=\"stroke:white;stroke-width:4\"/><line x1=\"304.896\" y1=\"280.9\" x2=\"303.143\" y2=\"274.867\" stroke-linecap=\"round\" style=\"stroke:white;stroke-width:4\"/><line x1=\"303.143\" y1=\"274.867\" x2=\"301.773\" y2=\"268.736\" stroke-linecap=\"round\" style=\"stroke:white;stroke-width:4\"/><line x1=\"301.773\" y1=\"268.736\" x2=\"300.79\" y2=\"262.531\" stroke-linecap=\"round\" style=\"stroke:white;stroke-width:4\"/><line x1=\"300.79\" y1=\"262.531\" x2=\"300.199\" y2=\"256.277\" stroke-linecap=\"round\" style=\"stroke:white;stroke-width:4\"/><line x1=\"300.199\" y1=\"256.277\" x2=\"300.002\" y2=\"249.998\" stroke-linecap=\"round\" style=\"stroke:white;stroke-width:4\"/><line x1=\"300.002\" y1=\"249.998\" x2=\"300.199\" y2=\"243.719\" stroke-linecap=\"round\" style=\"stroke:white;stroke-width:4\"/><line x1=\"300.199\" y1=\"243.719\" x2=\"300.79\" y2=\"237.465\" stroke-linecap=\"round\" style=\"stroke:white;stroke-width:4\"/><line x1=\"300.79\" y1=\"237.465\" x2=\"301.773\" y2=\"231.26\" stroke-linecap=\"round\" style=\"stroke:white;stroke-width:4\"/><line x1=\"301.773\" y1=\"231.26\" x2=\"303.143\" y2=\"225.129\" stroke-linecap=\"round\" style=\"stroke:white;stroke-width:4\"/><line x1=\"303.143\" y1=\"225.129\" x2=\"304.896\" y2=\"219.096\" stroke-linecap=\"round\" style=\"stroke:white;stroke-width:4\"/><line x1=\"304.896\" y1=\"219.096\" x2=\"307.024\" y2=\"213.185\" stroke-linecap=\"round\" style=\"stroke:white;stroke-width:4\"/><line x1=\"307.024\" y1=\"213.185\" x2=\"309.519\" y2=\"207.42\" stroke-linecap=\"round\" style=\"stroke:white;stroke-width:4\"/><line x1=\"309.519\" y1=\"207.42\" x2=\"312.371\" y2=\"201.823\" stroke-linecap=\"round\" style=\"stroke:white;stroke-width:4\"/><line x1=\"312.371\" y1=\"201.823\" x2=\"315.569\" y2=\"196.416\" stroke-linecap=\"round\" style=\"stroke:white;stroke-width:4\"/><line x1=\"315.569\" y1=\"196.416\" x2=\"319.1\" y2=\"191.22\" stroke-linecap=\"round\" style=\"stroke:white;stroke-width:4\"/><line x1=\"319.1\" y1=\"191.22\" x2=\"322.95\" y2=\"186.256\" stroke-linecap=\"round\" style=\"stroke:white;stroke-width:4\"/><line x1=\"322.95\" y1=\"186.256\" x2=\"327.104\" y2=\"181.544\" stroke-linecap=\"round\" style=\"stroke:white;stroke-width:4\"/><line x1=\"327.104\" y1=\"181.544\" x2=\"331.546\" y2=\"177.102\" stroke-linecap=\"round\" style=\"stroke:white;stroke-width:4\"/><line x1=\"331.546\" y1=\"177.102\" x2=\"336.258\" y2=\"172.948\" stroke-linecap=\"round\" style=\"stroke:white;stroke-width:4\"/><line x1=\"336.258\" y1=\"172.948\" x2=\"341.222\" y2=\"169.098\" stroke-linecap=\"round\" style=\"stroke:white;stroke-width:4\"/><line x1=\"341.222\" y1=\"169.098\" x2=\"346.418\" y2=\"165.567\" stroke-linecap=\"round\" style=\"stroke:white;stroke-width:4\"/><line x1=\"346.418\" y1=\"165.567\" x2=\"351.825\" y2=\"162.369\" stroke-linecap=\"round\" style=\"stroke:white;stroke-width:4\"/><line x1=\"351.825\" y1=\"162.369\" x2=\"357.422\" y2=\"159.517\" stroke-linecap=\"round\" style=\"stroke:white;stroke-width:4\"/><line x1=\"357.422\" y1=\"159.517\" x2=\"363.187\" y2=\"157.022\" stroke-linecap=\"round\" style=\"stroke:white;stroke-width:4\"/><line x1=\"363.187\" y1=\"157.022\" x2=\"369.098\" y2=\"154.894\" stroke-linecap=\"round\" style=\"stroke:white;stroke-width:4\"/><line x1=\"369.098\" y1=\"154.894\" x2=\"375.131\" y2=\"153.141\" stroke-linecap=\"round\" style=\"stroke:white;stroke-width:4\"/><line x1=\"375.131\" y1=\"153.141\" x2=\"381.262\" y2=\"151.771\" stroke-linecap=\"round\" style=\"stroke:white;stroke-width:4\"/><line x1=\"381.262\" y1=\"151.771\" x2=\"387.467\" y2=\"150.788\" stroke-linecap=\"round\" style=\"stroke:white;stroke-width:4\"/><line x1=\"387.467\" y1=\"150.788\" x2=\"393.721\" y2=\"150.197\" stroke-linecap=\"round\" style=\"stroke:white;stroke-width:4\"/><line x1=\"393.721\" y1=\"150.197\" x2=\"400.0\" y2=\"150.0\" stroke-linecap=\"round\" style=\"stroke:white;stroke-width:4\"/>\n",
              "        <g visibility=visible transform=\"rotate(91.80000000000041,400.0,150.0) translate(382.0, 132.0)\">\n",
              "<path style=\" stroke:none;fill-rule:evenodd;fill:white;fill-opacity:1;\" d=\"M 18.214844 0.632812 C 16.109375 1.800781 15.011719 4.074219 15.074219 7.132812 L 15.085938 7.652344 L 14.785156 7.496094 C 13.476562 6.824219 11.957031 6.671875 10.40625 7.066406 C 8.46875 7.550781 6.515625 9.15625 4.394531 11.992188 C 3.0625 13.777344 2.679688 14.636719 3.042969 15.027344 L 3.15625 15.152344 L 3.519531 15.152344 C 4.238281 15.152344 4.828125 14.886719 8.1875 13.039062 C 9.386719 12.378906 10.371094 11.839844 10.378906 11.839844 C 10.386719 11.839844 10.355469 11.929688 10.304688 12.035156 C 9.832031 13.09375 9.257812 14.820312 8.96875 16.078125 C 7.914062 20.652344 8.617188 24.53125 11.070312 27.660156 C 11.351562 28.015625 11.363281 27.914062 10.972656 28.382812 C 8.925781 30.84375 7.945312 33.28125 8.238281 35.1875 C 8.289062 35.527344 8.28125 35.523438 8.917969 35.523438 C 10.941406 35.523438 13.074219 34.207031 15.136719 31.6875 C 15.359375 31.417969 15.328125 31.425781 15.5625 31.574219 C 16.292969 32.042969 18.023438 32.964844 18.175781 32.964844 C 18.335938 32.964844 19.941406 32.210938 20.828125 31.71875 C 20.996094 31.625 21.136719 31.554688 21.136719 31.558594 C 21.203125 31.664062 21.898438 32.414062 22.222656 32.730469 C 23.835938 34.300781 25.5625 35.132812 27.582031 35.300781 C 27.90625 35.328125 27.9375 35.308594 28.007812 34.984375 C 28.382812 33.242188 27.625 30.925781 25.863281 28.425781 L 25.542969 27.96875 L 25.699219 27.785156 C 28.945312 23.960938 29.132812 18.699219 26.257812 11.96875 L 26.207031 11.84375 L 27.945312 12.703125 C 31.53125 14.476562 32.316406 14.800781 33.03125 14.800781 C 33.976562 14.800781 33.78125 13.9375 32.472656 12.292969 C 28.519531 7.355469 25.394531 5.925781 21.921875 7.472656 L 21.558594 7.636719 L 21.578125 7.542969 C 21.699219 6.992188 21.761719 5.742188 21.699219 5.164062 C 21.496094 3.296875 20.664062 1.964844 19.003906 0.855469 C 18.480469 0.503906 18.457031 0.5 18.214844 0.632812\"/>\n",
              "</g>\n",
              "      </svg>\n",
              "    "
            ]
          },
          "metadata": {}
        }
      ]
    }
  ]
}