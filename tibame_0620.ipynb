{
  "nbformat": 4,
  "nbformat_minor": 0,
  "metadata": {
    "colab": {
      "provenance": [],
      "authorship_tag": "ABX9TyP+toFKwiWgGUCxF7ncmK9/",
      "include_colab_link": true
    },
    "kernelspec": {
      "name": "python3",
      "display_name": "Python 3"
    },
    "language_info": {
      "name": "python"
    }
  },
  "cells": [
    {
      "cell_type": "markdown",
      "metadata": {
        "id": "view-in-github",
        "colab_type": "text"
      },
      "source": [
        "<a href=\"https://colab.research.google.com/github/Elwing-Chou/tibame_0618/blob/main/tibame_0620.ipynb\" target=\"_parent\"><img src=\"https://colab.research.google.com/assets/colab-badge.svg\" alt=\"Open In Colab\"/></a>"
      ]
    },
    {
      "cell_type": "markdown",
      "source": [
        "\n",
        "\n",
        "```\n",
        "WIN: -headers \"Origin: https://ani.gamer.com.tw\" -i \"\" anime.mp4\n",
        "\n",
        "MAC: -headers 'Origin: https://ani.gamer.com.tw' -i '' anime.mp4\n",
        "```\n",
        "\n"
      ],
      "metadata": {
        "id": "VEpXP9ITItiy"
      }
    },
    {
      "cell_type": "markdown",
      "source": [
        "\n",
        "\n",
        "```\n",
        "編碼: 我->010101\n",
        "解碼: 反過來\n",
        "\n",
        "以前: 繁體(BIG-5) 檢體(GBK) 英文(ASCII)\n",
        "現在: 萬國碼(Unicode) utf-8\n",
        "\n",
        "亂碼: 邊=/=解\n",
        "\n",
        "十進位: 0 1 2 ...9 10\n",
        "武進位: 0 1 2 3 4 10 11 12 13 14 ...44 100\n",
        "二進位: 0 1 10 11 100 101\n",
        "\n",
        "open的時候務必設定encoding=\"utf-8\"\n",
        "避免吃到系統預設編碼:\n",
        "MAC/Linux/Unix: utf-8\n",
        "WIN: ANSI(繁體:BIG5 檢體GBK)\n",
        "```\n",
        "\n"
      ],
      "metadata": {
        "id": "OtbYJO7KVcJS"
      }
    },
    {
      "cell_type": "code",
      "source": [
        "bin(ord(\"我\"))"
      ],
      "metadata": {
        "colab": {
          "base_uri": "https://localhost:8080/",
          "height": 35
        },
        "id": "ZIO5u1CUYO4J",
        "outputId": "e3e721c8-ec41-4ed3-e267-78a9e39b7a68"
      },
      "execution_count": null,
      "outputs": [
        {
          "output_type": "execute_result",
          "data": {
            "text/plain": [
              "'0b110001000010001'"
            ],
            "application/vnd.google.colaboratory.intrinsic+json": {
              "type": "string"
            }
          },
          "metadata": {},
          "execution_count": 2
        }
      ]
    },
    {
      "cell_type": "code",
      "execution_count": 4,
      "metadata": {
        "id": "woXB5a87Iq5f"
      },
      "outputs": [],
      "source": [
        "f = open(\"a.txt\", \"w\", encoding=\"utf-8\")\n",
        "# 以前: write(f, \"abvde\")\n",
        "# 專屬(型態)功能: f.write(\"abcde\")\n",
        "# \\n: newline \\t: tab\n",
        "f.write(\"abcde\\n\")\n",
        "f.write(\"ghijk\")\n",
        "# 以前: close(f)\n",
        "# 專屬: f.close()\n",
        "f.close()"
      ]
    },
    {
      "cell_type": "code",
      "source": [
        "f = open(\"a.txt\", \"r\", encoding=\"utf-8\")\n",
        "# content = read(f) -> content = f.read()\n",
        "content = f.read()\n",
        "print(content)\n",
        "content = f.read()\n",
        "print(content)\n",
        "f.close()"
      ],
      "metadata": {
        "colab": {
          "base_uri": "https://localhost:8080/"
        },
        "id": "cg8uOw4FifjZ",
        "outputId": "d722a7a6-256e-4b0f-f250-dbacdc442c14"
      },
      "execution_count": 5,
      "outputs": [
        {
          "output_type": "stream",
          "name": "stdout",
          "text": [
            "abcde\n",
            "ghijk\n",
            "\n"
          ]
        }
      ]
    },
    {
      "cell_type": "code",
      "source": [
        "scores = [30, 20, 80]\n",
        "print(len(scores))\n",
        "print(max(scores), min(scores), sum(scores))\n",
        "\n",
        "print(scores[0])\n",
        "# print(scores[len(scores)-1])\n",
        "# key1: 0 1 2\n",
        "# key2: -3 -2 -1\n",
        "print(scores[-1])\n",
        "\n",
        "i = 0\n",
        "while i < len(scores):\n",
        "    print(\"!\", scores[-i-1])\n",
        "    i = i + 1\n",
        "\n",
        "scores[-1] = 200\n",
        "print(scores)"
      ],
      "metadata": {
        "id": "KjcQoSjBkgwo"
      },
      "execution_count": null,
      "outputs": []
    },
    {
      "cell_type": "code",
      "source": [
        "scores = [80, 60, 20, 40]\n",
        "count = 0\n",
        "\n",
        "i = 0\n",
        "while i < len(scores):\n",
        "    # 這種拿法在無序的集合裡面gg\n",
        "    c = scores[i]\n",
        "    if c >= 60:\n",
        "        count = count + 1\n",
        "    i = i + 1\n",
        "\n",
        "print(count)"
      ],
      "metadata": {
        "colab": {
          "base_uri": "https://localhost:8080/"
        },
        "id": "Fh38lWdsmfeX",
        "outputId": "e0699b64-1497-4a81-d18b-23c9f5a6c8d1"
      },
      "execution_count": 13,
      "outputs": [
        {
          "output_type": "stream",
          "name": "stdout",
          "text": [
            "2\n"
          ]
        }
      ]
    },
    {
      "cell_type": "code",
      "source": [
        "scores = [80, 60, 20, 40]\n",
        "count = 0\n",
        "\n",
        "# 走過: for in\n",
        "for c in scores:\n",
        "    if c >= 60:\n",
        "        count = count + 1\n",
        "print(count)"
      ],
      "metadata": {
        "colab": {
          "base_uri": "https://localhost:8080/"
        },
        "id": "PjKRdL-CoO9n",
        "outputId": "54c6a4f1-8e35-449d-afa3-fee633060924"
      },
      "execution_count": 14,
      "outputs": [
        {
          "output_type": "stream",
          "name": "stdout",
          "text": [
            "2\n"
          ]
        }
      ]
    },
    {
      "cell_type": "code",
      "source": [
        "total = 0\n",
        "\n",
        "i = 0\n",
        "while i < 10:\n",
        "    total = total + (i + 1)\n",
        "    print(total)\n",
        "    i = i + 1"
      ],
      "metadata": {
        "id": "trmeiRx7pwQX"
      },
      "execution_count": null,
      "outputs": []
    },
    {
      "cell_type": "code",
      "source": [
        "# print(list(range(5)))\n",
        "# print(list(range(2, 5)))\n",
        "total = 0\n",
        "for i in range(10):\n",
        "    total = total + (i + 1)\n",
        "    print(total)"
      ],
      "metadata": {
        "id": "YBBiVl_OqGSY"
      },
      "execution_count": null,
      "outputs": []
    },
    {
      "cell_type": "markdown",
      "source": [
        "\n",
        "\n",
        "```\n",
        "迴圈SOP\n",
        "\n",
        "1. 走過一群(list/str): for 名稱 in list/str\n",
        "2. 固定幾次: for i in range(次)\n",
        "3. 其他條件: while  True+break\n",
        "\n",
        "```\n",
        "\n"
      ],
      "metadata": {
        "id": "1yJpJWlHvqdO"
      }
    },
    {
      "cell_type": "code",
      "source": [
        "trans = [\"_\", \"O\", \"X\"]\n",
        "board = [\n",
        "    [0, 1, 2],\n",
        "    [0, 2, 0],\n",
        "    [0, 1, 0]\n",
        "]\n",
        "\n",
        "for i in range(3):\n",
        "    line = \"\"\n",
        "    for j in range(3):\n",
        "        pos = board[i][j]\n",
        "        line = line + trans[pos] + \" \"\n",
        "    print(line)"
      ],
      "metadata": {
        "colab": {
          "base_uri": "https://localhost:8080/"
        },
        "id": "ZPzPe3qcvp_i",
        "outputId": "7c3b0044-5666-4af6-e2e0-0764303629a3"
      },
      "execution_count": 21,
      "outputs": [
        {
          "output_type": "stream",
          "name": "stdout",
          "text": [
            "_ O X \n",
            "_ X _ \n",
            "_ O _ \n"
          ]
        }
      ]
    }
  ]
}